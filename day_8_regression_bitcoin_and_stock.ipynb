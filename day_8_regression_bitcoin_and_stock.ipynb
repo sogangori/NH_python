{
 "cells": [
  {
   "cell_type": "markdown",
   "metadata": {},
   "source": [
    "5. 삼성 전자 주식 다음달 가격 얼마일까? (회귀)\n",
    "8. 비트코인 다음 달 어떻게 될까? (회귀)\n",
    "16. 전날 비트 코인 상승하면 다음날 주가와의 상관관계(correlation)"
   ]
  },
  {
   "cell_type": "markdown",
   "metadata": {},
   "source": [
    "1. 목표 설정\n",
    "  1. Y : 미래 30일의 국내 특정 주식과 비트코인의 종가\n",
    "  1. X : 최근 60일간의 데이터\n",
    "    1. step : 하루 간격\n",
    "    1. 양 : 1 년(2018년 6월 ~2019년 6월)\n",
    "1. 데이터 획득\n",
    "  1. 국내 기업 1개, 비트 코인 \n",
    "1. 데이터 통합\n",
    "  1. 두 데이터 날짜 기준으로 통합(axis=1)\n",
    "    1. 외국(2018-01-01), 국내(2018.1.1),(18.1.1)\n",
    "    1. 날짜 포맷을 (YYYY-MM-DD) 으로 변환 후 통합\n",
    "1. 데이터 정제\n",
    "  1. 누락\n",
    "1. 데이터 전처리  \n",
    "  1. 특수기호, 문자 > 수치 변환  \n",
    "1. 비트코인 가격 변화와 주가와의 상관관계(correlation)\n",
    "  1.cov()\n",
    "1. 입력X /출력Y 분리\n",
    "  1. m개의 x,y 쌍\n",
    "  1. x(m, 60, 15) (국내증시컬럼 + 비트코인컬럼) > reshape > (m, 60*15)\n",
    "  1. y(m, 30, 2) > (m, 30 * 2)  \n",
    "1. 학습용/검증용(test) 분리\n",
    "  1. 섞으면 안되므로 직접 분리\n",
    "  1. 가장 과거의 데이터 10% 를 검증용으로 사용\n",
    "1. 모델 선정\n",
    "  1. Ridge 모델. 학습용 데이터로 학습\n",
    "  1. 성능 측정\n",
    "1. 그래프로 시각화\n",
    "  1. 과거\n",
    "  1. 미래의 예측 predict( x(1, 60*15) )  > return  >  y_hat(1, 30 * 2)\n",
    "     1. 미래 예측(1, 30 * 2) > (30,2) > 국내(30), 비트코인(30) > 그래프로 그리기"
   ]
  },
  {
   "cell_type": "markdown",
   "metadata": {},
   "source": [
    "국내 기업 데이터 획득 6/1/2018 ~ 6/1/2019"
   ]
  },
  {
   "cell_type": "code",
   "execution_count": 4,
   "metadata": {},
   "outputs": [],
   "source": [
    "import numpy as np\n",
    "import pandas as pd\n",
    "import matplotlib.pyplot as plt"
   ]
  },
  {
   "cell_type": "code",
   "execution_count": 17,
   "metadata": {},
   "outputs": [],
   "source": [
    "#주소중간에 _day 가 추가됩니다\n",
    "samsung_url='https://finance.naver.com/item/sise_day.nhn?code=005930'"
   ]
  },
  {
   "cell_type": "code",
   "execution_count": 18,
   "metadata": {},
   "outputs": [
    {
     "data": {
      "text/plain": [
       "(15, 7)"
      ]
     },
     "execution_count": 18,
     "metadata": {},
     "output_type": "execute_result"
    }
   ],
   "source": [
    "tables = pd.read_html(samsung_url+'&page='+str(1))\n",
    "len(tables)\n",
    "samsung = tables[0]\n",
    "samsung.shape"
   ]
  },
  {
   "cell_type": "code",
   "execution_count": 31,
   "metadata": {},
   "outputs": [
    {
     "data": {
      "text/plain": [
       "27"
      ]
     },
     "execution_count": 31,
     "metadata": {},
     "output_type": "execute_result"
    }
   ],
   "source": [
    "samsungs = []\n",
    "for i in range(1, 28):\n",
    "    tables = pd.read_html(samsung_url+'&page='+str(i))\n",
    "    samsung = tables[0]\n",
    "    samsungs.append(samsung)\n",
    "len(samsungs)"
   ]
  },
  {
   "cell_type": "code",
   "execution_count": 32,
   "metadata": {},
   "outputs": [
    {
     "data": {
      "text/plain": [
       "(405, 7)"
      ]
     },
     "execution_count": 32,
     "metadata": {},
     "output_type": "execute_result"
    }
   ],
   "source": [
    "samsung = pd.concat(samsungs, axis=0)\n",
    "samsung.shape"
   ]
  },
  {
   "cell_type": "code",
   "execution_count": 36,
   "metadata": {},
   "outputs": [
    {
     "data": {
      "text/html": [
       "<div>\n",
       "<style scoped>\n",
       "    .dataframe tbody tr th:only-of-type {\n",
       "        vertical-align: middle;\n",
       "    }\n",
       "\n",
       "    .dataframe tbody tr th {\n",
       "        vertical-align: top;\n",
       "    }\n",
       "\n",
       "    .dataframe thead th {\n",
       "        text-align: right;\n",
       "    }\n",
       "</style>\n",
       "<table border=\"1\" class=\"dataframe\">\n",
       "  <thead>\n",
       "    <tr style=\"text-align: right;\">\n",
       "      <th></th>\n",
       "      <th>날짜</th>\n",
       "      <th>종가</th>\n",
       "      <th>전일비</th>\n",
       "      <th>시가</th>\n",
       "      <th>고가</th>\n",
       "      <th>저가</th>\n",
       "      <th>거래량</th>\n",
       "    </tr>\n",
       "  </thead>\n",
       "  <tbody>\n",
       "    <tr>\n",
       "      <th>10</th>\n",
       "      <td>2018.05.31</td>\n",
       "      <td>50700.0</td>\n",
       "      <td>1200.0</td>\n",
       "      <td>50400.0</td>\n",
       "      <td>50800.0</td>\n",
       "      <td>49850.0</td>\n",
       "      <td>63491109.0</td>\n",
       "    </tr>\n",
       "    <tr>\n",
       "      <th>11</th>\n",
       "      <td>2018.05.30</td>\n",
       "      <td>49500.0</td>\n",
       "      <td>1800.0</td>\n",
       "      <td>51300.0</td>\n",
       "      <td>51500.0</td>\n",
       "      <td>49100.0</td>\n",
       "      <td>20498098.0</td>\n",
       "    </tr>\n",
       "    <tr>\n",
       "      <th>12</th>\n",
       "      <td>2018.05.29</td>\n",
       "      <td>51300.0</td>\n",
       "      <td>1000.0</td>\n",
       "      <td>52200.0</td>\n",
       "      <td>52500.0</td>\n",
       "      <td>51300.0</td>\n",
       "      <td>8480437.0</td>\n",
       "    </tr>\n",
       "    <tr>\n",
       "      <th>13</th>\n",
       "      <td>2018.05.28</td>\n",
       "      <td>52300.0</td>\n",
       "      <td>400.0</td>\n",
       "      <td>52500.0</td>\n",
       "      <td>53000.0</td>\n",
       "      <td>52000.0</td>\n",
       "      <td>9787820.0</td>\n",
       "    </tr>\n",
       "    <tr>\n",
       "      <th>14</th>\n",
       "      <td>NaN</td>\n",
       "      <td>NaN</td>\n",
       "      <td>NaN</td>\n",
       "      <td>NaN</td>\n",
       "      <td>NaN</td>\n",
       "      <td>NaN</td>\n",
       "      <td>NaN</td>\n",
       "    </tr>\n",
       "  </tbody>\n",
       "</table>\n",
       "</div>"
      ],
      "text/plain": [
       "            날짜       종가     전일비       시가       고가       저가         거래량\n",
       "10  2018.05.31  50700.0  1200.0  50400.0  50800.0  49850.0  63491109.0\n",
       "11  2018.05.30  49500.0  1800.0  51300.0  51500.0  49100.0  20498098.0\n",
       "12  2018.05.29  51300.0  1000.0  52200.0  52500.0  51300.0   8480437.0\n",
       "13  2018.05.28  52300.0   400.0  52500.0  53000.0  52000.0   9787820.0\n",
       "14         NaN      NaN     NaN      NaN      NaN      NaN         NaN"
      ]
     },
     "execution_count": 36,
     "metadata": {},
     "output_type": "execute_result"
    }
   ],
   "source": [
    "samsung.tail()"
   ]
  },
  {
   "cell_type": "code",
   "execution_count": 44,
   "metadata": {
    "scrolled": true
   },
   "outputs": [
    {
     "data": {
      "text/plain": [
       "2"
      ]
     },
     "execution_count": 44,
     "metadata": {},
     "output_type": "execute_result"
    }
   ],
   "source": [
    "bitcoin_url = 'https://coinmarketcap.com/currencies/bitcoin/historical-data/'\n",
    "bitcoin_url +='?start=20180601&end=20190601'\n",
    "tables = pd.read_html(bitcoin_url)\n",
    "bitcoin = tables[0]\n",
    "len(tables)"
   ]
  },
  {
   "cell_type": "code",
   "execution_count": 51,
   "metadata": {},
   "outputs": [
    {
     "data": {
      "text/html": [
       "<div>\n",
       "<style scoped>\n",
       "    .dataframe tbody tr th:only-of-type {\n",
       "        vertical-align: middle;\n",
       "    }\n",
       "\n",
       "    .dataframe tbody tr th {\n",
       "        vertical-align: top;\n",
       "    }\n",
       "\n",
       "    .dataframe thead th {\n",
       "        text-align: right;\n",
       "    }\n",
       "</style>\n",
       "<table border=\"1\" class=\"dataframe\">\n",
       "  <thead>\n",
       "    <tr style=\"text-align: right;\">\n",
       "      <th></th>\n",
       "      <th>Date</th>\n",
       "      <th>Open*</th>\n",
       "      <th>High</th>\n",
       "      <th>Low</th>\n",
       "      <th>Close**</th>\n",
       "      <th>Volume</th>\n",
       "      <th>Market Cap</th>\n",
       "    </tr>\n",
       "  </thead>\n",
       "  <tbody>\n",
       "    <tr>\n",
       "      <th>0</th>\n",
       "      <td>Jun 01, 2019</td>\n",
       "      <td>8573.84</td>\n",
       "      <td>8625.60</td>\n",
       "      <td>8481.58</td>\n",
       "      <td>8564.02</td>\n",
       "      <td>22488303544</td>\n",
       "      <td>151890214310</td>\n",
       "    </tr>\n",
       "    <tr>\n",
       "      <th>1</th>\n",
       "      <td>May 31, 2019</td>\n",
       "      <td>8320.29</td>\n",
       "      <td>8586.66</td>\n",
       "      <td>8172.55</td>\n",
       "      <td>8574.50</td>\n",
       "      <td>25365190957</td>\n",
       "      <td>152059886414</td>\n",
       "    </tr>\n",
       "  </tbody>\n",
       "</table>\n",
       "</div>"
      ],
      "text/plain": [
       "           Date    Open*     High      Low  Close**       Volume    Market Cap\n",
       "0  Jun 01, 2019  8573.84  8625.60  8481.58  8564.02  22488303544  151890214310\n",
       "1  May 31, 2019  8320.29  8586.66  8172.55  8574.50  25365190957  152059886414"
      ]
     },
     "execution_count": 51,
     "metadata": {},
     "output_type": "execute_result"
    }
   ],
   "source": [
    "bitcoin.head(2)"
   ]
  },
  {
   "cell_type": "code",
   "execution_count": 52,
   "metadata": {
    "scrolled": true
   },
   "outputs": [
    {
     "data": {
      "text/html": [
       "<div>\n",
       "<style scoped>\n",
       "    .dataframe tbody tr th:only-of-type {\n",
       "        vertical-align: middle;\n",
       "    }\n",
       "\n",
       "    .dataframe tbody tr th {\n",
       "        vertical-align: top;\n",
       "    }\n",
       "\n",
       "    .dataframe thead th {\n",
       "        text-align: right;\n",
       "    }\n",
       "</style>\n",
       "<table border=\"1\" class=\"dataframe\">\n",
       "  <thead>\n",
       "    <tr style=\"text-align: right;\">\n",
       "      <th></th>\n",
       "      <th>날짜</th>\n",
       "      <th>종가</th>\n",
       "      <th>전일비</th>\n",
       "      <th>시가</th>\n",
       "      <th>고가</th>\n",
       "      <th>저가</th>\n",
       "      <th>거래량</th>\n",
       "    </tr>\n",
       "  </thead>\n",
       "  <tbody>\n",
       "    <tr>\n",
       "      <th>0</th>\n",
       "      <td>NaN</td>\n",
       "      <td>NaN</td>\n",
       "      <td>NaN</td>\n",
       "      <td>NaN</td>\n",
       "      <td>NaN</td>\n",
       "      <td>NaN</td>\n",
       "      <td>NaN</td>\n",
       "    </tr>\n",
       "    <tr>\n",
       "      <th>1</th>\n",
       "      <td>2019.07.03</td>\n",
       "      <td>45700.0</td>\n",
       "      <td>550.0</td>\n",
       "      <td>45750.0</td>\n",
       "      <td>46350.0</td>\n",
       "      <td>45600.0</td>\n",
       "      <td>3502562.0</td>\n",
       "    </tr>\n",
       "  </tbody>\n",
       "</table>\n",
       "</div>"
      ],
      "text/plain": [
       "           날짜       종가    전일비       시가       고가       저가        거래량\n",
       "0         NaN      NaN    NaN      NaN      NaN      NaN        NaN\n",
       "1  2019.07.03  45700.0  550.0  45750.0  46350.0  45600.0  3502562.0"
      ]
     },
     "execution_count": 52,
     "metadata": {},
     "output_type": "execute_result"
    }
   ],
   "source": [
    "samsung.head(2)"
   ]
  },
  {
   "cell_type": "code",
   "execution_count": 53,
   "metadata": {},
   "outputs": [
    {
     "data": {
      "text/plain": [
       "((366, 7), (405, 7))"
      ]
     },
     "execution_count": 53,
     "metadata": {},
     "output_type": "execute_result"
    }
   ],
   "source": [
    "bitcoin.shape, samsung.shape"
   ]
  },
  {
   "cell_type": "markdown",
   "metadata": {},
   "source": [
    "데이터 통합\n",
    "- 두 데이터 날짜 기준으로 통합(axis=1)\n",
    "- 외국(2018-01-01), 국내(2018.1.1),(18.1.1)\n",
    "- 날짜 포맷을 (YYYY-MM-DD) 으로 변환 후 통합"
   ]
  },
  {
   "cell_type": "code",
   "execution_count": null,
   "metadata": {},
   "outputs": [],
   "source": [
    "#날짜를 인덱스로\n",
    "samsung = samsung.set_index('날짜')"
   ]
  },
  {
   "cell_type": "code",
   "execution_count": 56,
   "metadata": {},
   "outputs": [],
   "source": [
    "bitcoin = bitcoin.set_index('Date')"
   ]
  },
  {
   "cell_type": "code",
   "execution_count": 65,
   "metadata": {},
   "outputs": [
    {
     "data": {
      "text/plain": [
       "DatetimeIndex(['2019-06-01', '2019-05-31', '2019-05-30', '2019-05-29',\n",
       "               '2019-05-28', '2019-05-27', '2019-05-26', '2019-05-25',\n",
       "               '2019-05-24', '2019-05-23',\n",
       "               ...\n",
       "               '2018-06-10', '2018-06-09', '2018-06-08', '2018-06-07',\n",
       "               '2018-06-06', '2018-06-05', '2018-06-04', '2018-06-03',\n",
       "               '2018-06-02', '2018-06-01'],\n",
       "              dtype='datetime64[ns]', name='Date', length=366, freq=None)"
      ]
     },
     "execution_count": 65,
     "metadata": {},
     "output_type": "execute_result"
    }
   ],
   "source": [
    "# 인덱스 타입이 object\n",
    "pd.to_datetime(bitcoin.index) #비트 코인의 인덱스를 날짜로 바꾸기"
   ]
  },
  {
   "cell_type": "code",
   "execution_count": 66,
   "metadata": {},
   "outputs": [
    {
     "data": {
      "text/plain": [
       "DatetimeIndex([       'NaT', '2019-07-03', '2019-07-02', '2019-07-01',\n",
       "               '2019-06-28', '2019-06-27',        'NaT',        'NaT',\n",
       "                      'NaT', '2019-06-26',\n",
       "               ...\n",
       "               '2018-06-04',        'NaT',        'NaT',        'NaT',\n",
       "               '2018-06-01', '2018-05-31', '2018-05-30', '2018-05-29',\n",
       "               '2018-05-28',        'NaT'],\n",
       "              dtype='datetime64[ns]', name='날짜', length=405, freq=None)"
      ]
     },
     "execution_count": 66,
     "metadata": {},
     "output_type": "execute_result"
    }
   ],
   "source": [
    "pd.to_datetime(samsung.index)"
   ]
  },
  {
   "cell_type": "code",
   "execution_count": 67,
   "metadata": {},
   "outputs": [],
   "source": [
    "#인덱스 타입을 날짜 타입으로 변환\n",
    "bitcoin.index = pd.to_datetime(bitcoin.index)\n",
    "samsung.index = pd.to_datetime(samsung.index)"
   ]
  },
  {
   "cell_type": "code",
   "execution_count": 73,
   "metadata": {
    "scrolled": true
   },
   "outputs": [
    {
     "data": {
      "text/plain": [
       "(244, 12)"
      ]
     },
     "execution_count": 73,
     "metadata": {},
     "output_type": "execute_result"
    }
   ],
   "source": [
    "#통합\n",
    "df = pd.concat((samsung, bitcoin), axis=1).dropna()\n",
    "df.shape"
   ]
  },
  {
   "cell_type": "code",
   "execution_count": 80,
   "metadata": {
    "scrolled": true
   },
   "outputs": [
    {
     "data": {
      "text/plain": [
       "0"
      ]
     },
     "execution_count": 80,
     "metadata": {},
     "output_type": "execute_result"
    }
   ],
   "source": [
    "df.isna().sum().sum() # 누락값 없다"
   ]
  },
  {
   "cell_type": "code",
   "execution_count": null,
   "metadata": {},
   "outputs": [],
   "source": [
    "df.describe()"
   ]
  },
  {
   "cell_type": "markdown",
   "metadata": {},
   "source": [
    "전날 비트 코인 상승하면 다음날 주가와의 상관관계(correlation)"
   ]
  },
  {
   "cell_type": "code",
   "execution_count": 92,
   "metadata": {},
   "outputs": [],
   "source": [
    "비트코인변화 = df['Open*'] -  df['Close**']\n",
    "주가변화 =  df['시가'] -  df['종가']\n",
    "과거비트코인변화 = 비트코인변화.iloc[:-1]\n",
    "다음날주가변화 = 주가변화.iloc[1:]"
   ]
  },
  {
   "cell_type": "code",
   "execution_count": 99,
   "metadata": {},
   "outputs": [
    {
     "data": {
      "text/plain": [
       "array([[ 1.        , -0.07316871],\n",
       "       [-0.07316871,  1.        ]])"
      ]
     },
     "execution_count": 99,
     "metadata": {},
     "output_type": "execute_result"
    }
   ],
   "source": [
    "np.corrcoef(과거비트코인변화, 다음날주가변화)\n",
    "#상관계수가 0에 가까우므로 둘은 상관관계가 거의 없습니다"
   ]
  },
  {
   "cell_type": "code",
   "execution_count": 94,
   "metadata": {},
   "outputs": [
    {
     "data": {
      "image/png": "[encoded data removed]",
      "text/plain": [
       "<Figure size 432x288 with 1 Axes>"
      ]
     },
     "metadata": {
      "needs_background": "light"
     },
     "output_type": "display_data"
    }
   ],
   "source": [
    "p = plt.scatter(과거비트코인변화, 다음날주가변화)"
   ]
  },
  {
   "cell_type": "code",
   "execution_count": 83,
   "metadata": {},
   "outputs": [
    {
     "data": {
      "text/html": [
       "<div>\n",
       "<style scoped>\n",
       "    .dataframe tbody tr th:only-of-type {\n",
       "        vertical-align: middle;\n",
       "    }\n",
       "\n",
       "    .dataframe tbody tr th {\n",
       "        vertical-align: top;\n",
       "    }\n",
       "\n",
       "    .dataframe thead th {\n",
       "        text-align: right;\n",
       "    }\n",
       "</style>\n",
       "<table border=\"1\" class=\"dataframe\">\n",
       "  <thead>\n",
       "    <tr style=\"text-align: right;\">\n",
       "      <th></th>\n",
       "      <th>종가</th>\n",
       "      <th>전일비</th>\n",
       "      <th>시가</th>\n",
       "      <th>고가</th>\n",
       "      <th>저가</th>\n",
       "      <th>거래량</th>\n",
       "      <th>Open*</th>\n",
       "      <th>High</th>\n",
       "      <th>Low</th>\n",
       "      <th>Close**</th>\n",
       "      <th>Volume</th>\n",
       "      <th>Market Cap</th>\n",
       "    </tr>\n",
       "  </thead>\n",
       "  <tbody>\n",
       "    <tr>\n",
       "      <th>2018-06-01</th>\n",
       "      <td>51300.0</td>\n",
       "      <td>600.0</td>\n",
       "      <td>50500.0</td>\n",
       "      <td>51700.0</td>\n",
       "      <td>49950.0</td>\n",
       "      <td>13038499.0</td>\n",
       "      <td>7500.70</td>\n",
       "      <td>7604.73</td>\n",
       "      <td>7407.34</td>\n",
       "      <td>7541.45</td>\n",
       "      <td>4.921460e+09</td>\n",
       "      <td>1.287259e+11</td>\n",
       "    </tr>\n",
       "    <tr>\n",
       "      <th>2018-06-04</th>\n",
       "      <td>51100.0</td>\n",
       "      <td>200.0</td>\n",
       "      <td>50800.0</td>\n",
       "      <td>51200.0</td>\n",
       "      <td>50700.0</td>\n",
       "      <td>9767171.0</td>\n",
       "      <td>7722.53</td>\n",
       "      <td>7753.82</td>\n",
       "      <td>7474.04</td>\n",
       "      <td>7514.47</td>\n",
       "      <td>4.993170e+09</td>\n",
       "      <td>1.283122e+11</td>\n",
       "    </tr>\n",
       "    <tr>\n",
       "      <th>2018-06-05</th>\n",
       "      <td>51300.0</td>\n",
       "      <td>200.0</td>\n",
       "      <td>51100.0</td>\n",
       "      <td>51400.0</td>\n",
       "      <td>50400.0</td>\n",
       "      <td>9144100.0</td>\n",
       "      <td>7500.90</td>\n",
       "      <td>7643.23</td>\n",
       "      <td>7397.00</td>\n",
       "      <td>7633.76</td>\n",
       "      <td>4.961740e+09</td>\n",
       "      <td>1.303659e+11</td>\n",
       "    </tr>\n",
       "    <tr>\n",
       "      <th>2018-06-07</th>\n",
       "      <td>50600.0</td>\n",
       "      <td>700.0</td>\n",
       "      <td>51800.0</td>\n",
       "      <td>51800.0</td>\n",
       "      <td>50500.0</td>\n",
       "      <td>13590016.0</td>\n",
       "      <td>7650.82</td>\n",
       "      <td>7741.27</td>\n",
       "      <td>7650.82</td>\n",
       "      <td>7678.24</td>\n",
       "      <td>4.485800e+09</td>\n",
       "      <td>1.311532e+11</td>\n",
       "    </tr>\n",
       "    <tr>\n",
       "      <th>2018-06-08</th>\n",
       "      <td>49650.0</td>\n",
       "      <td>950.0</td>\n",
       "      <td>50200.0</td>\n",
       "      <td>50400.0</td>\n",
       "      <td>49600.0</td>\n",
       "      <td>16951706.0</td>\n",
       "      <td>7685.14</td>\n",
       "      <td>7698.19</td>\n",
       "      <td>7558.40</td>\n",
       "      <td>7624.92</td>\n",
       "      <td>4.227580e+09</td>\n",
       "      <td>1.302562e+11</td>\n",
       "    </tr>\n",
       "  </tbody>\n",
       "</table>\n",
       "</div>"
      ],
      "text/plain": [
       "                 종가    전일비       시가       고가       저가         거래량    Open*  \\\n",
       "2018-06-01  51300.0  600.0  50500.0  51700.0  49950.0  13038499.0  7500.70   \n",
       "2018-06-04  51100.0  200.0  50800.0  51200.0  50700.0   9767171.0  7722.53   \n",
       "2018-06-05  51300.0  200.0  51100.0  51400.0  50400.0   9144100.0  7500.90   \n",
       "2018-06-07  50600.0  700.0  51800.0  51800.0  50500.0  13590016.0  7650.82   \n",
       "2018-06-08  49650.0  950.0  50200.0  50400.0  49600.0  16951706.0  7685.14   \n",
       "\n",
       "               High      Low  Close**        Volume    Market Cap  \n",
       "2018-06-01  7604.73  7407.34  7541.45  4.921460e+09  1.287259e+11  \n",
       "2018-06-04  7753.82  7474.04  7514.47  4.993170e+09  1.283122e+11  \n",
       "2018-06-05  7643.23  7397.00  7633.76  4.961740e+09  1.303659e+11  \n",
       "2018-06-07  7741.27  7650.82  7678.24  4.485800e+09  1.311532e+11  \n",
       "2018-06-08  7698.19  7558.40  7624.92  4.227580e+09  1.302562e+11  "
      ]
     },
     "execution_count": 83,
     "metadata": {},
     "output_type": "execute_result"
    }
   ],
   "source": [
    "df.head()"
   ]
  },
  {
   "cell_type": "code",
   "execution_count": null,
   "metadata": {},
   "outputs": [],
   "source": [
    "비트코인종가 = df['Close**']\n",
    "전날비트코인가격변화 = "
   ]
  },
  {
   "cell_type": "code",
   "execution_count": 81,
   "metadata": {},
   "outputs": [
    {
     "data": {
      "text/html": [
       "<div>\n",
       "<style scoped>\n",
       "    .dataframe tbody tr th:only-of-type {\n",
       "        vertical-align: middle;\n",
       "    }\n",
       "\n",
       "    .dataframe tbody tr th {\n",
       "        vertical-align: top;\n",
       "    }\n",
       "\n",
       "    .dataframe thead th {\n",
       "        text-align: right;\n",
       "    }\n",
       "</style>\n",
       "<table border=\"1\" class=\"dataframe\">\n",
       "  <thead>\n",
       "    <tr style=\"text-align: right;\">\n",
       "      <th></th>\n",
       "      <th>종가</th>\n",
       "      <th>전일비</th>\n",
       "      <th>시가</th>\n",
       "      <th>고가</th>\n",
       "      <th>저가</th>\n",
       "      <th>거래량</th>\n",
       "      <th>Open*</th>\n",
       "      <th>High</th>\n",
       "      <th>Low</th>\n",
       "      <th>Close**</th>\n",
       "      <th>Volume</th>\n",
       "      <th>Market Cap</th>\n",
       "    </tr>\n",
       "  </thead>\n",
       "  <tbody>\n",
       "    <tr>\n",
       "      <th>종가</th>\n",
       "      <td>6.846078e+06</td>\n",
       "      <td>-1.755498e+04</td>\n",
       "      <td>6.807220e+06</td>\n",
       "      <td>6.780417e+06</td>\n",
       "      <td>6.748902e+06</td>\n",
       "      <td>-1.768174e+09</td>\n",
       "      <td>1.509873e+06</td>\n",
       "      <td>1.509372e+06</td>\n",
       "      <td>1.519761e+06</td>\n",
       "      <td>1.530810e+06</td>\n",
       "      <td>-1.766514e+12</td>\n",
       "      <td>2.530176e+13</td>\n",
       "    </tr>\n",
       "    <tr>\n",
       "      <th>전일비</th>\n",
       "      <td>-1.755498e+04</td>\n",
       "      <td>1.984669e+05</td>\n",
       "      <td>-1.146445e+04</td>\n",
       "      <td>2.638181e+04</td>\n",
       "      <td>-4.971497e+04</td>\n",
       "      <td>8.561799e+08</td>\n",
       "      <td>-1.569126e+04</td>\n",
       "      <td>-2.158713e+04</td>\n",
       "      <td>-1.742792e+04</td>\n",
       "      <td>-2.561715e+04</td>\n",
       "      <td>-1.813583e+11</td>\n",
       "      <td>-4.628508e+11</td>\n",
       "    </tr>\n",
       "    <tr>\n",
       "      <th>시가</th>\n",
       "      <td>6.807220e+06</td>\n",
       "      <td>-1.146445e+04</td>\n",
       "      <td>7.094596e+06</td>\n",
       "      <td>6.898380e+06</td>\n",
       "      <td>6.874931e+06</td>\n",
       "      <td>-1.543646e+09</td>\n",
       "      <td>1.544614e+06</td>\n",
       "      <td>1.544355e+06</td>\n",
       "      <td>1.547371e+06</td>\n",
       "      <td>1.560183e+06</td>\n",
       "      <td>-1.646136e+12</td>\n",
       "      <td>2.579749e+13</td>\n",
       "    </tr>\n",
       "    <tr>\n",
       "      <th>고가</th>\n",
       "      <td>6.780417e+06</td>\n",
       "      <td>2.638181e+04</td>\n",
       "      <td>6.898380e+06</td>\n",
       "      <td>6.845196e+06</td>\n",
       "      <td>6.757650e+06</td>\n",
       "      <td>-1.307755e+09</td>\n",
       "      <td>1.532320e+06</td>\n",
       "      <td>1.531849e+06</td>\n",
       "      <td>1.541699e+06</td>\n",
       "      <td>1.551951e+06</td>\n",
       "      <td>-1.657222e+12</td>\n",
       "      <td>2.567207e+13</td>\n",
       "    </tr>\n",
       "    <tr>\n",
       "      <th>저가</th>\n",
       "      <td>6.748902e+06</td>\n",
       "      <td>-4.971497e+04</td>\n",
       "      <td>6.874931e+06</td>\n",
       "      <td>6.757650e+06</td>\n",
       "      <td>6.786465e+06</td>\n",
       "      <td>-1.902252e+09</td>\n",
       "      <td>1.518191e+06</td>\n",
       "      <td>1.521359e+06</td>\n",
       "      <td>1.524395e+06</td>\n",
       "      <td>1.540312e+06</td>\n",
       "      <td>-1.758229e+12</td>\n",
       "      <td>2.544846e+13</td>\n",
       "    </tr>\n",
       "    <tr>\n",
       "      <th>거래량</th>\n",
       "      <td>-1.768174e+09</td>\n",
       "      <td>8.561799e+08</td>\n",
       "      <td>-1.543646e+09</td>\n",
       "      <td>-1.307755e+09</td>\n",
       "      <td>-1.902252e+09</td>\n",
       "      <td>1.539529e+13</td>\n",
       "      <td>-6.895658e+08</td>\n",
       "      <td>-7.620610e+08</td>\n",
       "      <td>-6.713624e+08</td>\n",
       "      <td>-7.452021e+08</td>\n",
       "      <td>8.860541e+14</td>\n",
       "      <td>-1.248894e+16</td>\n",
       "    </tr>\n",
       "    <tr>\n",
       "      <th>Open*</th>\n",
       "      <td>1.509873e+06</td>\n",
       "      <td>-1.569126e+04</td>\n",
       "      <td>1.544614e+06</td>\n",
       "      <td>1.532320e+06</td>\n",
       "      <td>1.518191e+06</td>\n",
       "      <td>-6.895658e+08</td>\n",
       "      <td>2.294040e+06</td>\n",
       "      <td>2.326722e+06</td>\n",
       "      <td>2.226557e+06</td>\n",
       "      <td>2.271367e+06</td>\n",
       "      <td>1.577697e+12</td>\n",
       "      <td>3.895097e+13</td>\n",
       "    </tr>\n",
       "    <tr>\n",
       "      <th>High</th>\n",
       "      <td>1.509372e+06</td>\n",
       "      <td>-2.158713e+04</td>\n",
       "      <td>1.544355e+06</td>\n",
       "      <td>1.531849e+06</td>\n",
       "      <td>1.521359e+06</td>\n",
       "      <td>-7.620610e+08</td>\n",
       "      <td>2.326722e+06</td>\n",
       "      <td>2.380016e+06</td>\n",
       "      <td>2.264298e+06</td>\n",
       "      <td>2.324452e+06</td>\n",
       "      <td>1.850203e+12</td>\n",
       "      <td>3.988235e+13</td>\n",
       "    </tr>\n",
       "    <tr>\n",
       "      <th>Low</th>\n",
       "      <td>1.519761e+06</td>\n",
       "      <td>-1.742792e+04</td>\n",
       "      <td>1.547371e+06</td>\n",
       "      <td>1.541699e+06</td>\n",
       "      <td>1.524395e+06</td>\n",
       "      <td>-6.713624e+08</td>\n",
       "      <td>2.226557e+06</td>\n",
       "      <td>2.264298e+06</td>\n",
       "      <td>2.181327e+06</td>\n",
       "      <td>2.226544e+06</td>\n",
       "      <td>1.453797e+12</td>\n",
       "      <td>3.818191e+13</td>\n",
       "    </tr>\n",
       "    <tr>\n",
       "      <th>Close**</th>\n",
       "      <td>1.530810e+06</td>\n",
       "      <td>-2.561715e+04</td>\n",
       "      <td>1.560183e+06</td>\n",
       "      <td>1.551951e+06</td>\n",
       "      <td>1.540312e+06</td>\n",
       "      <td>-7.452021e+08</td>\n",
       "      <td>2.271367e+06</td>\n",
       "      <td>2.324452e+06</td>\n",
       "      <td>2.226544e+06</td>\n",
       "      <td>2.287781e+06</td>\n",
       "      <td>1.706507e+12</td>\n",
       "      <td>3.925147e+13</td>\n",
       "    </tr>\n",
       "    <tr>\n",
       "      <th>Volume</th>\n",
       "      <td>-1.766514e+12</td>\n",
       "      <td>-1.813583e+11</td>\n",
       "      <td>-1.646136e+12</td>\n",
       "      <td>-1.657222e+12</td>\n",
       "      <td>-1.758229e+12</td>\n",
       "      <td>8.860541e+14</td>\n",
       "      <td>1.577697e+12</td>\n",
       "      <td>1.850203e+12</td>\n",
       "      <td>1.453797e+12</td>\n",
       "      <td>1.706507e+12</td>\n",
       "      <td>3.876248e+19</td>\n",
       "      <td>3.587102e+19</td>\n",
       "    </tr>\n",
       "    <tr>\n",
       "      <th>Market Cap</th>\n",
       "      <td>2.530176e+13</td>\n",
       "      <td>-4.628508e+11</td>\n",
       "      <td>2.579749e+13</td>\n",
       "      <td>2.567207e+13</td>\n",
       "      <td>2.544846e+13</td>\n",
       "      <td>-1.248894e+16</td>\n",
       "      <td>3.895097e+13</td>\n",
       "      <td>3.988235e+13</td>\n",
       "      <td>3.818191e+13</td>\n",
       "      <td>3.925147e+13</td>\n",
       "      <td>3.587102e+19</td>\n",
       "      <td>6.748424e+20</td>\n",
       "    </tr>\n",
       "  </tbody>\n",
       "</table>\n",
       "</div>"
      ],
      "text/plain": [
       "                      종가           전일비            시가            고가  \\\n",
       "종가          6.846078e+06 -1.755498e+04  6.807220e+06  6.780417e+06   \n",
       "전일비        -1.755498e+04  1.984669e+05 -1.146445e+04  2.638181e+04   \n",
       "시가          6.807220e+06 -1.146445e+04  7.094596e+06  6.898380e+06   \n",
       "고가          6.780417e+06  2.638181e+04  6.898380e+06  6.845196e+06   \n",
       "저가          6.748902e+06 -4.971497e+04  6.874931e+06  6.757650e+06   \n",
       "거래량        -1.768174e+09  8.561799e+08 -1.543646e+09 -1.307755e+09   \n",
       "Open*       1.509873e+06 -1.569126e+04  1.544614e+06  1.532320e+06   \n",
       "High        1.509372e+06 -2.158713e+04  1.544355e+06  1.531849e+06   \n",
       "Low         1.519761e+06 -1.742792e+04  1.547371e+06  1.541699e+06   \n",
       "Close**     1.530810e+06 -2.561715e+04  1.560183e+06  1.551951e+06   \n",
       "Volume     -1.766514e+12 -1.813583e+11 -1.646136e+12 -1.657222e+12   \n",
       "Market Cap  2.530176e+13 -4.628508e+11  2.579749e+13  2.567207e+13   \n",
       "\n",
       "                      저가           거래량         Open*          High  \\\n",
       "종가          6.748902e+06 -1.768174e+09  1.509873e+06  1.509372e+06   \n",
       "전일비        -4.971497e+04  8.561799e+08 -1.569126e+04 -2.158713e+04   \n",
       "시가          6.874931e+06 -1.543646e+09  1.544614e+06  1.544355e+06   \n",
       "고가          6.757650e+06 -1.307755e+09  1.532320e+06  1.531849e+06   \n",
       "저가          6.786465e+06 -1.902252e+09  1.518191e+06  1.521359e+06   \n",
       "거래량        -1.902252e+09  1.539529e+13 -6.895658e+08 -7.620610e+08   \n",
       "Open*       1.518191e+06 -6.895658e+08  2.294040e+06  2.326722e+06   \n",
       "High        1.521359e+06 -7.620610e+08  2.326722e+06  2.380016e+06   \n",
       "Low         1.524395e+06 -6.713624e+08  2.226557e+06  2.264298e+06   \n",
       "Close**     1.540312e+06 -7.452021e+08  2.271367e+06  2.324452e+06   \n",
       "Volume     -1.758229e+12  8.860541e+14  1.577697e+12  1.850203e+12   \n",
       "Market Cap  2.544846e+13 -1.248894e+16  3.895097e+13  3.988235e+13   \n",
       "\n",
       "                     Low       Close**        Volume    Market Cap  \n",
       "종가          1.519761e+06  1.530810e+06 -1.766514e+12  2.530176e+13  \n",
       "전일비        -1.742792e+04 -2.561715e+04 -1.813583e+11 -4.628508e+11  \n",
       "시가          1.547371e+06  1.560183e+06 -1.646136e+12  2.579749e+13  \n",
       "고가          1.541699e+06  1.551951e+06 -1.657222e+12  2.567207e+13  \n",
       "저가          1.524395e+06  1.540312e+06 -1.758229e+12  2.544846e+13  \n",
       "거래량        -6.713624e+08 -7.452021e+08  8.860541e+14 -1.248894e+16  \n",
       "Open*       2.226557e+06  2.271367e+06  1.577697e+12  3.895097e+13  \n",
       "High        2.264298e+06  2.324452e+06  1.850203e+12  3.988235e+13  \n",
       "Low         2.181327e+06  2.226544e+06  1.453797e+12  3.818191e+13  \n",
       "Close**     2.226544e+06  2.287781e+06  1.706507e+12  3.925147e+13  \n",
       "Volume      1.453797e+12  1.706507e+12  3.876248e+19  3.587102e+19  \n",
       "Market Cap  3.818191e+13  3.925147e+13  3.587102e+19  6.748424e+20  "
      ]
     },
     "execution_count": 81,
     "metadata": {},
     "output_type": "execute_result"
    }
   ],
   "source": [
    "df.cov() #covariance 상관관계 "
   ]
  },
  {
   "cell_type": "markdown",
   "metadata": {},
   "source": [
    "입력X /출력Y 분리\n",
    "- m개의 x,y 쌍\n",
    "- x(m, 60, 15) (국내증시컬럼 + 비트코인컬럼) > reshape > (m, 60*15)\n",
    "- y(m, 30, 2) > (m, 30 * 2)"
   ]
  },
  {
   "cell_type": "code",
   "execution_count": 103,
   "metadata": {},
   "outputs": [
    {
     "data": {
      "text/plain": [
       "(244, 155)"
      ]
     },
     "execution_count": 103,
     "metadata": {},
     "output_type": "execute_result"
    }
   ],
   "source": [
    "input_seq = 60\n",
    "output_seq = 30\n",
    "m = len(df) - (input_seq + output_seq) + 1\n",
    "len(df), m"
   ]
  },
  {
   "cell_type": "code",
   "execution_count": 191,
   "metadata": {},
   "outputs": [],
   "source": [
    "#df = df/ df.sum() # max 정규화\n",
    "df = (df - df.min()) / (df.max()-df.min()) #min_max 정규화\n",
    "x_list = []\n",
    "y_list = []\n",
    "for i in range(m):\n",
    "    x = df.iloc[i:i+input_seq]\n",
    "    y = df.iloc[i+input_seq:i+input_seq+output_seq][['종가', 'Close**']]\n",
    "    x_list.append(x)\n",
    "    y_list.append(y)"
   ]
  },
  {
   "cell_type": "code",
   "execution_count": 192,
   "metadata": {},
   "outputs": [
    {
     "data": {
      "text/plain": [
       "((155, 60, 12), (155, 30, 2))"
      ]
     },
     "execution_count": 192,
     "metadata": {},
     "output_type": "execute_result"
    }
   ],
   "source": [
    "len(x_list), type(x_list) #(155, 60, 12)\n",
    "#numpy array 로 변환\n",
    "x_3d = np.stack(x_list, axis=0)\n",
    "y_3d = np.stack(y_list, axis=0)\n",
    "x_3d.shape, y_3d.shape"
   ]
  },
  {
   "cell_type": "markdown",
   "metadata": {},
   "source": [
    "train / test 분리\n",
    "- test 10%"
   ]
  },
  {
   "cell_type": "code",
   "execution_count": 193,
   "metadata": {},
   "outputs": [
    {
     "data": {
      "text/plain": [
       "15"
      ]
     },
     "execution_count": 193,
     "metadata": {},
     "output_type": "execute_result"
    }
   ],
   "source": [
    "test_ratio = 0.1\n",
    "test_m = int(len(x_3d)*test_ratio)\n",
    "test_m"
   ]
  },
  {
   "cell_type": "code",
   "execution_count": 194,
   "metadata": {},
   "outputs": [],
   "source": [
    "m = len(x_3d)\n",
    "x_2d = np.reshape(x_3d, [m, -1])\n",
    "y_2d = np.reshape(y_3d, [m, -1])\n",
    "x_test = x_2d[:test_m]\n",
    "x_train = x_2d[test_m:]\n",
    "y_test = y_2d[:test_m]\n",
    "y_train = y_2d[test_m:]"
   ]
  },
  {
   "cell_type": "code",
   "execution_count": 195,
   "metadata": {
    "scrolled": true
   },
   "outputs": [],
   "source": [
    "#model, Linear Regression , 가중치를 작게 제약시킨다 > 모든 정보를 활용해서 예측\n",
    "from sklearn.linear_model import Ridge, Lasso\n",
    "model = Ridge(normalize=True, solver='lsqr').fit(x_train, y_train) # 2차원 이하만 가능"
   ]
  },
  {
   "cell_type": "code",
   "execution_count": 196,
   "metadata": {},
   "outputs": [
    {
     "data": {
      "text/plain": [
       "(0.976736244847297, -14.854965579147551)"
      ]
     },
     "execution_count": 196,
     "metadata": {},
     "output_type": "execute_result"
    }
   ],
   "source": [
    "model.score(x_train, y_train), model.score(x_test, y_test) #과적합 발생"
   ]
  },
  {
   "cell_type": "code",
   "execution_count": 197,
   "metadata": {},
   "outputs": [
    {
     "data": {
      "text/plain": [
       "(1, 720)"
      ]
     },
     "execution_count": 197,
     "metadata": {},
     "output_type": "execute_result"
    }
   ],
   "source": [
    "#가장 최근 데이터\n",
    "recent = df.iloc[-input_seq:]\n",
    "recent = np.reshape(np.array(recent), [1, -1])\n",
    "recent.shape "
   ]
  },
  {
   "cell_type": "code",
   "execution_count": 198,
   "metadata": {},
   "outputs": [
    {
     "data": {
      "text/plain": [
       "(30, 2)"
      ]
     },
     "execution_count": 198,
     "metadata": {},
     "output_type": "execute_result"
    }
   ],
   "source": [
    "p = model.predict(recent)#미래 예측\n",
    "p = np.reshape(p, [output_seq, -1])\n",
    "p.shape"
   ]
  },
  {
   "cell_type": "code",
   "execution_count": 200,
   "metadata": {},
   "outputs": [
    {
     "data": {
      "text/plain": [
       "<matplotlib.legend.Legend at 0x1ef43b72a90>"
      ]
     },
     "execution_count": 200,
     "metadata": {},
     "output_type": "execute_result"
    },
    {
     "data": {
      "image/png": "[encoded data removed]",
      "text/plain": [
       "<Figure size 432x288 with 1 Axes>"
      ]
     },
     "metadata": {
      "needs_background": "light"
     },
     "output_type": "display_data"
    }
   ],
   "source": [
    "xm = len(df)\n",
    "plt.plot(np.arange(xm), df['종가'].values, label='samsung')\n",
    "plt.plot(np.arange(xm), df['Close**'].values, label='bitcoin')\n",
    "plt.plot(np.arange(xm,xm+output_seq), p[:, 0], label='samsung')\n",
    "plt.plot(np.arange(xm,xm+output_seq), p[:, 1], label='bitcoin')\n",
    "plt.legend()"
   ]
  },
  {
   "cell_type": "code",
   "execution_count": null,
   "metadata": {},
   "outputs": [],
   "source": []
  },
  {
   "cell_type": "code",
   "execution_count": null,
   "metadata": {},
   "outputs": [],
   "source": []
  }
 ],
 "metadata": {
  "kernelspec": {
   "display_name": "Python 3",
   "language": "python",
   "name": "python3"
  },
  "language_info": {
   "codemirror_mode": {
    "name": "ipython",
    "version": 3
   },
   "file_extension": ".py",
   "mimetype": "text/x-python",
   "name": "python",
   "nbconvert_exporter": "python",
   "pygments_lexer": "ipython3",
   "version": "3.7.3"
  }
 },
 "nbformat": 4,
 "nbformat_minor": 2
}
