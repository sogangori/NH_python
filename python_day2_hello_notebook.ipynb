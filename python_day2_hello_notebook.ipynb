{
 "cells": [
  {
   "cell_type": "markdown",
   "metadata": {},
   "source": [
    "Markdown 셀은 코드가 아닌 글을 쓰는 곳입니다\n",
    "Run 을 하면 디자인이 입혀집니다"
   ]
  },
  {
   "cell_type": "markdown",
   "metadata": {},
   "source": [
    "마크다운 셀에서 insert image 로 이미지를 추가합니다"
   ]
  },
  {
   "attachments": {},
   "cell_type": "markdown",
   "metadata": {},
   "source": [
    "<img src=\"./soccer.png\" />"
   ]
  },
  {
   "cell_type": "markdown",
   "metadata": {},
   "source": [
    "# jupyter notebook markdown\n",
    "# heading1\n",
    "## heading2\n",
    "### heading3\n",
    "#### heading4\n",
    "##### heading5\n",
    "###### heading6"
   ]
  },
  {
   "cell_type": "markdown",
   "metadata": {},
   "source": [
    "라텍스 문법으로 수식 표현\n",
    "$$e^{i\\pi} + 1 = 0$$\n",
    "$$e^x=\\sum_{i=0}^\\infty \\frac{1}{i!}x^i$$"
   ]
  },
  {
   "cell_type": "markdown",
   "metadata": {},
   "source": [
    "| This | is   |\n",
    "|------|------|\n",
    "|   a  | table|"
   ]
  },
  {
   "cell_type": "markdown",
   "metadata": {},
   "source": [
    "- 브라우저에 따라서 YouTube 동영상 퍼가기로 추가됩니다\n",
    "- 여기에서는 동영상이 나타나지 않지만\n",
    "- File / Download as / HTML  로 다운받아서 열면 동영상이 나타납니다"
   ]
  },
  {
   "cell_type": "markdown",
   "metadata": {},
   "source": [
    "<iframe width=\"560\" height=\"315\" src=\"https://www.youtube.com/embed/CwcPFUpnjms\" frameborder=\"0\" allow=\"accelerometer; autoplay; encrypted-media; gyroscope; picture-in-picture\" allowfullscreen></iframe>"
   ]
  },
  {
   "cell_type": "code",
   "execution_count": 35,
   "metadata": {},
   "outputs": [
    {
     "data": {
      "text/plain": [
       "[1, 2, 3, 4, 5]"
      ]
     },
     "execution_count": 35,
     "metadata": {},
     "output_type": "execute_result"
    }
   ],
   "source": [
    "a = [1,2,3,4,5]\n",
    "a"
   ]
  },
  {
   "cell_type": "code",
   "execution_count": 38,
   "metadata": {},
   "outputs": [],
   "source": [
    "# .tab 함수 목록 및 자동완성\n",
    "a.append(6)"
   ]
  },
  {
   "cell_type": "code",
   "execution_count": 39,
   "metadata": {},
   "outputs": [],
   "source": [
    "# shift + tab 함수 설명\n",
    "a.append(7)"
   ]
  },
  {
   "cell_type": "code",
   "execution_count": 42,
   "metadata": {},
   "outputs": [],
   "source": [
    "# 객체?   객체 정보 조회\n",
    "a?"
   ]
  },
  {
   "cell_type": "markdown",
   "metadata": {},
   "source": [
    "파이썬은 들여쓰기(indent) 를 정확하게 해야합니다"
   ]
  },
  {
   "cell_type": "code",
   "execution_count": 59,
   "metadata": {},
   "outputs": [
    {
     "data": {
      "text/plain": [
       "(14, 16384)"
      ]
     },
     "execution_count": 59,
     "metadata": {},
     "output_type": "execute_result"
    }
   ],
   "source": [
    "# while 반복 횟수를 미리 알 수 없을 때 사용. \n",
    "# 무한 반복이 되지 않도록 주의\n",
    "x = 10000\n",
    "i = 1\n",
    "while(2**i < x):#True 면 실행\n",
    "   i+=1\n",
    "\n",
    "i, 2**i"
   ]
  },
  {
   "cell_type": "code",
   "execution_count": 66,
   "metadata": {},
   "outputs": [],
   "source": [
    "# dictionary {키:값, 키:값... }\n",
    "b = {'age':20, 'city':'Seoul'}"
   ]
  },
  {
   "cell_type": "code",
   "execution_count": 67,
   "metadata": {},
   "outputs": [
    {
     "data": {
      "text/plain": [
       "20"
      ]
     },
     "execution_count": 67,
     "metadata": {},
     "output_type": "execute_result"
    }
   ],
   "source": [
    "# 키를 통해 값을 조회\n",
    "b['age']"
   ]
  },
  {
   "cell_type": "code",
   "execution_count": 68,
   "metadata": {},
   "outputs": [
    {
     "data": {
      "text/plain": [
       "30"
      ]
     },
     "execution_count": 68,
     "metadata": {},
     "output_type": "execute_result"
    }
   ],
   "source": [
    "# 키를 통해 값을 수정\n",
    "b['age'] += 10\n",
    "b['age']"
   ]
  },
  {
   "cell_type": "code",
   "execution_count": 69,
   "metadata": {},
   "outputs": [
    {
     "data": {
      "text/plain": [
       "{'age': 30, 'city': 'Seoul', 'part': '개발부'}"
      ]
     },
     "execution_count": 69,
     "metadata": {},
     "output_type": "execute_result"
    }
   ],
   "source": [
    "# 키와 값을 추가 \n",
    "b['part'] = '개발부'\n",
    "b"
   ]
  },
  {
   "cell_type": "code",
   "execution_count": 70,
   "metadata": {},
   "outputs": [
    {
     "data": {
      "text/plain": [
       "{'city': 'Seoul', 'part': '개발부'}"
      ]
     },
     "execution_count": 70,
     "metadata": {},
     "output_type": "execute_result"
    }
   ],
   "source": [
    "# 키를 통해서 제거\n",
    "del b['age']\n",
    "b"
   ]
  },
  {
   "cell_type": "code",
   "execution_count": 73,
   "metadata": {},
   "outputs": [
    {
     "data": {
      "text/plain": [
       "dict_keys(['city', 'part'])"
      ]
     },
     "execution_count": 73,
     "metadata": {},
     "output_type": "execute_result"
    }
   ],
   "source": [
    "# 2차원 표 데이터(panal)에서 컬럼명이 키이고 값들이 value 가 됩니다\n",
    "# 2차원 데이터 하나는 dictionary 로 저장됩니다\n",
    "# 서울 100년간 온도 데이터에서 날짜 최저기온 최고기온 들이 key 가 됩니다\n",
    "b.keys()"
   ]
  },
  {
   "cell_type": "code",
   "execution_count": null,
   "metadata": {},
   "outputs": [],
   "source": []
  }
 ],
 "metadata": {
  "kernelspec": {
   "display_name": "Python 3",
   "language": "python",
   "name": "python3"
  },
  "language_info": {
   "codemirror_mode": {
    "name": "ipython",
    "version": 3
   },
   "file_extension": ".py",
   "mimetype": "text/x-python",
   "name": "python",
   "nbconvert_exporter": "python",
   "pygments_lexer": "ipython3",
   "version": "3.7.3"
  }
 },
 "nbformat": 4,
 "nbformat_minor": 2
}
