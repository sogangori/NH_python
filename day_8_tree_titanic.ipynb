{
 "cells": [
  {
   "cell_type": "markdown",
   "metadata": {},
   "source": [
    "타이타닉 생존 예측 - Tree"
   ]
  },
  {
   "cell_type": "code",
   "execution_count": 3,
   "metadata": {},
   "outputs": [],
   "source": [
    "import pandas as pd\n",
    "import numpy as np\n",
    "import matplotlib.pyplot as plt\n",
    "from sklearn.tree import export_graphviz\n",
    "import graphviz \n",
    "import os\n",
    "os.environ[\"PATH\"] += os.pathsep + 'C:/Program Files (x86)/Graphviz2.38/bin/'"
   ]
  },
  {
   "cell_type": "code",
   "execution_count": 4,
   "metadata": {},
   "outputs": [
    {
     "data": {
      "text/plain": [
       "(887, 8)"
      ]
     },
     "execution_count": 4,
     "metadata": {},
     "output_type": "execute_result"
    }
   ],
   "source": [
    "df = pd.read_csv('titanic.csv')\n",
    "df.shape"
   ]
  },
  {
   "cell_type": "code",
   "execution_count": 7,
   "metadata": {},
   "outputs": [
    {
     "data": {
      "text/plain": [
       "887"
      ]
     },
     "execution_count": 7,
     "metadata": {},
     "output_type": "execute_result"
    }
   ],
   "source": [
    "df.Name.nunique()"
   ]
  },
  {
   "cell_type": "code",
   "execution_count": 8,
   "metadata": {},
   "outputs": [],
   "source": [
    "df = df.set_index('Name')"
   ]
  },
  {
   "cell_type": "code",
   "execution_count": 11,
   "metadata": {},
   "outputs": [
    {
     "data": {
      "text/plain": [
       "Index(['Survived', 'Pclass', 'Sex', 'Age', 'Siblings/Spouses Aboard',\n",
       "       'Parents/Children Aboard', 'Fare'],\n",
       "      dtype='object')"
      ]
     },
     "execution_count": 11,
     "metadata": {},
     "output_type": "execute_result"
    }
   ],
   "source": [
    "df.columns"
   ]
  },
  {
   "cell_type": "code",
   "execution_count": 12,
   "metadata": {},
   "outputs": [],
   "source": [
    "df.columns = ['Survived', 'Pclass', 'Sex', 'Age', 'Siblings', 'Parents', 'Fare']"
   ]
  },
  {
   "cell_type": "code",
   "execution_count": 15,
   "metadata": {
    "scrolled": true
   },
   "outputs": [
    {
     "data": {
      "text/plain": [
       "0.3855693348365276"
      ]
     },
     "execution_count": 15,
     "metadata": {},
     "output_type": "execute_result"
    }
   ],
   "source": [
    "df.Survived.mean() # 38% 생존"
   ]
  },
  {
   "cell_type": "code",
   "execution_count": 30,
   "metadata": {},
   "outputs": [
    {
     "data": {
      "image/png": "[encoded data removed]",
      "text/plain": [
       "<Figure size 360x72 with 1 Axes>"
      ]
     },
     "metadata": {
      "needs_background": "light"
     },
     "output_type": "display_data"
    }
   ],
   "source": [
    "plt.figure(figsize=(5,1))\n",
    "p = plt.hist(df['Age'].values)"
   ]
  },
  {
   "cell_type": "code",
   "execution_count": 33,
   "metadata": {
    "scrolled": false
   },
   "outputs": [
    {
     "data": {
      "image/png": "[encoded data removed]",
      "text/plain": [
       "<Figure size 360x72 with 1 Axes>"
      ]
     },
     "metadata": {
      "needs_background": "light"
     },
     "output_type": "display_data"
    }
   ],
   "source": [
    "plt.figure(figsize=(5,1))\n",
    "p = plt.hist(df['Pclass'].values, bins=5)"
   ]
  },
  {
   "cell_type": "code",
   "execution_count": 38,
   "metadata": {},
   "outputs": [
    {
     "data": {
      "text/plain": [
       "male      573\n",
       "female    314\n",
       "Name: Sex, dtype: int64"
      ]
     },
     "execution_count": 38,
     "metadata": {},
     "output_type": "execute_result"
    }
   ],
   "source": [
    "df['Sex'].value_counts()"
   ]
  },
  {
   "cell_type": "code",
   "execution_count": 40,
   "metadata": {
    "scrolled": true
   },
   "outputs": [
    {
     "data": {
      "image/png": "[encoded data removed]",
      "text/plain": [
       "<Figure size 360x144 with 1 Axes>"
      ]
     },
     "metadata": {},
     "output_type": "display_data"
    }
   ],
   "source": [
    "plt.figure(figsize=(5,2))\n",
    "p = plt.pie(df['Sex'].value_counts())"
   ]
  },
  {
   "cell_type": "code",
   "execution_count": 43,
   "metadata": {},
   "outputs": [
    {
     "data": {
      "image/png": "[encoded data removed]",
      "text/plain": [
       "<Figure size 360x72 with 1 Axes>"
      ]
     },
     "metadata": {
      "needs_background": "light"
     },
     "output_type": "display_data"
    }
   ],
   "source": [
    "plt.figure(figsize=(5,1))\n",
    "p = plt.hist(df['Siblings'].values)"
   ]
  },
  {
   "cell_type": "code",
   "execution_count": 53,
   "metadata": {
    "scrolled": true
   },
   "outputs": [
    {
     "data": {
      "image/png": "[encoded data removed]",
      "text/plain": [
       "<Figure size 432x288 with 1 Axes>"
      ]
     },
     "metadata": {
      "needs_background": "light"
     },
     "output_type": "display_data"
    }
   ],
   "source": [
    "p = plt.hist(df[df['Survived']==1]['Age'].values, color='red')\n",
    "p = plt.hist(df[df['Survived']==0]['Age'].values, color='black', alpha=0.6)"
   ]
  },
  {
   "cell_type": "code",
   "execution_count": 54,
   "metadata": {
    "scrolled": true
   },
   "outputs": [
    {
     "data": {
      "text/html": [
       "<div>\n",
       "<style scoped>\n",
       "    .dataframe tbody tr th:only-of-type {\n",
       "        vertical-align: middle;\n",
       "    }\n",
       "\n",
       "    .dataframe tbody tr th {\n",
       "        vertical-align: top;\n",
       "    }\n",
       "\n",
       "    .dataframe thead th {\n",
       "        text-align: right;\n",
       "    }\n",
       "</style>\n",
       "<table border=\"1\" class=\"dataframe\">\n",
       "  <thead>\n",
       "    <tr style=\"text-align: right;\">\n",
       "      <th></th>\n",
       "      <th>Survived</th>\n",
       "      <th>Pclass</th>\n",
       "      <th>Sex</th>\n",
       "      <th>Age</th>\n",
       "      <th>Siblings</th>\n",
       "      <th>Parents</th>\n",
       "      <th>Fare</th>\n",
       "    </tr>\n",
       "    <tr>\n",
       "      <th>Name</th>\n",
       "      <th></th>\n",
       "      <th></th>\n",
       "      <th></th>\n",
       "      <th></th>\n",
       "      <th></th>\n",
       "      <th></th>\n",
       "      <th></th>\n",
       "    </tr>\n",
       "  </thead>\n",
       "  <tbody>\n",
       "    <tr>\n",
       "      <th>Mr. Owen Harris Braund</th>\n",
       "      <td>0</td>\n",
       "      <td>3</td>\n",
       "      <td>male</td>\n",
       "      <td>22.0</td>\n",
       "      <td>1</td>\n",
       "      <td>0</td>\n",
       "      <td>7.25</td>\n",
       "    </tr>\n",
       "  </tbody>\n",
       "</table>\n",
       "</div>"
      ],
      "text/plain": [
       "                        Survived  Pclass   Sex   Age  Siblings  Parents  Fare\n",
       "Name                                                                         \n",
       "Mr. Owen Harris Braund         0       3  male  22.0         1        0  7.25"
      ]
     },
     "execution_count": 54,
     "metadata": {},
     "output_type": "execute_result"
    }
   ],
   "source": [
    "df.head(1)"
   ]
  },
  {
   "cell_type": "code",
   "execution_count": 61,
   "metadata": {},
   "outputs": [
    {
     "data": {
      "image/png": "[encoded data removed]",
      "text/plain": [
       "<Figure size 432x288 with 1 Axes>"
      ]
     },
     "metadata": {
      "needs_background": "light"
     },
     "output_type": "display_data"
    }
   ],
   "source": [
    "p = plt.hist(df[df['Sex']=='male']['Survived'].values, color='blue')\n",
    "p = plt.hist(df[df['Sex']=='female']['Survived'].values+2, color='red', alpha=0.6)"
   ]
  },
  {
   "cell_type": "code",
   "execution_count": 68,
   "metadata": {},
   "outputs": [],
   "source": [
    "# 1,2,3 등석은 범주형입니다\n",
    "df['Pclass'] = df['Pclass'].astype('object')"
   ]
  },
  {
   "cell_type": "code",
   "execution_count": 69,
   "metadata": {},
   "outputs": [],
   "source": [
    "data = pd.get_dummies(df)"
   ]
  },
  {
   "cell_type": "code",
   "execution_count": 75,
   "metadata": {},
   "outputs": [],
   "source": [
    "X = data.drop(columns='Survived')\n",
    "y = data['Survived']"
   ]
  },
  {
   "cell_type": "code",
   "execution_count": 87,
   "metadata": {},
   "outputs": [
    {
     "data": {
      "text/plain": [
       "0.8489289740698985"
      ]
     },
     "execution_count": 87,
     "metadata": {},
     "output_type": "execute_result"
    }
   ],
   "source": [
    "from sklearn.tree import DecisionTreeClassifier\n",
    "model = DecisionTreeClassifier(max_depth=4).fit(X, y)\n",
    "model.score(X, y)"
   ]
  },
  {
   "cell_type": "code",
   "execution_count": 88,
   "metadata": {},
   "outputs": [
    {
     "data": {
      "image/svg+xml": [
       "<?xml version=\"1.0\" encoding=\"UTF-8\" standalone=\"no\"?>\r\n",
       "<!DOCTYPE svg PUBLIC \"-//W3C//DTD SVG 1.1//EN\"\r\n",
       " \"http://www.w3.org/Graphics/SVG/1.1/DTD/svg11.dtd\">\r\n",
       "<!-- Generated by graphviz version 2.38.0 (20140413.2041)\r\n",
       " -->\r\n",
       "<!-- Title: Tree Pages: 1 -->\r\n",
       "<svg width=\"1866pt\" height=\"477pt\"\r\n",
       " viewBox=\"0.00 0.00 1866.00 477.00\" xmlns=\"http://www.w3.org/2000/svg\" xmlns:xlink=\"http://www.w3.org/1999/xlink\">\r\n",
       "<g id=\"graph0\" class=\"graph\" transform=\"scale(1 1) rotate(0) translate(4 473)\">\r\n",
       "<title>Tree</title>\r\n",
       "<polygon fill=\"white\" stroke=\"none\" points=\"-4,4 -4,-473 1862,-473 1862,4 -4,4\"/>\r\n",
       "<!-- 0 -->\r\n",
       "<g id=\"node1\" class=\"node\"><title>0</title>\r\n",
       "<polygon fill=\"#e58139\" fill-opacity=\"0.372549\" stroke=\"black\" points=\"974,-469 856,-469 856,-401 974,-401 974,-469\"/>\r\n",
       "<text text-anchor=\"middle\" x=\"915\" y=\"-453.8\" font-family=\"Times New Roman,serif\" font-size=\"14.00\">Sex_male &lt;= 0.5</text>\r\n",
       "<text text-anchor=\"middle\" x=\"915\" y=\"-438.8\" font-family=\"Times New Roman,serif\" font-size=\"14.00\">samples = 887</text>\r\n",
       "<text text-anchor=\"middle\" x=\"915\" y=\"-423.8\" font-family=\"Times New Roman,serif\" font-size=\"14.00\">value = [545, 342]</text>\r\n",
       "<text text-anchor=\"middle\" x=\"915\" y=\"-408.8\" font-family=\"Times New Roman,serif\" font-size=\"14.00\">class = Die</text>\r\n",
       "</g>\r\n",
       "<!-- 1 -->\r\n",
       "<g id=\"node2\" class=\"node\"><title>1</title>\r\n",
       "<polygon fill=\"#399de5\" fill-opacity=\"0.650980\" stroke=\"black\" points=\"744.5,-365 633.5,-365 633.5,-297 744.5,-297 744.5,-365\"/>\r\n",
       "<text text-anchor=\"middle\" x=\"689\" y=\"-349.8\" font-family=\"Times New Roman,serif\" font-size=\"14.00\">Pclass_3 &lt;= 0.5</text>\r\n",
       "<text text-anchor=\"middle\" x=\"689\" y=\"-334.8\" font-family=\"Times New Roman,serif\" font-size=\"14.00\">samples = 314</text>\r\n",
       "<text text-anchor=\"middle\" x=\"689\" y=\"-319.8\" font-family=\"Times New Roman,serif\" font-size=\"14.00\">value = [81, 233]</text>\r\n",
       "<text text-anchor=\"middle\" x=\"689\" y=\"-304.8\" font-family=\"Times New Roman,serif\" font-size=\"14.00\">class = survive</text>\r\n",
       "</g>\r\n",
       "<!-- 0&#45;&gt;1 -->\r\n",
       "<g id=\"edge1\" class=\"edge\"><title>0&#45;&gt;1</title>\r\n",
       "<path fill=\"none\" stroke=\"black\" d=\"M855.916,-407.334C824.61,-393.205 786.093,-375.821 753.95,-361.314\"/>\r\n",
       "<polygon fill=\"black\" stroke=\"black\" points=\"755.185,-358.031 744.63,-357.107 752.305,-364.411 755.185,-358.031\"/>\r\n",
       "<text text-anchor=\"middle\" x=\"753.471\" y=\"-376.792\" font-family=\"Times New Roman,serif\" font-size=\"14.00\">True</text>\r\n",
       "</g>\r\n",
       "<!-- 16 -->\r\n",
       "<g id=\"node17\" class=\"node\"><title>16</title>\r\n",
       "<polygon fill=\"#e58139\" fill-opacity=\"0.764706\" stroke=\"black\" points=\"1205,-365 1087,-365 1087,-297 1205,-297 1205,-365\"/>\r\n",
       "<text text-anchor=\"middle\" x=\"1146\" y=\"-349.8\" font-family=\"Times New Roman,serif\" font-size=\"14.00\">Age &lt;= 13.0</text>\r\n",
       "<text text-anchor=\"middle\" x=\"1146\" y=\"-334.8\" font-family=\"Times New Roman,serif\" font-size=\"14.00\">samples = 573</text>\r\n",
       "<text text-anchor=\"middle\" x=\"1146\" y=\"-319.8\" font-family=\"Times New Roman,serif\" font-size=\"14.00\">value = [464, 109]</text>\r\n",
       "<text text-anchor=\"middle\" x=\"1146\" y=\"-304.8\" font-family=\"Times New Roman,serif\" font-size=\"14.00\">class = Die</text>\r\n",
       "</g>\r\n",
       "<!-- 0&#45;&gt;16 -->\r\n",
       "<g id=\"edge16\" class=\"edge\"><title>0&#45;&gt;16</title>\r\n",
       "<path fill=\"none\" stroke=\"black\" d=\"M974.188,-407.865C1005.7,-393.951 1044.62,-376.767 1077.44,-362.275\"/>\r\n",
       "<polygon fill=\"black\" stroke=\"black\" points=\"1079.23,-365.308 1086.97,-358.067 1076.4,-358.905 1079.23,-365.308\"/>\r\n",
       "<text text-anchor=\"middle\" x=\"1077.93\" y=\"-377.679\" font-family=\"Times New Roman,serif\" font-size=\"14.00\">False</text>\r\n",
       "</g>\r\n",
       "<!-- 2 -->\r\n",
       "<g id=\"node3\" class=\"node\"><title>2</title>\r\n",
       "<polygon fill=\"#399de5\" fill-opacity=\"0.945098\" stroke=\"black\" points=\"394,-261 290,-261 290,-193 394,-193 394,-261\"/>\r\n",
       "<text text-anchor=\"middle\" x=\"342\" y=\"-245.8\" font-family=\"Times New Roman,serif\" font-size=\"14.00\">Age &lt;= 2.5</text>\r\n",
       "<text text-anchor=\"middle\" x=\"342\" y=\"-230.8\" font-family=\"Times New Roman,serif\" font-size=\"14.00\">samples = 170</text>\r\n",
       "<text text-anchor=\"middle\" x=\"342\" y=\"-215.8\" font-family=\"Times New Roman,serif\" font-size=\"14.00\">value = [9, 161]</text>\r\n",
       "<text text-anchor=\"middle\" x=\"342\" y=\"-200.8\" font-family=\"Times New Roman,serif\" font-size=\"14.00\">class = survive</text>\r\n",
       "</g>\r\n",
       "<!-- 1&#45;&gt;2 -->\r\n",
       "<g id=\"edge2\" class=\"edge\"><title>1&#45;&gt;2</title>\r\n",
       "<path fill=\"none\" stroke=\"black\" d=\"M633.248,-313.612C570.563,-295.186 469.05,-265.346 403.937,-246.206\"/>\r\n",
       "<polygon fill=\"black\" stroke=\"black\" points=\"404.789,-242.809 394.208,-243.346 402.815,-249.524 404.789,-242.809\"/>\r\n",
       "</g>\r\n",
       "<!-- 9 -->\r\n",
       "<g id=\"node10\" class=\"node\"><title>9</title>\r\n",
       "<polygon fill=\"none\" stroke=\"black\" points=\"741,-261 637,-261 637,-193 741,-193 741,-261\"/>\r\n",
       "<text text-anchor=\"middle\" x=\"689\" y=\"-245.8\" font-family=\"Times New Roman,serif\" font-size=\"14.00\">Fare &lt;= 23.35</text>\r\n",
       "<text text-anchor=\"middle\" x=\"689\" y=\"-230.8\" font-family=\"Times New Roman,serif\" font-size=\"14.00\">samples = 144</text>\r\n",
       "<text text-anchor=\"middle\" x=\"689\" y=\"-215.8\" font-family=\"Times New Roman,serif\" font-size=\"14.00\">value = [72, 72]</text>\r\n",
       "<text text-anchor=\"middle\" x=\"689\" y=\"-200.8\" font-family=\"Times New Roman,serif\" font-size=\"14.00\">class = Die</text>\r\n",
       "</g>\r\n",
       "<!-- 1&#45;&gt;9 -->\r\n",
       "<g id=\"edge9\" class=\"edge\"><title>1&#45;&gt;9</title>\r\n",
       "<path fill=\"none\" stroke=\"black\" d=\"M689,-296.884C689,-288.778 689,-279.982 689,-271.472\"/>\r\n",
       "<polygon fill=\"black\" stroke=\"black\" points=\"692.5,-271.299 689,-261.299 685.5,-271.299 692.5,-271.299\"/>\r\n",
       "</g>\r\n",
       "<!-- 3 -->\r\n",
       "<g id=\"node4\" class=\"node\"><title>3</title>\r\n",
       "<polygon fill=\"none\" stroke=\"black\" points=\"218,-157 110,-157 110,-89 218,-89 218,-157\"/>\r\n",
       "<text text-anchor=\"middle\" x=\"164\" y=\"-141.8\" font-family=\"Times New Roman,serif\" font-size=\"14.00\">Pclass_1 &lt;= 0.5</text>\r\n",
       "<text text-anchor=\"middle\" x=\"164\" y=\"-126.8\" font-family=\"Times New Roman,serif\" font-size=\"14.00\">samples = 2</text>\r\n",
       "<text text-anchor=\"middle\" x=\"164\" y=\"-111.8\" font-family=\"Times New Roman,serif\" font-size=\"14.00\">value = [1, 1]</text>\r\n",
       "<text text-anchor=\"middle\" x=\"164\" y=\"-96.8\" font-family=\"Times New Roman,serif\" font-size=\"14.00\">class = Die</text>\r\n",
       "</g>\r\n",
       "<!-- 2&#45;&gt;3 -->\r\n",
       "<g id=\"edge3\" class=\"edge\"><title>2&#45;&gt;3</title>\r\n",
       "<path fill=\"none\" stroke=\"black\" d=\"M289.557,-195.948C269.993,-184.738 247.578,-171.893 227.151,-160.188\"/>\r\n",
       "<polygon fill=\"black\" stroke=\"black\" points=\"228.646,-157.01 218.229,-155.075 225.165,-163.084 228.646,-157.01\"/>\r\n",
       "</g>\r\n",
       "<!-- 6 -->\r\n",
       "<g id=\"node7\" class=\"node\"><title>6</title>\r\n",
       "<polygon fill=\"#399de5\" fill-opacity=\"0.949020\" stroke=\"black\" points=\"394,-157 290,-157 290,-89 394,-89 394,-157\"/>\r\n",
       "<text text-anchor=\"middle\" x=\"342\" y=\"-141.8\" font-family=\"Times New Roman,serif\" font-size=\"14.00\">Fare &lt;= 28.856</text>\r\n",
       "<text text-anchor=\"middle\" x=\"342\" y=\"-126.8\" font-family=\"Times New Roman,serif\" font-size=\"14.00\">samples = 168</text>\r\n",
       "<text text-anchor=\"middle\" x=\"342\" y=\"-111.8\" font-family=\"Times New Roman,serif\" font-size=\"14.00\">value = [8, 160]</text>\r\n",
       "<text text-anchor=\"middle\" x=\"342\" y=\"-96.8\" font-family=\"Times New Roman,serif\" font-size=\"14.00\">class = survive</text>\r\n",
       "</g>\r\n",
       "<!-- 2&#45;&gt;6 -->\r\n",
       "<g id=\"edge6\" class=\"edge\"><title>2&#45;&gt;6</title>\r\n",
       "<path fill=\"none\" stroke=\"black\" d=\"M342,-192.884C342,-184.778 342,-175.982 342,-167.472\"/>\r\n",
       "<polygon fill=\"black\" stroke=\"black\" points=\"345.5,-167.299 342,-157.299 338.5,-167.299 345.5,-167.299\"/>\r\n",
       "</g>\r\n",
       "<!-- 4 -->\r\n",
       "<g id=\"node5\" class=\"node\"><title>4</title>\r\n",
       "<polygon fill=\"#399de5\" stroke=\"black\" points=\"100,-53 0,-53 0,-0 100,-0 100,-53\"/>\r\n",
       "<text text-anchor=\"middle\" x=\"50\" y=\"-37.8\" font-family=\"Times New Roman,serif\" font-size=\"14.00\">samples = 1</text>\r\n",
       "<text text-anchor=\"middle\" x=\"50\" y=\"-22.8\" font-family=\"Times New Roman,serif\" font-size=\"14.00\">value = [0, 1]</text>\r\n",
       "<text text-anchor=\"middle\" x=\"50\" y=\"-7.8\" font-family=\"Times New Roman,serif\" font-size=\"14.00\">class = survive</text>\r\n",
       "</g>\r\n",
       "<!-- 3&#45;&gt;4 -->\r\n",
       "<g id=\"edge4\" class=\"edge\"><title>3&#45;&gt;4</title>\r\n",
       "<path fill=\"none\" stroke=\"black\" d=\"M124.128,-88.9485C112.762,-79.526 100.393,-69.2731 89.0743,-59.8906\"/>\r\n",
       "<polygon fill=\"black\" stroke=\"black\" points=\"90.9799,-56.924 81.0475,-53.2367 86.5126,-62.3132 90.9799,-56.924\"/>\r\n",
       "</g>\r\n",
       "<!-- 5 -->\r\n",
       "<g id=\"node6\" class=\"node\"><title>5</title>\r\n",
       "<polygon fill=\"#e58139\" stroke=\"black\" points=\"209.5,-53 118.5,-53 118.5,-0 209.5,-0 209.5,-53\"/>\r\n",
       "<text text-anchor=\"middle\" x=\"164\" y=\"-37.8\" font-family=\"Times New Roman,serif\" font-size=\"14.00\">samples = 1</text>\r\n",
       "<text text-anchor=\"middle\" x=\"164\" y=\"-22.8\" font-family=\"Times New Roman,serif\" font-size=\"14.00\">value = [1, 0]</text>\r\n",
       "<text text-anchor=\"middle\" x=\"164\" y=\"-7.8\" font-family=\"Times New Roman,serif\" font-size=\"14.00\">class = Die</text>\r\n",
       "</g>\r\n",
       "<!-- 3&#45;&gt;5 -->\r\n",
       "<g id=\"edge5\" class=\"edge\"><title>3&#45;&gt;5</title>\r\n",
       "<path fill=\"none\" stroke=\"black\" d=\"M164,-88.9485C164,-80.7153 164,-71.848 164,-63.4814\"/>\r\n",
       "<polygon fill=\"black\" stroke=\"black\" points=\"167.5,-63.2367 164,-53.2367 160.5,-63.2367 167.5,-63.2367\"/>\r\n",
       "</g>\r\n",
       "<!-- 7 -->\r\n",
       "<g id=\"node8\" class=\"node\"><title>7</title>\r\n",
       "<polygon fill=\"#399de5\" fill-opacity=\"0.886275\" stroke=\"black\" points=\"328,-53 228,-53 228,-0 328,-0 328,-53\"/>\r\n",
       "<text text-anchor=\"middle\" x=\"278\" y=\"-37.8\" font-family=\"Times New Roman,serif\" font-size=\"14.00\">samples = 69</text>\r\n",
       "<text text-anchor=\"middle\" x=\"278\" y=\"-22.8\" font-family=\"Times New Roman,serif\" font-size=\"14.00\">value = [7, 62]</text>\r\n",
       "<text text-anchor=\"middle\" x=\"278\" y=\"-7.8\" font-family=\"Times New Roman,serif\" font-size=\"14.00\">class = survive</text>\r\n",
       "</g>\r\n",
       "<!-- 6&#45;&gt;7 -->\r\n",
       "<g id=\"edge7\" class=\"edge\"><title>6&#45;&gt;7</title>\r\n",
       "<path fill=\"none\" stroke=\"black\" d=\"M319.616,-88.9485C313.606,-80.0749 307.098,-70.4648 301.053,-61.5388\"/>\r\n",
       "<polygon fill=\"black\" stroke=\"black\" points=\"303.936,-59.5539 295.43,-53.2367 298.14,-63.4792 303.936,-59.5539\"/>\r\n",
       "</g>\r\n",
       "<!-- 8 -->\r\n",
       "<g id=\"node9\" class=\"node\"><title>8</title>\r\n",
       "<polygon fill=\"#399de5\" fill-opacity=\"0.988235\" stroke=\"black\" points=\"446,-53 346,-53 346,-0 446,-0 446,-53\"/>\r\n",
       "<text text-anchor=\"middle\" x=\"396\" y=\"-37.8\" font-family=\"Times New Roman,serif\" font-size=\"14.00\">samples = 99</text>\r\n",
       "<text text-anchor=\"middle\" x=\"396\" y=\"-22.8\" font-family=\"Times New Roman,serif\" font-size=\"14.00\">value = [1, 98]</text>\r\n",
       "<text text-anchor=\"middle\" x=\"396\" y=\"-7.8\" font-family=\"Times New Roman,serif\" font-size=\"14.00\">class = survive</text>\r\n",
       "</g>\r\n",
       "<!-- 6&#45;&gt;8 -->\r\n",
       "<g id=\"edge8\" class=\"edge\"><title>6&#45;&gt;8</title>\r\n",
       "<path fill=\"none\" stroke=\"black\" d=\"M360.887,-88.9485C365.853,-80.2579 371.222,-70.8608 376.233,-62.0917\"/>\r\n",
       "<polygon fill=\"black\" stroke=\"black\" points=\"379.371,-63.6557 381.293,-53.2367 373.293,-60.1826 379.371,-63.6557\"/>\r\n",
       "</g>\r\n",
       "<!-- 10 -->\r\n",
       "<g id=\"node11\" class=\"node\"><title>10</title>\r\n",
       "<polygon fill=\"#399de5\" fill-opacity=\"0.305882\" stroke=\"black\" points=\"681,-157 577,-157 577,-89 681,-89 681,-157\"/>\r\n",
       "<text text-anchor=\"middle\" x=\"629\" y=\"-141.8\" font-family=\"Times New Roman,serif\" font-size=\"14.00\">Age &lt;= 36.5</text>\r\n",
       "<text text-anchor=\"middle\" x=\"629\" y=\"-126.8\" font-family=\"Times New Roman,serif\" font-size=\"14.00\">samples = 117</text>\r\n",
       "<text text-anchor=\"middle\" x=\"629\" y=\"-111.8\" font-family=\"Times New Roman,serif\" font-size=\"14.00\">value = [48, 69]</text>\r\n",
       "<text text-anchor=\"middle\" x=\"629\" y=\"-96.8\" font-family=\"Times New Roman,serif\" font-size=\"14.00\">class = survive</text>\r\n",
       "</g>\r\n",
       "<!-- 9&#45;&gt;10 -->\r\n",
       "<g id=\"edge10\" class=\"edge\"><title>9&#45;&gt;10</title>\r\n",
       "<path fill=\"none\" stroke=\"black\" d=\"M669.52,-192.884C664.49,-184.332 659.008,-175.013 653.748,-166.072\"/>\r\n",
       "<polygon fill=\"black\" stroke=\"black\" points=\"656.675,-164.144 648.588,-157.299 650.641,-167.693 656.675,-164.144\"/>\r\n",
       "</g>\r\n",
       "<!-- 13 -->\r\n",
       "<g id=\"node14\" class=\"node\"><title>13</title>\r\n",
       "<polygon fill=\"#e58139\" fill-opacity=\"0.874510\" stroke=\"black\" points=\"798.5,-157 699.5,-157 699.5,-89 798.5,-89 798.5,-157\"/>\r\n",
       "<text text-anchor=\"middle\" x=\"749\" y=\"-141.8\" font-family=\"Times New Roman,serif\" font-size=\"14.00\">Parents &lt;= 0.5</text>\r\n",
       "<text text-anchor=\"middle\" x=\"749\" y=\"-126.8\" font-family=\"Times New Roman,serif\" font-size=\"14.00\">samples = 27</text>\r\n",
       "<text text-anchor=\"middle\" x=\"749\" y=\"-111.8\" font-family=\"Times New Roman,serif\" font-size=\"14.00\">value = [24, 3]</text>\r\n",
       "<text text-anchor=\"middle\" x=\"749\" y=\"-96.8\" font-family=\"Times New Roman,serif\" font-size=\"14.00\">class = Die</text>\r\n",
       "</g>\r\n",
       "<!-- 9&#45;&gt;13 -->\r\n",
       "<g id=\"edge13\" class=\"edge\"><title>9&#45;&gt;13</title>\r\n",
       "<path fill=\"none\" stroke=\"black\" d=\"M708.48,-192.884C713.51,-184.332 718.992,-175.013 724.252,-166.072\"/>\r\n",
       "<polygon fill=\"black\" stroke=\"black\" points=\"727.359,-167.693 729.412,-157.299 721.325,-164.144 727.359,-167.693\"/>\r\n",
       "</g>\r\n",
       "<!-- 11 -->\r\n",
       "<g id=\"node12\" class=\"node\"><title>11</title>\r\n",
       "<polygon fill=\"#399de5\" fill-opacity=\"0.427451\" stroke=\"black\" points=\"568,-53 464,-53 464,-0 568,-0 568,-53\"/>\r\n",
       "<text text-anchor=\"middle\" x=\"516\" y=\"-37.8\" font-family=\"Times New Roman,serif\" font-size=\"14.00\">samples = 107</text>\r\n",
       "<text text-anchor=\"middle\" x=\"516\" y=\"-22.8\" font-family=\"Times New Roman,serif\" font-size=\"14.00\">value = [39, 68]</text>\r\n",
       "<text text-anchor=\"middle\" x=\"516\" y=\"-7.8\" font-family=\"Times New Roman,serif\" font-size=\"14.00\">class = survive</text>\r\n",
       "</g>\r\n",
       "<!-- 10&#45;&gt;11 -->\r\n",
       "<g id=\"edge11\" class=\"edge\"><title>10&#45;&gt;11</title>\r\n",
       "<path fill=\"none\" stroke=\"black\" d=\"M589.478,-88.9485C578.211,-79.526 565.951,-69.2731 554.732,-59.8906\"/>\r\n",
       "<polygon fill=\"black\" stroke=\"black\" points=\"556.692,-56.967 546.775,-53.2367 552.201,-62.3368 556.692,-56.967\"/>\r\n",
       "</g>\r\n",
       "<!-- 12 -->\r\n",
       "<g id=\"node13\" class=\"node\"><title>12</title>\r\n",
       "<polygon fill=\"#e58139\" fill-opacity=\"0.890196\" stroke=\"black\" points=\"677.5,-53 586.5,-53 586.5,-0 677.5,-0 677.5,-53\"/>\r\n",
       "<text text-anchor=\"middle\" x=\"632\" y=\"-37.8\" font-family=\"Times New Roman,serif\" font-size=\"14.00\">samples = 10</text>\r\n",
       "<text text-anchor=\"middle\" x=\"632\" y=\"-22.8\" font-family=\"Times New Roman,serif\" font-size=\"14.00\">value = [9, 1]</text>\r\n",
       "<text text-anchor=\"middle\" x=\"632\" y=\"-7.8\" font-family=\"Times New Roman,serif\" font-size=\"14.00\">class = Die</text>\r\n",
       "</g>\r\n",
       "<!-- 10&#45;&gt;12 -->\r\n",
       "<g id=\"edge12\" class=\"edge\"><title>10&#45;&gt;12</title>\r\n",
       "<path fill=\"none\" stroke=\"black\" d=\"M630.049,-88.9485C630.311,-80.7153 630.592,-71.848 630.858,-63.4814\"/>\r\n",
       "<polygon fill=\"black\" stroke=\"black\" points=\"634.364,-63.3428 631.183,-53.2367 627.367,-63.1206 634.364,-63.3428\"/>\r\n",
       "</g>\r\n",
       "<!-- 14 -->\r\n",
       "<g id=\"node15\" class=\"node\"><title>14</title>\r\n",
       "<polygon fill=\"#399de5\" stroke=\"black\" points=\"796,-53 696,-53 696,-0 796,-0 796,-53\"/>\r\n",
       "<text text-anchor=\"middle\" x=\"746\" y=\"-37.8\" font-family=\"Times New Roman,serif\" font-size=\"14.00\">samples = 1</text>\r\n",
       "<text text-anchor=\"middle\" x=\"746\" y=\"-22.8\" font-family=\"Times New Roman,serif\" font-size=\"14.00\">value = [0, 1]</text>\r\n",
       "<text text-anchor=\"middle\" x=\"746\" y=\"-7.8\" font-family=\"Times New Roman,serif\" font-size=\"14.00\">class = survive</text>\r\n",
       "</g>\r\n",
       "<!-- 13&#45;&gt;14 -->\r\n",
       "<g id=\"edge14\" class=\"edge\"><title>13&#45;&gt;14</title>\r\n",
       "<path fill=\"none\" stroke=\"black\" d=\"M747.951,-88.9485C747.689,-80.7153 747.408,-71.848 747.142,-63.4814\"/>\r\n",
       "<polygon fill=\"black\" stroke=\"black\" points=\"750.633,-63.1206 746.817,-53.2367 743.636,-63.3428 750.633,-63.1206\"/>\r\n",
       "</g>\r\n",
       "<!-- 15 -->\r\n",
       "<g id=\"node16\" class=\"node\"><title>15</title>\r\n",
       "<polygon fill=\"#e58139\" fill-opacity=\"0.917647\" stroke=\"black\" points=\"912,-53 814,-53 814,-0 912,-0 912,-53\"/>\r\n",
       "<text text-anchor=\"middle\" x=\"863\" y=\"-37.8\" font-family=\"Times New Roman,serif\" font-size=\"14.00\">samples = 26</text>\r\n",
       "<text text-anchor=\"middle\" x=\"863\" y=\"-22.8\" font-family=\"Times New Roman,serif\" font-size=\"14.00\">value = [24, 2]</text>\r\n",
       "<text text-anchor=\"middle\" x=\"863\" y=\"-7.8\" font-family=\"Times New Roman,serif\" font-size=\"14.00\">class = Die</text>\r\n",
       "</g>\r\n",
       "<!-- 13&#45;&gt;15 -->\r\n",
       "<g id=\"edge15\" class=\"edge\"><title>13&#45;&gt;15</title>\r\n",
       "<path fill=\"none\" stroke=\"black\" d=\"M788.872,-88.9485C800.238,-79.526 812.607,-69.2731 823.926,-59.8906\"/>\r\n",
       "<polygon fill=\"black\" stroke=\"black\" points=\"826.487,-62.3132 831.953,-53.2367 822.02,-56.924 826.487,-62.3132\"/>\r\n",
       "</g>\r\n",
       "<!-- 17 -->\r\n",
       "<g id=\"node18\" class=\"node\"><title>17</title>\r\n",
       "<polygon fill=\"#399de5\" fill-opacity=\"0.215686\" stroke=\"black\" points=\"1198,-261 1094,-261 1094,-193 1198,-193 1198,-261\"/>\r\n",
       "<text text-anchor=\"middle\" x=\"1146\" y=\"-245.8\" font-family=\"Times New Roman,serif\" font-size=\"14.00\">Siblings &lt;= 2.5</text>\r\n",
       "<text text-anchor=\"middle\" x=\"1146\" y=\"-230.8\" font-family=\"Times New Roman,serif\" font-size=\"14.00\">samples = 41</text>\r\n",
       "<text text-anchor=\"middle\" x=\"1146\" y=\"-215.8\" font-family=\"Times New Roman,serif\" font-size=\"14.00\">value = [18, 23]</text>\r\n",
       "<text text-anchor=\"middle\" x=\"1146\" y=\"-200.8\" font-family=\"Times New Roman,serif\" font-size=\"14.00\">class = survive</text>\r\n",
       "</g>\r\n",
       "<!-- 16&#45;&gt;17 -->\r\n",
       "<g id=\"edge17\" class=\"edge\"><title>16&#45;&gt;17</title>\r\n",
       "<path fill=\"none\" stroke=\"black\" d=\"M1146,-296.884C1146,-288.778 1146,-279.982 1146,-271.472\"/>\r\n",
       "<polygon fill=\"black\" stroke=\"black\" points=\"1149.5,-271.299 1146,-261.299 1142.5,-271.299 1149.5,-271.299\"/>\r\n",
       "</g>\r\n",
       "<!-- 24 -->\r\n",
       "<g id=\"node25\" class=\"node\"><title>24</title>\r\n",
       "<polygon fill=\"#e58139\" fill-opacity=\"0.807843\" stroke=\"black\" points=\"1555.5,-261 1444.5,-261 1444.5,-193 1555.5,-193 1555.5,-261\"/>\r\n",
       "<text text-anchor=\"middle\" x=\"1500\" y=\"-245.8\" font-family=\"Times New Roman,serif\" font-size=\"14.00\">Fare &lt;= 26.269</text>\r\n",
       "<text text-anchor=\"middle\" x=\"1500\" y=\"-230.8\" font-family=\"Times New Roman,serif\" font-size=\"14.00\">samples = 532</text>\r\n",
       "<text text-anchor=\"middle\" x=\"1500\" y=\"-215.8\" font-family=\"Times New Roman,serif\" font-size=\"14.00\">value = [446, 86]</text>\r\n",
       "<text text-anchor=\"middle\" x=\"1500\" y=\"-200.8\" font-family=\"Times New Roman,serif\" font-size=\"14.00\">class = Die</text>\r\n",
       "</g>\r\n",
       "<!-- 16&#45;&gt;24 -->\r\n",
       "<g id=\"edge24\" class=\"edge\"><title>16&#45;&gt;24</title>\r\n",
       "<path fill=\"none\" stroke=\"black\" d=\"M1205.25,-312.927C1268.62,-294.668 1368.85,-265.788 1434.52,-246.867\"/>\r\n",
       "<polygon fill=\"black\" stroke=\"black\" points=\"1435.71,-250.166 1444.35,-244.034 1433.77,-243.44 1435.71,-250.166\"/>\r\n",
       "</g>\r\n",
       "<!-- 18 -->\r\n",
       "<g id=\"node19\" class=\"node\"><title>18</title>\r\n",
       "<polygon fill=\"#399de5\" fill-opacity=\"0.952941\" stroke=\"black\" points=\"1138,-157 1038,-157 1038,-89 1138,-89 1138,-157\"/>\r\n",
       "<text text-anchor=\"middle\" x=\"1088\" y=\"-141.8\" font-family=\"Times New Roman,serif\" font-size=\"14.00\">Parents &lt;= 0.5</text>\r\n",
       "<text text-anchor=\"middle\" x=\"1088\" y=\"-126.8\" font-family=\"Times New Roman,serif\" font-size=\"14.00\">samples = 23</text>\r\n",
       "<text text-anchor=\"middle\" x=\"1088\" y=\"-111.8\" font-family=\"Times New Roman,serif\" font-size=\"14.00\">value = [1, 22]</text>\r\n",
       "<text text-anchor=\"middle\" x=\"1088\" y=\"-96.8\" font-family=\"Times New Roman,serif\" font-size=\"14.00\">class = survive</text>\r\n",
       "</g>\r\n",
       "<!-- 17&#45;&gt;18 -->\r\n",
       "<g id=\"edge18\" class=\"edge\"><title>17&#45;&gt;18</title>\r\n",
       "<path fill=\"none\" stroke=\"black\" d=\"M1127.17,-192.884C1122.31,-184.332 1117.01,-175.013 1111.92,-166.072\"/>\r\n",
       "<polygon fill=\"black\" stroke=\"black\" points=\"1114.92,-164.262 1106.93,-157.299 1108.84,-167.722 1114.92,-164.262\"/>\r\n",
       "</g>\r\n",
       "<!-- 21 -->\r\n",
       "<g id=\"node22\" class=\"node\"><title>21</title>\r\n",
       "<polygon fill=\"#e58139\" fill-opacity=\"0.941176\" stroke=\"black\" points=\"1254,-157 1156,-157 1156,-89 1254,-89 1254,-157\"/>\r\n",
       "<text text-anchor=\"middle\" x=\"1205\" y=\"-141.8\" font-family=\"Times New Roman,serif\" font-size=\"14.00\">Age &lt;= 3.5</text>\r\n",
       "<text text-anchor=\"middle\" x=\"1205\" y=\"-126.8\" font-family=\"Times New Roman,serif\" font-size=\"14.00\">samples = 18</text>\r\n",
       "<text text-anchor=\"middle\" x=\"1205\" y=\"-111.8\" font-family=\"Times New Roman,serif\" font-size=\"14.00\">value = [17, 1]</text>\r\n",
       "<text text-anchor=\"middle\" x=\"1205\" y=\"-96.8\" font-family=\"Times New Roman,serif\" font-size=\"14.00\">class = Die</text>\r\n",
       "</g>\r\n",
       "<!-- 17&#45;&gt;21 -->\r\n",
       "<g id=\"edge21\" class=\"edge\"><title>17&#45;&gt;21</title>\r\n",
       "<path fill=\"none\" stroke=\"black\" d=\"M1165.16,-192.884C1170.1,-184.332 1175.49,-175.013 1180.66,-166.072\"/>\r\n",
       "<polygon fill=\"black\" stroke=\"black\" points=\"1183.76,-167.708 1185.74,-157.299 1177.7,-164.203 1183.76,-167.708\"/>\r\n",
       "</g>\r\n",
       "<!-- 19 -->\r\n",
       "<g id=\"node20\" class=\"node\"><title>19</title>\r\n",
       "<polygon fill=\"none\" stroke=\"black\" points=\"1021.5,-53 930.5,-53 930.5,-0 1021.5,-0 1021.5,-53\"/>\r\n",
       "<text text-anchor=\"middle\" x=\"976\" y=\"-37.8\" font-family=\"Times New Roman,serif\" font-size=\"14.00\">samples = 2</text>\r\n",
       "<text text-anchor=\"middle\" x=\"976\" y=\"-22.8\" font-family=\"Times New Roman,serif\" font-size=\"14.00\">value = [1, 1]</text>\r\n",
       "<text text-anchor=\"middle\" x=\"976\" y=\"-7.8\" font-family=\"Times New Roman,serif\" font-size=\"14.00\">class = Die</text>\r\n",
       "</g>\r\n",
       "<!-- 18&#45;&gt;19 -->\r\n",
       "<g id=\"edge19\" class=\"edge\"><title>18&#45;&gt;19</title>\r\n",
       "<path fill=\"none\" stroke=\"black\" d=\"M1048.83,-88.9485C1037.66,-79.526 1025.51,-69.2731 1014.39,-59.8906\"/>\r\n",
       "<polygon fill=\"black\" stroke=\"black\" points=\"1016.4,-57.0104 1006.5,-53.2367 1011.89,-62.3605 1016.4,-57.0104\"/>\r\n",
       "</g>\r\n",
       "<!-- 20 -->\r\n",
       "<g id=\"node21\" class=\"node\"><title>20</title>\r\n",
       "<polygon fill=\"#399de5\" stroke=\"black\" points=\"1140,-53 1040,-53 1040,-0 1140,-0 1140,-53\"/>\r\n",
       "<text text-anchor=\"middle\" x=\"1090\" y=\"-37.8\" font-family=\"Times New Roman,serif\" font-size=\"14.00\">samples = 21</text>\r\n",
       "<text text-anchor=\"middle\" x=\"1090\" y=\"-22.8\" font-family=\"Times New Roman,serif\" font-size=\"14.00\">value = [0, 21]</text>\r\n",
       "<text text-anchor=\"middle\" x=\"1090\" y=\"-7.8\" font-family=\"Times New Roman,serif\" font-size=\"14.00\">class = survive</text>\r\n",
       "</g>\r\n",
       "<!-- 18&#45;&gt;20 -->\r\n",
       "<g id=\"edge20\" class=\"edge\"><title>18&#45;&gt;20</title>\r\n",
       "<path fill=\"none\" stroke=\"black\" d=\"M1088.7,-88.9485C1088.87,-80.7153 1089.06,-71.848 1089.24,-63.4814\"/>\r\n",
       "<polygon fill=\"black\" stroke=\"black\" points=\"1092.74,-63.3086 1089.46,-53.2367 1085.74,-63.1604 1092.74,-63.3086\"/>\r\n",
       "</g>\r\n",
       "<!-- 22 -->\r\n",
       "<g id=\"node23\" class=\"node\"><title>22</title>\r\n",
       "<polygon fill=\"#e58139\" fill-opacity=\"0.800000\" stroke=\"black\" points=\"1249.5,-53 1158.5,-53 1158.5,-0 1249.5,-0 1249.5,-53\"/>\r\n",
       "<text text-anchor=\"middle\" x=\"1204\" y=\"-37.8\" font-family=\"Times New Roman,serif\" font-size=\"14.00\">samples = 6</text>\r\n",
       "<text text-anchor=\"middle\" x=\"1204\" y=\"-22.8\" font-family=\"Times New Roman,serif\" font-size=\"14.00\">value = [5, 1]</text>\r\n",
       "<text text-anchor=\"middle\" x=\"1204\" y=\"-7.8\" font-family=\"Times New Roman,serif\" font-size=\"14.00\">class = Die</text>\r\n",
       "</g>\r\n",
       "<!-- 21&#45;&gt;22 -->\r\n",
       "<g id=\"edge22\" class=\"edge\"><title>21&#45;&gt;22</title>\r\n",
       "<path fill=\"none\" stroke=\"black\" d=\"M1204.65,-88.9485C1204.56,-80.7153 1204.47,-71.848 1204.38,-63.4814\"/>\r\n",
       "<polygon fill=\"black\" stroke=\"black\" points=\"1207.88,-63.1991 1204.27,-53.2367 1200.88,-63.2732 1207.88,-63.1991\"/>\r\n",
       "</g>\r\n",
       "<!-- 23 -->\r\n",
       "<g id=\"node24\" class=\"node\"><title>23</title>\r\n",
       "<polygon fill=\"#e58139\" stroke=\"black\" points=\"1366,-53 1268,-53 1268,-0 1366,-0 1366,-53\"/>\r\n",
       "<text text-anchor=\"middle\" x=\"1317\" y=\"-37.8\" font-family=\"Times New Roman,serif\" font-size=\"14.00\">samples = 12</text>\r\n",
       "<text text-anchor=\"middle\" x=\"1317\" y=\"-22.8\" font-family=\"Times New Roman,serif\" font-size=\"14.00\">value = [12, 0]</text>\r\n",
       "<text text-anchor=\"middle\" x=\"1317\" y=\"-7.8\" font-family=\"Times New Roman,serif\" font-size=\"14.00\">class = Die</text>\r\n",
       "</g>\r\n",
       "<!-- 21&#45;&gt;23 -->\r\n",
       "<g id=\"edge23\" class=\"edge\"><title>21&#45;&gt;23</title>\r\n",
       "<path fill=\"none\" stroke=\"black\" d=\"M1244.17,-88.9485C1255.34,-79.526 1267.49,-69.2731 1278.61,-59.8906\"/>\r\n",
       "<polygon fill=\"black\" stroke=\"black\" points=\"1281.11,-62.3605 1286.5,-53.2367 1276.6,-57.0104 1281.11,-62.3605\"/>\r\n",
       "</g>\r\n",
       "<!-- 25 -->\r\n",
       "<g id=\"node26\" class=\"node\"><title>25</title>\r\n",
       "<polygon fill=\"#e58139\" fill-opacity=\"0.890196\" stroke=\"black\" points=\"1555.5,-157 1444.5,-157 1444.5,-89 1555.5,-89 1555.5,-157\"/>\r\n",
       "<text text-anchor=\"middle\" x=\"1500\" y=\"-141.8\" font-family=\"Times New Roman,serif\" font-size=\"14.00\">Age &lt;= 32.5</text>\r\n",
       "<text text-anchor=\"middle\" x=\"1500\" y=\"-126.8\" font-family=\"Times New Roman,serif\" font-size=\"14.00\">samples = 393</text>\r\n",
       "<text text-anchor=\"middle\" x=\"1500\" y=\"-111.8\" font-family=\"Times New Roman,serif\" font-size=\"14.00\">value = [354, 39]</text>\r\n",
       "<text text-anchor=\"middle\" x=\"1500\" y=\"-96.8\" font-family=\"Times New Roman,serif\" font-size=\"14.00\">class = Die</text>\r\n",
       "</g>\r\n",
       "<!-- 24&#45;&gt;25 -->\r\n",
       "<g id=\"edge25\" class=\"edge\"><title>24&#45;&gt;25</title>\r\n",
       "<path fill=\"none\" stroke=\"black\" d=\"M1500,-192.884C1500,-184.778 1500,-175.982 1500,-167.472\"/>\r\n",
       "<polygon fill=\"black\" stroke=\"black\" points=\"1503.5,-167.299 1500,-157.299 1496.5,-167.299 1503.5,-167.299\"/>\r\n",
       "</g>\r\n",
       "<!-- 28 -->\r\n",
       "<g id=\"node29\" class=\"node\"><title>28</title>\r\n",
       "<polygon fill=\"#e58139\" fill-opacity=\"0.490196\" stroke=\"black\" points=\"1738,-157 1634,-157 1634,-89 1738,-89 1738,-157\"/>\r\n",
       "<text text-anchor=\"middle\" x=\"1686\" y=\"-141.8\" font-family=\"Times New Roman,serif\" font-size=\"14.00\">Fare &lt;= 26.469</text>\r\n",
       "<text text-anchor=\"middle\" x=\"1686\" y=\"-126.8\" font-family=\"Times New Roman,serif\" font-size=\"14.00\">samples = 139</text>\r\n",
       "<text text-anchor=\"middle\" x=\"1686\" y=\"-111.8\" font-family=\"Times New Roman,serif\" font-size=\"14.00\">value = [92, 47]</text>\r\n",
       "<text text-anchor=\"middle\" x=\"1686\" y=\"-96.8\" font-family=\"Times New Roman,serif\" font-size=\"14.00\">class = Die</text>\r\n",
       "</g>\r\n",
       "<!-- 24&#45;&gt;28 -->\r\n",
       "<g id=\"edge28\" class=\"edge\"><title>24&#45;&gt;28</title>\r\n",
       "<path fill=\"none\" stroke=\"black\" d=\"M1555.55,-195.535C1577.38,-183.565 1602.51,-169.783 1624.85,-157.531\"/>\r\n",
       "<polygon fill=\"black\" stroke=\"black\" points=\"1626.83,-160.44 1633.91,-152.563 1623.46,-154.303 1626.83,-160.44\"/>\r\n",
       "</g>\r\n",
       "<!-- 26 -->\r\n",
       "<g id=\"node27\" class=\"node\"><title>26</title>\r\n",
       "<polygon fill=\"#e58139\" fill-opacity=\"0.858824\" stroke=\"black\" points=\"1495.5,-53 1384.5,-53 1384.5,-0 1495.5,-0 1495.5,-53\"/>\r\n",
       "<text text-anchor=\"middle\" x=\"1440\" y=\"-37.8\" font-family=\"Times New Roman,serif\" font-size=\"14.00\">samples = 267</text>\r\n",
       "<text text-anchor=\"middle\" x=\"1440\" y=\"-22.8\" font-family=\"Times New Roman,serif\" font-size=\"14.00\">value = [234, 33]</text>\r\n",
       "<text text-anchor=\"middle\" x=\"1440\" y=\"-7.8\" font-family=\"Times New Roman,serif\" font-size=\"14.00\">class = Die</text>\r\n",
       "</g>\r\n",
       "<!-- 25&#45;&gt;26 -->\r\n",
       "<g id=\"edge26\" class=\"edge\"><title>25&#45;&gt;26</title>\r\n",
       "<path fill=\"none\" stroke=\"black\" d=\"M1479.01,-88.9485C1473.44,-80.1664 1467.41,-70.6629 1461.79,-61.815\"/>\r\n",
       "<polygon fill=\"black\" stroke=\"black\" points=\"1464.66,-59.8028 1456.34,-53.2367 1458.75,-63.5549 1464.66,-59.8028\"/>\r\n",
       "</g>\r\n",
       "<!-- 27 -->\r\n",
       "<g id=\"node28\" class=\"node\"><title>27</title>\r\n",
       "<polygon fill=\"#e58139\" fill-opacity=\"0.949020\" stroke=\"black\" points=\"1618,-53 1514,-53 1514,-0 1618,-0 1618,-53\"/>\r\n",
       "<text text-anchor=\"middle\" x=\"1566\" y=\"-37.8\" font-family=\"Times New Roman,serif\" font-size=\"14.00\">samples = 126</text>\r\n",
       "<text text-anchor=\"middle\" x=\"1566\" y=\"-22.8\" font-family=\"Times New Roman,serif\" font-size=\"14.00\">value = [120, 6]</text>\r\n",
       "<text text-anchor=\"middle\" x=\"1566\" y=\"-7.8\" font-family=\"Times New Roman,serif\" font-size=\"14.00\">class = Die</text>\r\n",
       "</g>\r\n",
       "<!-- 25&#45;&gt;27 -->\r\n",
       "<g id=\"edge27\" class=\"edge\"><title>25&#45;&gt;27</title>\r\n",
       "<path fill=\"none\" stroke=\"black\" d=\"M1523.08,-88.9485C1529.28,-80.0749 1535.99,-70.4648 1542.23,-61.5388\"/>\r\n",
       "<polygon fill=\"black\" stroke=\"black\" points=\"1545.17,-63.4392 1548.03,-53.2367 1539.43,-59.4311 1545.17,-63.4392\"/>\r\n",
       "</g>\r\n",
       "<!-- 29 -->\r\n",
       "<g id=\"node30\" class=\"node\"><title>29</title>\r\n",
       "<polygon fill=\"#399de5\" stroke=\"black\" points=\"1736,-53 1636,-53 1636,-0 1736,-0 1736,-53\"/>\r\n",
       "<text text-anchor=\"middle\" x=\"1686\" y=\"-37.8\" font-family=\"Times New Roman,serif\" font-size=\"14.00\">samples = 4</text>\r\n",
       "<text text-anchor=\"middle\" x=\"1686\" y=\"-22.8\" font-family=\"Times New Roman,serif\" font-size=\"14.00\">value = [0, 4]</text>\r\n",
       "<text text-anchor=\"middle\" x=\"1686\" y=\"-7.8\" font-family=\"Times New Roman,serif\" font-size=\"14.00\">class = survive</text>\r\n",
       "</g>\r\n",
       "<!-- 28&#45;&gt;29 -->\r\n",
       "<g id=\"edge29\" class=\"edge\"><title>28&#45;&gt;29</title>\r\n",
       "<path fill=\"none\" stroke=\"black\" d=\"M1686,-88.9485C1686,-80.7153 1686,-71.848 1686,-63.4814\"/>\r\n",
       "<polygon fill=\"black\" stroke=\"black\" points=\"1689.5,-63.2367 1686,-53.2367 1682.5,-63.2367 1689.5,-63.2367\"/>\r\n",
       "</g>\r\n",
       "<!-- 30 -->\r\n",
       "<g id=\"node31\" class=\"node\"><title>30</title>\r\n",
       "<polygon fill=\"#e58139\" fill-opacity=\"0.533333\" stroke=\"black\" points=\"1858,-53 1754,-53 1754,-0 1858,-0 1858,-53\"/>\r\n",
       "<text text-anchor=\"middle\" x=\"1806\" y=\"-37.8\" font-family=\"Times New Roman,serif\" font-size=\"14.00\">samples = 135</text>\r\n",
       "<text text-anchor=\"middle\" x=\"1806\" y=\"-22.8\" font-family=\"Times New Roman,serif\" font-size=\"14.00\">value = [92, 43]</text>\r\n",
       "<text text-anchor=\"middle\" x=\"1806\" y=\"-7.8\" font-family=\"Times New Roman,serif\" font-size=\"14.00\">class = Die</text>\r\n",
       "</g>\r\n",
       "<!-- 28&#45;&gt;30 -->\r\n",
       "<g id=\"edge30\" class=\"edge\"><title>28&#45;&gt;30</title>\r\n",
       "<path fill=\"none\" stroke=\"black\" d=\"M1727.97,-88.9485C1740.05,-79.4346 1753.21,-69.074 1765.22,-59.6175\"/>\r\n",
       "<polygon fill=\"black\" stroke=\"black\" points=\"1767.63,-62.1734 1773.32,-53.2367 1763.3,-56.6739 1767.63,-62.1734\"/>\r\n",
       "</g>\r\n",
       "</g>\r\n",
       "</svg>\r\n"
      ],
      "text/plain": [
       "<graphviz.files.Source at 0x26a33b3ec18>"
      ]
     },
     "metadata": {},
     "output_type": "display_data"
    }
   ],
   "source": [
    "export_graphviz(model, out_file='titanic.dot', class_names=['Die','survive'],\n",
    "               feature_names=X.columns, impurity=False, filled=True)\n",
    "with open('titanic.dot') as f:\n",
    "    dot_graph = f.read()    \n",
    "display(graphviz.Source(dot_graph))"
   ]
  },
  {
   "cell_type": "code",
   "execution_count": 146,
   "metadata": {
    "scrolled": true
   },
   "outputs": [
    {
     "data": {
      "text/plain": [
       "(9578, 14)"
      ]
     },
     "execution_count": 146,
     "metadata": {},
     "output_type": "execute_result"
    }
   ],
   "source": [
    "loans = pd.read_csv('loans.csv')\n",
    "loans.shape"
   ]
  },
  {
   "cell_type": "code",
   "execution_count": 147,
   "metadata": {
    "scrolled": true
   },
   "outputs": [
    {
     "data": {
      "text/plain": [
       "credit.policy         0\n",
       "purpose               0\n",
       "int.rate              0\n",
       "installment           0\n",
       "log.annual.inc        4\n",
       "dti                   0\n",
       "fico                  0\n",
       "days.with.cr.line    29\n",
       "revol.bal             0\n",
       "revol.util           62\n",
       "inq.last.6mths       29\n",
       "delinq.2yrs          29\n",
       "pub.rec              29\n",
       "not.fully.paid        0\n",
       "dtype: int64"
      ]
     },
     "execution_count": 147,
     "metadata": {},
     "output_type": "execute_result"
    }
   ],
   "source": [
    "#누락 데이터 체크\n",
    "loans.isna().sum()"
   ]
  },
  {
   "cell_type": "code",
   "execution_count": 148,
   "metadata": {},
   "outputs": [
    {
     "data": {
      "text/plain": [
       "0"
      ]
     },
     "execution_count": 148,
     "metadata": {},
     "output_type": "execute_result"
    }
   ],
   "source": [
    "loans = loans.dropna()\n",
    "loans.isna().sum().sum()"
   ]
  },
  {
   "cell_type": "code",
   "execution_count": 149,
   "metadata": {
    "scrolled": true
   },
   "outputs": [
    {
     "data": {
      "text/plain": [
       "0.1598360655737705"
      ]
     },
     "execution_count": 149,
     "metadata": {},
     "output_type": "execute_result"
    }
   ],
   "source": [
    "loans['not.fully.paid'].mean()"
   ]
  },
  {
   "cell_type": "code",
   "execution_count": 150,
   "metadata": {},
   "outputs": [
    {
     "data": {
      "text/plain": [
       "Index(['credit.policy', 'purpose', 'int.rate', 'installment', 'log.annual.inc',\n",
       "       'dti', 'fico', 'days.with.cr.line', 'revol.bal', 'revol.util',\n",
       "       'inq.last.6mths', 'delinq.2yrs', 'pub.rec', 'not.fully.paid'],\n",
       "      dtype='object')"
      ]
     },
     "execution_count": 150,
     "metadata": {},
     "output_type": "execute_result"
    }
   ],
   "source": [
    "loans.columns"
   ]
  },
  {
   "cell_type": "code",
   "execution_count": 155,
   "metadata": {},
   "outputs": [
    {
     "data": {
      "text/plain": [
       "purpose\n",
       "all_other             0.165502\n",
       "credit_card           0.115171\n",
       "debt_consolidation    0.152190\n",
       "educational           0.202941\n",
       "home_improvement      0.168790\n",
       "major_purchase        0.113426\n",
       "small_business        0.278317\n",
       "Name: not.fully.paid, dtype: float64"
      ]
     },
     "execution_count": 155,
     "metadata": {},
     "output_type": "execute_result"
    }
   ],
   "source": [
    "loans.groupby('purpose')['not.fully.paid'].mean()"
   ]
  },
  {
   "cell_type": "code",
   "execution_count": 113,
   "metadata": {
    "scrolled": true
   },
   "outputs": [
    {
     "data": {
      "image/png": "[encoded data removed]",
      "text/plain": [
       "<Figure size 144x144 with 1 Axes>"
      ]
     },
     "metadata": {},
     "output_type": "display_data"
    }
   ],
   "source": [
    "plt.figure(figsize=(2,2))\n",
    "p = plt.pie(loans.purpose.value_counts(),labels=loans.purpose.unique(),\n",
    "            autopct='%.2f')"
   ]
  },
  {
   "cell_type": "code",
   "execution_count": 140,
   "metadata": {},
   "outputs": [
    {
     "data": {
      "image/png": "[encoded data removed]",
      "text/plain": [
       "<Figure size 720x144 with 1 Axes>"
      ]
     },
     "metadata": {
      "needs_background": "light"
     },
     "output_type": "display_data"
    }
   ],
   "source": [
    "plt.figure(figsize=(10,2))\n",
    "p = plt.hist(loans['credit.policy'])\n",
    "p = plt.title('credit.policy')"
   ]
  },
  {
   "cell_type": "code",
   "execution_count": 120,
   "metadata": {
    "scrolled": true
   },
   "outputs": [
    {
     "data": {
      "image/png": "[encoded data removed]",
      "text/plain": [
       "<Figure size 720x144 with 1 Axes>"
      ]
     },
     "metadata": {
      "needs_background": "light"
     },
     "output_type": "display_data"
    }
   ],
   "source": [
    "plt.figure(figsize=(10,2))\n",
    "p = plt.hist(loans['installment'])\n",
    "p = plt.title('installment')"
   ]
  },
  {
   "cell_type": "code",
   "execution_count": 129,
   "metadata": {
    "scrolled": true
   },
   "outputs": [
    {
     "data": {
      "image/png": "[encoded data removed]",
      "text/plain": [
       "<Figure size 720x144 with 1 Axes>"
      ]
     },
     "metadata": {
      "needs_background": "light"
     },
     "output_type": "display_data"
    }
   ],
   "source": [
    "plt.figure(figsize=(10,2))\n",
    "p = plt.hist(loans['int.rate'][loans['not.fully.paid']==0], label='ok')\n",
    "p = plt.hist(loans['int.rate'][loans['not.fully.paid']==1], label='no')\n",
    "p = plt.title('int.rate')\n",
    "p = plt.legend()"
   ]
  },
  {
   "cell_type": "code",
   "execution_count": 128,
   "metadata": {
    "scrolled": false
   },
   "outputs": [
    {
     "data": {
      "image/png": "[encoded data removed]",
      "text/plain": [
       "<Figure size 720x144 with 1 Axes>"
      ]
     },
     "metadata": {
      "needs_background": "light"
     },
     "output_type": "display_data"
    }
   ],
   "source": [
    "plt.figure(figsize=(10,2))\n",
    "# 데이터[조건]\n",
    "p = plt.hist(loans['installment'][loans['not.fully.paid']==0], label='ok')\n",
    "p = plt.hist(loans['installment'][loans['not.fully.paid']==1], label='no')\n",
    "p = plt.title('installment vs ')\n",
    "p = plt.legend()"
   ]
  },
  {
   "cell_type": "code",
   "execution_count": 144,
   "metadata": {},
   "outputs": [
    {
     "data": {
      "image/png": "[encoded data removed]",
      "text/plain": [
       "<Figure size 720x144 with 1 Axes>"
      ]
     },
     "metadata": {
      "needs_background": "light"
     },
     "output_type": "display_data"
    }
   ],
   "source": [
    "plt.figure(figsize=(10,2))\n",
    "# 데이터[조건]\n",
    "p = plt.hist(loans['fico'][loans['not.fully.paid']==0], label='ok')\n",
    "p = plt.hist(loans['fico'][loans['not.fully.paid']==1], label='no')\n",
    "p = plt.title('fico')\n",
    "p = plt.legend()"
   ]
  },
  {
   "cell_type": "code",
   "execution_count": 139,
   "metadata": {},
   "outputs": [
    {
     "data": {
      "text/plain": [
       "array([1, 0], dtype=int64)"
      ]
     },
     "execution_count": 139,
     "metadata": {},
     "output_type": "execute_result"
    }
   ],
   "source": [
    "loans['credit.policy'].unique()"
   ]
  },
  {
   "cell_type": "code",
   "execution_count": 130,
   "metadata": {},
   "outputs": [],
   "source": [
    "loans = pd.get_dummies(loans)#카테고리를 원핫 인코딩"
   ]
  },
  {
   "cell_type": "code",
   "execution_count": 133,
   "metadata": {},
   "outputs": [],
   "source": [
    "X = loans.drop(columns='not.fully.paid')\n",
    "y = loans['not.fully.paid']"
   ]
  },
  {
   "cell_type": "code",
   "execution_count": 137,
   "metadata": {},
   "outputs": [
    {
     "data": {
      "text/plain": [
       "0.8456284153005464"
      ]
     },
     "execution_count": 137,
     "metadata": {},
     "output_type": "execute_result"
    }
   ],
   "source": [
    "model = DecisionTreeClassifier(max_depth=5).fit(X,y)\n",
    "model.score(X,y)"
   ]
  },
  {
   "cell_type": "code",
   "execution_count": 136,
   "metadata": {},
   "outputs": [
    {
     "data": {
      "image/svg+xml": [
       "<?xml version=\"1.0\" encoding=\"UTF-8\" standalone=\"no\"?>\r\n",
       "<!DOCTYPE svg PUBLIC \"-//W3C//DTD SVG 1.1//EN\"\r\n",
       " \"http://www.w3.org/Graphics/SVG/1.1/DTD/svg11.dtd\">\r\n",
       "<!-- Generated by graphviz version 2.38.0 (20140413.2041)\r\n",
       " -->\r\n",
       "<!-- Title: Tree Pages: 1 -->\r\n",
       "<svg width=\"3926pt\" height=\"581pt\"\r\n",
       " viewBox=\"0.00 0.00 3926.00 581.00\" xmlns=\"http://www.w3.org/2000/svg\" xmlns:xlink=\"http://www.w3.org/1999/xlink\">\r\n",
       "<g id=\"graph0\" class=\"graph\" transform=\"scale(1 1) rotate(0) translate(4 577)\">\r\n",
       "<title>Tree</title>\r\n",
       "<polygon fill=\"white\" stroke=\"none\" points=\"-4,4 -4,-577 3922,-577 3922,4 -4,4\"/>\r\n",
       "<!-- 0 -->\r\n",
       "<g id=\"node1\" class=\"node\"><title>0</title>\r\n",
       "<polygon fill=\"#e58139\" fill-opacity=\"0.807843\" stroke=\"black\" points=\"2053.5,-573 1922.5,-573 1922.5,-505 2053.5,-505 2053.5,-573\"/>\r\n",
       "<text text-anchor=\"middle\" x=\"1988\" y=\"-557.8\" font-family=\"Times New Roman,serif\" font-size=\"14.00\">credit.policy &lt;= 0.5</text>\r\n",
       "<text text-anchor=\"middle\" x=\"1988\" y=\"-542.8\" font-family=\"Times New Roman,serif\" font-size=\"14.00\">samples = 9516</text>\r\n",
       "<text text-anchor=\"middle\" x=\"1988\" y=\"-527.8\" font-family=\"Times New Roman,serif\" font-size=\"14.00\">value = [7995, 1521]</text>\r\n",
       "<text text-anchor=\"middle\" x=\"1988\" y=\"-512.8\" font-family=\"Times New Roman,serif\" font-size=\"14.00\">class = ok</text>\r\n",
       "</g>\r\n",
       "<!-- 1 -->\r\n",
       "<g id=\"node2\" class=\"node\"><title>1</title>\r\n",
       "<polygon fill=\"#e58139\" fill-opacity=\"0.607843\" stroke=\"black\" points=\"1547.5,-469 1412.5,-469 1412.5,-401 1547.5,-401 1547.5,-469\"/>\r\n",
       "<text text-anchor=\"middle\" x=\"1480\" y=\"-453.8\" font-family=\"Times New Roman,serif\" font-size=\"14.00\">inq.last.6mths &lt;= 5.5</text>\r\n",
       "<text text-anchor=\"middle\" x=\"1480\" y=\"-438.8\" font-family=\"Times New Roman,serif\" font-size=\"14.00\">samples = 1830</text>\r\n",
       "<text text-anchor=\"middle\" x=\"1480\" y=\"-423.8\" font-family=\"Times New Roman,serif\" font-size=\"14.00\">value = [1316, 514]</text>\r\n",
       "<text text-anchor=\"middle\" x=\"1480\" y=\"-408.8\" font-family=\"Times New Roman,serif\" font-size=\"14.00\">class = ok</text>\r\n",
       "</g>\r\n",
       "<!-- 0&#45;&gt;1 -->\r\n",
       "<g id=\"edge1\" class=\"edge\"><title>0&#45;&gt;1</title>\r\n",
       "<path fill=\"none\" stroke=\"black\" d=\"M1922.37,-524.822C1828.89,-506.052 1657.69,-471.678 1557.9,-451.641\"/>\r\n",
       "<polygon fill=\"black\" stroke=\"black\" points=\"1558.37,-448.166 1547.88,-449.629 1556.99,-455.029 1558.37,-448.166\"/>\r\n",
       "<text text-anchor=\"middle\" x=\"1561.73\" y=\"-466.74\" font-family=\"Times New Roman,serif\" font-size=\"14.00\">True</text>\r\n",
       "</g>\r\n",
       "<!-- 32 -->\r\n",
       "<g id=\"node33\" class=\"node\"><title>32</title>\r\n",
       "<polygon fill=\"#e58139\" fill-opacity=\"0.850980\" stroke=\"black\" points=\"2466.5,-469 2335.5,-469 2335.5,-401 2466.5,-401 2466.5,-469\"/>\r\n",
       "<text text-anchor=\"middle\" x=\"2401\" y=\"-453.8\" font-family=\"Times New Roman,serif\" font-size=\"14.00\">int.rate &lt;= 0.093</text>\r\n",
       "<text text-anchor=\"middle\" x=\"2401\" y=\"-438.8\" font-family=\"Times New Roman,serif\" font-size=\"14.00\">samples = 7686</text>\r\n",
       "<text text-anchor=\"middle\" x=\"2401\" y=\"-423.8\" font-family=\"Times New Roman,serif\" font-size=\"14.00\">value = [6679, 1007]</text>\r\n",
       "<text text-anchor=\"middle\" x=\"2401\" y=\"-408.8\" font-family=\"Times New Roman,serif\" font-size=\"14.00\">class = ok</text>\r\n",
       "</g>\r\n",
       "<!-- 0&#45;&gt;32 -->\r\n",
       "<g id=\"edge32\" class=\"edge\"><title>0&#45;&gt;32</title>\r\n",
       "<path fill=\"none\" stroke=\"black\" d=\"M2053.9,-521.725C2127.93,-503.44 2247.89,-473.814 2325.6,-454.621\"/>\r\n",
       "<polygon fill=\"black\" stroke=\"black\" points=\"2326.47,-458.013 2335.34,-452.217 2324.79,-451.217 2326.47,-458.013\"/>\r\n",
       "<text text-anchor=\"middle\" x=\"2322.41\" y=\"-469.918\" font-family=\"Times New Roman,serif\" font-size=\"14.00\">False</text>\r\n",
       "</g>\r\n",
       "<!-- 2 -->\r\n",
       "<g id=\"node3\" class=\"node\"><title>2</title>\r\n",
       "<polygon fill=\"#e58139\" fill-opacity=\"0.658824\" stroke=\"black\" points=\"837.5,-365 642.5,-365 642.5,-297 837.5,-297 837.5,-365\"/>\r\n",
       "<text text-anchor=\"middle\" x=\"740\" y=\"-349.8\" font-family=\"Times New Roman,serif\" font-size=\"14.00\">purpose_small_business &lt;= 0.5</text>\r\n",
       "<text text-anchor=\"middle\" x=\"740\" y=\"-334.8\" font-family=\"Times New Roman,serif\" font-size=\"14.00\">samples = 1401</text>\r\n",
       "<text text-anchor=\"middle\" x=\"740\" y=\"-319.8\" font-family=\"Times New Roman,serif\" font-size=\"14.00\">value = [1044, 357]</text>\r\n",
       "<text text-anchor=\"middle\" x=\"740\" y=\"-304.8\" font-family=\"Times New Roman,serif\" font-size=\"14.00\">class = ok</text>\r\n",
       "</g>\r\n",
       "<!-- 1&#45;&gt;2 -->\r\n",
       "<g id=\"edge2\" class=\"edge\"><title>1&#45;&gt;2</title>\r\n",
       "<path fill=\"none\" stroke=\"black\" d=\"M1412.37,-424.678C1283.63,-406.932 1002.41,-368.169 847.563,-346.826\"/>\r\n",
       "<polygon fill=\"black\" stroke=\"black\" points=\"847.934,-343.344 837.55,-345.446 846.978,-350.279 847.934,-343.344\"/>\r\n",
       "</g>\r\n",
       "<!-- 17 -->\r\n",
       "<g id=\"node18\" class=\"node\"><title>17</title>\r\n",
       "<polygon fill=\"#e58139\" fill-opacity=\"0.423529\" stroke=\"black\" points=\"1539,-365 1421,-365 1421,-297 1539,-297 1539,-365\"/>\r\n",
       "<text text-anchor=\"middle\" x=\"1480\" y=\"-349.8\" font-family=\"Times New Roman,serif\" font-size=\"14.00\">int.rate &lt;= 0.166</text>\r\n",
       "<text text-anchor=\"middle\" x=\"1480\" y=\"-334.8\" font-family=\"Times New Roman,serif\" font-size=\"14.00\">samples = 429</text>\r\n",
       "<text text-anchor=\"middle\" x=\"1480\" y=\"-319.8\" font-family=\"Times New Roman,serif\" font-size=\"14.00\">value = [272, 157]</text>\r\n",
       "<text text-anchor=\"middle\" x=\"1480\" y=\"-304.8\" font-family=\"Times New Roman,serif\" font-size=\"14.00\">class = ok</text>\r\n",
       "</g>\r\n",
       "<!-- 1&#45;&gt;17 -->\r\n",
       "<g id=\"edge17\" class=\"edge\"><title>1&#45;&gt;17</title>\r\n",
       "<path fill=\"none\" stroke=\"black\" d=\"M1480,-400.884C1480,-392.778 1480,-383.982 1480,-375.472\"/>\r\n",
       "<polygon fill=\"black\" stroke=\"black\" points=\"1483.5,-375.299 1480,-365.299 1476.5,-375.299 1483.5,-375.299\"/>\r\n",
       "</g>\r\n",
       "<!-- 3 -->\r\n",
       "<g id=\"node4\" class=\"node\"><title>3</title>\r\n",
       "<polygon fill=\"#e58139\" fill-opacity=\"0.682353\" stroke=\"black\" points=\"424,-261 306,-261 306,-193 424,-193 424,-261\"/>\r\n",
       "<text text-anchor=\"middle\" x=\"365\" y=\"-245.8\" font-family=\"Times New Roman,serif\" font-size=\"14.00\">dti &lt;= 0.235</text>\r\n",
       "<text text-anchor=\"middle\" x=\"365\" y=\"-230.8\" font-family=\"Times New Roman,serif\" font-size=\"14.00\">samples = 1313</text>\r\n",
       "<text text-anchor=\"middle\" x=\"365\" y=\"-215.8\" font-family=\"Times New Roman,serif\" font-size=\"14.00\">value = [996, 317]</text>\r\n",
       "<text text-anchor=\"middle\" x=\"365\" y=\"-200.8\" font-family=\"Times New Roman,serif\" font-size=\"14.00\">class = ok</text>\r\n",
       "</g>\r\n",
       "<!-- 2&#45;&gt;3 -->\r\n",
       "<g id=\"edge3\" class=\"edge\"><title>2&#45;&gt;3</title>\r\n",
       "<path fill=\"none\" stroke=\"black\" d=\"M642.452,-303.467C577.011,-285.667 492.41,-262.656 433.92,-246.746\"/>\r\n",
       "<polygon fill=\"black\" stroke=\"black\" points=\"434.608,-243.306 424.04,-244.059 432.771,-250.061 434.608,-243.306\"/>\r\n",
       "</g>\r\n",
       "<!-- 10 -->\r\n",
       "<g id=\"node11\" class=\"node\"><title>10</title>\r\n",
       "<polygon fill=\"#e58139\" fill-opacity=\"0.164706\" stroke=\"black\" points=\"794.5,-261 685.5,-261 685.5,-193 794.5,-193 794.5,-261\"/>\r\n",
       "<text text-anchor=\"middle\" x=\"740\" y=\"-245.8\" font-family=\"Times New Roman,serif\" font-size=\"14.00\">int.rate &lt;= 0.169</text>\r\n",
       "<text text-anchor=\"middle\" x=\"740\" y=\"-230.8\" font-family=\"Times New Roman,serif\" font-size=\"14.00\">samples = 88</text>\r\n",
       "<text text-anchor=\"middle\" x=\"740\" y=\"-215.8\" font-family=\"Times New Roman,serif\" font-size=\"14.00\">value = [48, 40]</text>\r\n",
       "<text text-anchor=\"middle\" x=\"740\" y=\"-200.8\" font-family=\"Times New Roman,serif\" font-size=\"14.00\">class = ok</text>\r\n",
       "</g>\r\n",
       "<!-- 2&#45;&gt;10 -->\r\n",
       "<g id=\"edge10\" class=\"edge\"><title>2&#45;&gt;10</title>\r\n",
       "<path fill=\"none\" stroke=\"black\" d=\"M740,-296.884C740,-288.778 740,-279.982 740,-271.472\"/>\r\n",
       "<polygon fill=\"black\" stroke=\"black\" points=\"743.5,-271.299 740,-261.299 736.5,-271.299 743.5,-271.299\"/>\r\n",
       "</g>\r\n",
       "<!-- 4 -->\r\n",
       "<g id=\"node5\" class=\"node\"><title>4</title>\r\n",
       "<polygon fill=\"#399de5\" fill-opacity=\"0.223529\" stroke=\"black\" points=\"223,-157 117,-157 117,-89 223,-89 223,-157\"/>\r\n",
       "<text text-anchor=\"middle\" x=\"170\" y=\"-141.8\" font-family=\"Times New Roman,serif\" font-size=\"14.00\">revol.util &lt;= 1.3</text>\r\n",
       "<text text-anchor=\"middle\" x=\"170\" y=\"-126.8\" font-family=\"Times New Roman,serif\" font-size=\"14.00\">samples = 16</text>\r\n",
       "<text text-anchor=\"middle\" x=\"170\" y=\"-111.8\" font-family=\"Times New Roman,serif\" font-size=\"14.00\">value = [7, 9]</text>\r\n",
       "<text text-anchor=\"middle\" x=\"170\" y=\"-96.8\" font-family=\"Times New Roman,serif\" font-size=\"14.00\">class = not paid</text>\r\n",
       "</g>\r\n",
       "<!-- 3&#45;&gt;4 -->\r\n",
       "<g id=\"edge4\" class=\"edge\"><title>3&#45;&gt;4</title>\r\n",
       "<path fill=\"none\" stroke=\"black\" d=\"M305.964,-195.12C282.606,-182.901 255.739,-168.848 232.09,-156.478\"/>\r\n",
       "<polygon fill=\"black\" stroke=\"black\" points=\"233.68,-153.36 223.197,-151.826 230.436,-159.563 233.68,-153.36\"/>\r\n",
       "</g>\r\n",
       "<!-- 7 -->\r\n",
       "<g id=\"node8\" class=\"node\"><title>7</title>\r\n",
       "<polygon fill=\"#e58139\" fill-opacity=\"0.690196\" stroke=\"black\" points=\"424.5,-157 305.5,-157 305.5,-89 424.5,-89 424.5,-157\"/>\r\n",
       "<text text-anchor=\"middle\" x=\"365\" y=\"-141.8\" font-family=\"Times New Roman,serif\" font-size=\"14.00\">revol.util &lt;= 75.05</text>\r\n",
       "<text text-anchor=\"middle\" x=\"365\" y=\"-126.8\" font-family=\"Times New Roman,serif\" font-size=\"14.00\">samples = 1297</text>\r\n",
       "<text text-anchor=\"middle\" x=\"365\" y=\"-111.8\" font-family=\"Times New Roman,serif\" font-size=\"14.00\">value = [989, 308]</text>\r\n",
       "<text text-anchor=\"middle\" x=\"365\" y=\"-96.8\" font-family=\"Times New Roman,serif\" font-size=\"14.00\">class = ok</text>\r\n",
       "</g>\r\n",
       "<!-- 3&#45;&gt;7 -->\r\n",
       "<g id=\"edge7\" class=\"edge\"><title>3&#45;&gt;7</title>\r\n",
       "<path fill=\"none\" stroke=\"black\" d=\"M365,-192.884C365,-184.778 365,-175.982 365,-167.472\"/>\r\n",
       "<polygon fill=\"black\" stroke=\"black\" points=\"368.5,-167.299 365,-157.299 361.5,-167.299 368.5,-167.299\"/>\r\n",
       "</g>\r\n",
       "<!-- 5 -->\r\n",
       "<g id=\"node6\" class=\"node\"><title>5</title>\r\n",
       "<polygon fill=\"#399de5\" fill-opacity=\"0.556863\" stroke=\"black\" points=\"106,-53 0,-53 0,-0 106,-0 106,-53\"/>\r\n",
       "<text text-anchor=\"middle\" x=\"53\" y=\"-37.8\" font-family=\"Times New Roman,serif\" font-size=\"14.00\">samples = 13</text>\r\n",
       "<text text-anchor=\"middle\" x=\"53\" y=\"-22.8\" font-family=\"Times New Roman,serif\" font-size=\"14.00\">value = [4, 9]</text>\r\n",
       "<text text-anchor=\"middle\" x=\"53\" y=\"-7.8\" font-family=\"Times New Roman,serif\" font-size=\"14.00\">class = not paid</text>\r\n",
       "</g>\r\n",
       "<!-- 4&#45;&gt;5 -->\r\n",
       "<g id=\"edge5\" class=\"edge\"><title>4&#45;&gt;5</title>\r\n",
       "<path fill=\"none\" stroke=\"black\" d=\"M129.079,-88.9485C117.3,-79.4346 104.473,-69.074 92.7646,-59.6175\"/>\r\n",
       "<polygon fill=\"black\" stroke=\"black\" points=\"94.8431,-56.7973 84.8645,-53.2367 90.4447,-62.2429 94.8431,-56.7973\"/>\r\n",
       "</g>\r\n",
       "<!-- 6 -->\r\n",
       "<g id=\"node7\" class=\"node\"><title>6</title>\r\n",
       "<polygon fill=\"#e58139\" stroke=\"black\" points=\"215.5,-53 124.5,-53 124.5,-0 215.5,-0 215.5,-53\"/>\r\n",
       "<text text-anchor=\"middle\" x=\"170\" y=\"-37.8\" font-family=\"Times New Roman,serif\" font-size=\"14.00\">samples = 3</text>\r\n",
       "<text text-anchor=\"middle\" x=\"170\" y=\"-22.8\" font-family=\"Times New Roman,serif\" font-size=\"14.00\">value = [3, 0]</text>\r\n",
       "<text text-anchor=\"middle\" x=\"170\" y=\"-7.8\" font-family=\"Times New Roman,serif\" font-size=\"14.00\">class = ok</text>\r\n",
       "</g>\r\n",
       "<!-- 4&#45;&gt;6 -->\r\n",
       "<g id=\"edge6\" class=\"edge\"><title>4&#45;&gt;6</title>\r\n",
       "<path fill=\"none\" stroke=\"black\" d=\"M170,-88.9485C170,-80.7153 170,-71.848 170,-63.4814\"/>\r\n",
       "<polygon fill=\"black\" stroke=\"black\" points=\"173.5,-63.2367 170,-53.2367 166.5,-63.2367 173.5,-63.2367\"/>\r\n",
       "</g>\r\n",
       "<!-- 8 -->\r\n",
       "<g id=\"node9\" class=\"node\"><title>8</title>\r\n",
       "<polygon fill=\"#e58139\" fill-opacity=\"0.733333\" stroke=\"black\" points=\"352,-53 234,-53 234,-0 352,-0 352,-53\"/>\r\n",
       "<text text-anchor=\"middle\" x=\"293\" y=\"-37.8\" font-family=\"Times New Roman,serif\" font-size=\"14.00\">samples = 879</text>\r\n",
       "<text text-anchor=\"middle\" x=\"293\" y=\"-22.8\" font-family=\"Times New Roman,serif\" font-size=\"14.00\">value = [693, 186]</text>\r\n",
       "<text text-anchor=\"middle\" x=\"293\" y=\"-7.8\" font-family=\"Times New Roman,serif\" font-size=\"14.00\">class = ok</text>\r\n",
       "</g>\r\n",
       "<!-- 7&#45;&gt;8 -->\r\n",
       "<g id=\"edge8\" class=\"edge\"><title>7&#45;&gt;8</title>\r\n",
       "<path fill=\"none\" stroke=\"black\" d=\"M339.818,-88.9485C332.987,-79.9834 325.584,-70.2666 318.724,-61.2629\"/>\r\n",
       "<polygon fill=\"black\" stroke=\"black\" points=\"321.453,-59.0699 312.609,-53.2367 315.885,-63.3122 321.453,-59.0699\"/>\r\n",
       "</g>\r\n",
       "<!-- 9 -->\r\n",
       "<g id=\"node10\" class=\"node\"><title>9</title>\r\n",
       "<polygon fill=\"#e58139\" fill-opacity=\"0.588235\" stroke=\"black\" points=\"488,-53 370,-53 370,-0 488,-0 488,-53\"/>\r\n",
       "<text text-anchor=\"middle\" x=\"429\" y=\"-37.8\" font-family=\"Times New Roman,serif\" font-size=\"14.00\">samples = 418</text>\r\n",
       "<text text-anchor=\"middle\" x=\"429\" y=\"-22.8\" font-family=\"Times New Roman,serif\" font-size=\"14.00\">value = [296, 122]</text>\r\n",
       "<text text-anchor=\"middle\" x=\"429\" y=\"-7.8\" font-family=\"Times New Roman,serif\" font-size=\"14.00\">class = ok</text>\r\n",
       "</g>\r\n",
       "<!-- 7&#45;&gt;9 -->\r\n",
       "<g id=\"edge9\" class=\"edge\"><title>7&#45;&gt;9</title>\r\n",
       "<path fill=\"none\" stroke=\"black\" d=\"M387.384,-88.9485C393.394,-80.0749 399.902,-70.4648 405.947,-61.5388\"/>\r\n",
       "<polygon fill=\"black\" stroke=\"black\" points=\"408.86,-63.4792 411.57,-53.2367 403.064,-59.5539 408.86,-63.4792\"/>\r\n",
       "</g>\r\n",
       "<!-- 11 -->\r\n",
       "<g id=\"node12\" class=\"node\"><title>11</title>\r\n",
       "<polygon fill=\"#e58139\" fill-opacity=\"0.462745\" stroke=\"black\" points=\"730.5,-157 621.5,-157 621.5,-89 730.5,-89 730.5,-157\"/>\r\n",
       "<text text-anchor=\"middle\" x=\"676\" y=\"-141.8\" font-family=\"Times New Roman,serif\" font-size=\"14.00\">int.rate &lt;= 0.128</text>\r\n",
       "<text text-anchor=\"middle\" x=\"676\" y=\"-126.8\" font-family=\"Times New Roman,serif\" font-size=\"14.00\">samples = 63</text>\r\n",
       "<text text-anchor=\"middle\" x=\"676\" y=\"-111.8\" font-family=\"Times New Roman,serif\" font-size=\"14.00\">value = [41, 22]</text>\r\n",
       "<text text-anchor=\"middle\" x=\"676\" y=\"-96.8\" font-family=\"Times New Roman,serif\" font-size=\"14.00\">class = ok</text>\r\n",
       "</g>\r\n",
       "<!-- 10&#45;&gt;11 -->\r\n",
       "<g id=\"edge11\" class=\"edge\"><title>10&#45;&gt;11</title>\r\n",
       "<path fill=\"none\" stroke=\"black\" d=\"M719.221,-192.884C713.8,-184.243 707.887,-174.819 702.223,-165.793\"/>\r\n",
       "<polygon fill=\"black\" stroke=\"black\" points=\"705.173,-163.91 696.894,-157.299 699.244,-167.63 705.173,-163.91\"/>\r\n",
       "</g>\r\n",
       "<!-- 14 -->\r\n",
       "<g id=\"node15\" class=\"node\"><title>14</title>\r\n",
       "<polygon fill=\"#399de5\" fill-opacity=\"0.611765\" stroke=\"black\" points=\"857.5,-157 748.5,-157 748.5,-89 857.5,-89 857.5,-157\"/>\r\n",
       "<text text-anchor=\"middle\" x=\"803\" y=\"-141.8\" font-family=\"Times New Roman,serif\" font-size=\"14.00\">int.rate &lt;= 0.193</text>\r\n",
       "<text text-anchor=\"middle\" x=\"803\" y=\"-126.8\" font-family=\"Times New Roman,serif\" font-size=\"14.00\">samples = 25</text>\r\n",
       "<text text-anchor=\"middle\" x=\"803\" y=\"-111.8\" font-family=\"Times New Roman,serif\" font-size=\"14.00\">value = [7, 18]</text>\r\n",
       "<text text-anchor=\"middle\" x=\"803\" y=\"-96.8\" font-family=\"Times New Roman,serif\" font-size=\"14.00\">class = not paid</text>\r\n",
       "</g>\r\n",
       "<!-- 10&#45;&gt;14 -->\r\n",
       "<g id=\"edge14\" class=\"edge\"><title>10&#45;&gt;14</title>\r\n",
       "<path fill=\"none\" stroke=\"black\" d=\"M760.454,-192.884C765.736,-184.332 771.492,-175.013 777.014,-166.072\"/>\r\n",
       "<polygon fill=\"black\" stroke=\"black\" points=\"780.156,-167.647 782.433,-157.299 774.2,-163.968 780.156,-167.647\"/>\r\n",
       "</g>\r\n",
       "<!-- 12 -->\r\n",
       "<g id=\"node13\" class=\"node\"><title>12</title>\r\n",
       "<polygon fill=\"#399de5\" fill-opacity=\"0.152941\" stroke=\"black\" points=\"612,-53 506,-53 506,-0 612,-0 612,-53\"/>\r\n",
       "<text text-anchor=\"middle\" x=\"559\" y=\"-37.8\" font-family=\"Times New Roman,serif\" font-size=\"14.00\">samples = 24</text>\r\n",
       "<text text-anchor=\"middle\" x=\"559\" y=\"-22.8\" font-family=\"Times New Roman,serif\" font-size=\"14.00\">value = [11, 13]</text>\r\n",
       "<text text-anchor=\"middle\" x=\"559\" y=\"-7.8\" font-family=\"Times New Roman,serif\" font-size=\"14.00\">class = not paid</text>\r\n",
       "</g>\r\n",
       "<!-- 11&#45;&gt;12 -->\r\n",
       "<g id=\"edge12\" class=\"edge\"><title>11&#45;&gt;12</title>\r\n",
       "<path fill=\"none\" stroke=\"black\" d=\"M635.079,-88.9485C623.3,-79.4346 610.473,-69.074 598.765,-59.6175\"/>\r\n",
       "<polygon fill=\"black\" stroke=\"black\" points=\"600.843,-56.7973 590.864,-53.2367 596.445,-62.2429 600.843,-56.7973\"/>\r\n",
       "</g>\r\n",
       "<!-- 13 -->\r\n",
       "<g id=\"node14\" class=\"node\"><title>13</title>\r\n",
       "<polygon fill=\"#e58139\" fill-opacity=\"0.701961\" stroke=\"black\" points=\"728,-53 630,-53 630,-0 728,-0 728,-53\"/>\r\n",
       "<text text-anchor=\"middle\" x=\"679\" y=\"-37.8\" font-family=\"Times New Roman,serif\" font-size=\"14.00\">samples = 39</text>\r\n",
       "<text text-anchor=\"middle\" x=\"679\" y=\"-22.8\" font-family=\"Times New Roman,serif\" font-size=\"14.00\">value = [30, 9]</text>\r\n",
       "<text text-anchor=\"middle\" x=\"679\" y=\"-7.8\" font-family=\"Times New Roman,serif\" font-size=\"14.00\">class = ok</text>\r\n",
       "</g>\r\n",
       "<!-- 11&#45;&gt;13 -->\r\n",
       "<g id=\"edge13\" class=\"edge\"><title>11&#45;&gt;13</title>\r\n",
       "<path fill=\"none\" stroke=\"black\" d=\"M677.049,-88.9485C677.311,-80.7153 677.592,-71.848 677.858,-63.4814\"/>\r\n",
       "<polygon fill=\"black\" stroke=\"black\" points=\"681.364,-63.3428 678.183,-53.2367 674.367,-63.1206 681.364,-63.3428\"/>\r\n",
       "</g>\r\n",
       "<!-- 15 -->\r\n",
       "<g id=\"node16\" class=\"node\"><title>15</title>\r\n",
       "<polygon fill=\"#399de5\" fill-opacity=\"0.866667\" stroke=\"black\" points=\"852,-53 746,-53 746,-0 852,-0 852,-53\"/>\r\n",
       "<text text-anchor=\"middle\" x=\"799\" y=\"-37.8\" font-family=\"Times New Roman,serif\" font-size=\"14.00\">samples = 17</text>\r\n",
       "<text text-anchor=\"middle\" x=\"799\" y=\"-22.8\" font-family=\"Times New Roman,serif\" font-size=\"14.00\">value = [2, 15]</text>\r\n",
       "<text text-anchor=\"middle\" x=\"799\" y=\"-7.8\" font-family=\"Times New Roman,serif\" font-size=\"14.00\">class = not paid</text>\r\n",
       "</g>\r\n",
       "<!-- 14&#45;&gt;15 -->\r\n",
       "<g id=\"edge15\" class=\"edge\"><title>14&#45;&gt;15</title>\r\n",
       "<path fill=\"none\" stroke=\"black\" d=\"M801.601,-88.9485C801.252,-80.7153 800.877,-71.848 800.523,-63.4814\"/>\r\n",
       "<polygon fill=\"black\" stroke=\"black\" points=\"804.009,-63.0797 800.089,-53.2367 797.016,-63.3758 804.009,-63.0797\"/>\r\n",
       "</g>\r\n",
       "<!-- 16 -->\r\n",
       "<g id=\"node17\" class=\"node\"><title>16</title>\r\n",
       "<polygon fill=\"#e58139\" fill-opacity=\"0.400000\" stroke=\"black\" points=\"961.5,-53 870.5,-53 870.5,-0 961.5,-0 961.5,-53\"/>\r\n",
       "<text text-anchor=\"middle\" x=\"916\" y=\"-37.8\" font-family=\"Times New Roman,serif\" font-size=\"14.00\">samples = 8</text>\r\n",
       "<text text-anchor=\"middle\" x=\"916\" y=\"-22.8\" font-family=\"Times New Roman,serif\" font-size=\"14.00\">value = [5, 3]</text>\r\n",
       "<text text-anchor=\"middle\" x=\"916\" y=\"-7.8\" font-family=\"Times New Roman,serif\" font-size=\"14.00\">class = ok</text>\r\n",
       "</g>\r\n",
       "<!-- 14&#45;&gt;16 -->\r\n",
       "<g id=\"edge16\" class=\"edge\"><title>14&#45;&gt;16</title>\r\n",
       "<path fill=\"none\" stroke=\"black\" d=\"M842.522,-88.9485C853.789,-79.526 866.049,-69.2731 877.268,-59.8906\"/>\r\n",
       "<polygon fill=\"black\" stroke=\"black\" points=\"879.799,-62.3368 885.225,-53.2367 875.308,-56.967 879.799,-62.3368\"/>\r\n",
       "</g>\r\n",
       "<!-- 18 -->\r\n",
       "<g id=\"node19\" class=\"node\"><title>18</title>\r\n",
       "<polygon fill=\"#e58139\" fill-opacity=\"0.325490\" stroke=\"black\" points=\"1407,-261 1289,-261 1289,-193 1407,-193 1407,-261\"/>\r\n",
       "<text text-anchor=\"middle\" x=\"1348\" y=\"-245.8\" font-family=\"Times New Roman,serif\" font-size=\"14.00\">revol.util &lt;= 85.2</text>\r\n",
       "<text text-anchor=\"middle\" x=\"1348\" y=\"-230.8\" font-family=\"Times New Roman,serif\" font-size=\"14.00\">samples = 325</text>\r\n",
       "<text text-anchor=\"middle\" x=\"1348\" y=\"-215.8\" font-family=\"Times New Roman,serif\" font-size=\"14.00\">value = [194, 131]</text>\r\n",
       "<text text-anchor=\"middle\" x=\"1348\" y=\"-200.8\" font-family=\"Times New Roman,serif\" font-size=\"14.00\">class = ok</text>\r\n",
       "</g>\r\n",
       "<!-- 17&#45;&gt;18 -->\r\n",
       "<g id=\"edge18\" class=\"edge\"><title>17&#45;&gt;18</title>\r\n",
       "<path fill=\"none\" stroke=\"black\" d=\"M1437.14,-296.884C1425.04,-287.531 1411.75,-277.259 1399.21,-267.568\"/>\r\n",
       "<polygon fill=\"black\" stroke=\"black\" points=\"1401.15,-264.644 1391.09,-261.299 1396.87,-270.183 1401.15,-264.644\"/>\r\n",
       "</g>\r\n",
       "<!-- 25 -->\r\n",
       "<g id=\"node26\" class=\"node\"><title>25</title>\r\n",
       "<polygon fill=\"#e58139\" fill-opacity=\"0.666667\" stroke=\"black\" points=\"1617,-261 1513,-261 1513,-193 1617,-193 1617,-261\"/>\r\n",
       "<text text-anchor=\"middle\" x=\"1565\" y=\"-245.8\" font-family=\"Times New Roman,serif\" font-size=\"14.00\">fico &lt;= 664.5</text>\r\n",
       "<text text-anchor=\"middle\" x=\"1565\" y=\"-230.8\" font-family=\"Times New Roman,serif\" font-size=\"14.00\">samples = 104</text>\r\n",
       "<text text-anchor=\"middle\" x=\"1565\" y=\"-215.8\" font-family=\"Times New Roman,serif\" font-size=\"14.00\">value = [78, 26]</text>\r\n",
       "<text text-anchor=\"middle\" x=\"1565\" y=\"-200.8\" font-family=\"Times New Roman,serif\" font-size=\"14.00\">class = ok</text>\r\n",
       "</g>\r\n",
       "<!-- 17&#45;&gt;25 -->\r\n",
       "<g id=\"edge25\" class=\"edge\"><title>17&#45;&gt;25</title>\r\n",
       "<path fill=\"none\" stroke=\"black\" d=\"M1507.6,-296.884C1514.95,-288.065 1522.97,-278.43 1530.64,-269.235\"/>\r\n",
       "<polygon fill=\"black\" stroke=\"black\" points=\"1533.54,-271.222 1537.25,-261.299 1528.16,-266.741 1533.54,-271.222\"/>\r\n",
       "</g>\r\n",
       "<!-- 19 -->\r\n",
       "<g id=\"node20\" class=\"node\"><title>19</title>\r\n",
       "<polygon fill=\"#e58139\" fill-opacity=\"0.384314\" stroke=\"black\" points=\"1214,-157 1096,-157 1096,-89 1214,-89 1214,-157\"/>\r\n",
       "<text text-anchor=\"middle\" x=\"1155\" y=\"-141.8\" font-family=\"Times New Roman,serif\" font-size=\"14.00\">dti &lt;= 1.65</text>\r\n",
       "<text text-anchor=\"middle\" x=\"1155\" y=\"-126.8\" font-family=\"Times New Roman,serif\" font-size=\"14.00\">samples = 304</text>\r\n",
       "<text text-anchor=\"middle\" x=\"1155\" y=\"-111.8\" font-family=\"Times New Roman,serif\" font-size=\"14.00\">value = [188, 116]</text>\r\n",
       "<text text-anchor=\"middle\" x=\"1155\" y=\"-96.8\" font-family=\"Times New Roman,serif\" font-size=\"14.00\">class = ok</text>\r\n",
       "</g>\r\n",
       "<!-- 18&#45;&gt;19 -->\r\n",
       "<g id=\"edge19\" class=\"edge\"><title>18&#45;&gt;19</title>\r\n",
       "<path fill=\"none\" stroke=\"black\" d=\"M1288.78,-194.703C1268.03,-183.738 1244.57,-171.336 1223.15,-160.016\"/>\r\n",
       "<polygon fill=\"black\" stroke=\"black\" points=\"1224.58,-156.816 1214.11,-155.237 1221.31,-163.004 1224.58,-156.816\"/>\r\n",
       "</g>\r\n",
       "<!-- 22 -->\r\n",
       "<g id=\"node23\" class=\"node\"><title>22</title>\r\n",
       "<polygon fill=\"#399de5\" fill-opacity=\"0.600000\" stroke=\"black\" points=\"1416.5,-157 1279.5,-157 1279.5,-89 1416.5,-89 1416.5,-157\"/>\r\n",
       "<text text-anchor=\"middle\" x=\"1348\" y=\"-141.8\" font-family=\"Times New Roman,serif\" font-size=\"14.00\">installment &lt;= 133.86</text>\r\n",
       "<text text-anchor=\"middle\" x=\"1348\" y=\"-126.8\" font-family=\"Times New Roman,serif\" font-size=\"14.00\">samples = 21</text>\r\n",
       "<text text-anchor=\"middle\" x=\"1348\" y=\"-111.8\" font-family=\"Times New Roman,serif\" font-size=\"14.00\">value = [6, 15]</text>\r\n",
       "<text text-anchor=\"middle\" x=\"1348\" y=\"-96.8\" font-family=\"Times New Roman,serif\" font-size=\"14.00\">class = not paid</text>\r\n",
       "</g>\r\n",
       "<!-- 18&#45;&gt;22 -->\r\n",
       "<g id=\"edge22\" class=\"edge\"><title>18&#45;&gt;22</title>\r\n",
       "<path fill=\"none\" stroke=\"black\" d=\"M1348,-192.884C1348,-184.778 1348,-175.982 1348,-167.472\"/>\r\n",
       "<polygon fill=\"black\" stroke=\"black\" points=\"1351.5,-167.299 1348,-157.299 1344.5,-167.299 1351.5,-167.299\"/>\r\n",
       "</g>\r\n",
       "<!-- 20 -->\r\n",
       "<g id=\"node21\" class=\"node\"><title>20</title>\r\n",
       "<polygon fill=\"#e58139\" fill-opacity=\"0.890196\" stroke=\"black\" points=\"1078,-53 980,-53 980,-0 1078,-0 1078,-53\"/>\r\n",
       "<text text-anchor=\"middle\" x=\"1029\" y=\"-37.8\" font-family=\"Times New Roman,serif\" font-size=\"14.00\">samples = 20</text>\r\n",
       "<text text-anchor=\"middle\" x=\"1029\" y=\"-22.8\" font-family=\"Times New Roman,serif\" font-size=\"14.00\">value = [18, 2]</text>\r\n",
       "<text text-anchor=\"middle\" x=\"1029\" y=\"-7.8\" font-family=\"Times New Roman,serif\" font-size=\"14.00\">class = ok</text>\r\n",
       "</g>\r\n",
       "<!-- 19&#45;&gt;20 -->\r\n",
       "<g id=\"edge20\" class=\"edge\"><title>19&#45;&gt;20</title>\r\n",
       "<path fill=\"none\" stroke=\"black\" d=\"M1110.93,-88.9485C1098.12,-79.3431 1084.17,-68.8747 1071.46,-59.345\"/>\r\n",
       "<polygon fill=\"black\" stroke=\"black\" points=\"1073.42,-56.4367 1063.32,-53.2367 1069.22,-62.0368 1073.42,-56.4367\"/>\r\n",
       "</g>\r\n",
       "<!-- 21 -->\r\n",
       "<g id=\"node22\" class=\"node\"><title>21</title>\r\n",
       "<polygon fill=\"#e58139\" fill-opacity=\"0.329412\" stroke=\"black\" points=\"1214,-53 1096,-53 1096,-0 1214,-0 1214,-53\"/>\r\n",
       "<text text-anchor=\"middle\" x=\"1155\" y=\"-37.8\" font-family=\"Times New Roman,serif\" font-size=\"14.00\">samples = 284</text>\r\n",
       "<text text-anchor=\"middle\" x=\"1155\" y=\"-22.8\" font-family=\"Times New Roman,serif\" font-size=\"14.00\">value = [170, 114]</text>\r\n",
       "<text text-anchor=\"middle\" x=\"1155\" y=\"-7.8\" font-family=\"Times New Roman,serif\" font-size=\"14.00\">class = ok</text>\r\n",
       "</g>\r\n",
       "<!-- 19&#45;&gt;21 -->\r\n",
       "<g id=\"edge21\" class=\"edge\"><title>19&#45;&gt;21</title>\r\n",
       "<path fill=\"none\" stroke=\"black\" d=\"M1155,-88.9485C1155,-80.7153 1155,-71.848 1155,-63.4814\"/>\r\n",
       "<polygon fill=\"black\" stroke=\"black\" points=\"1158.5,-63.2367 1155,-53.2367 1151.5,-63.2367 1158.5,-63.2367\"/>\r\n",
       "</g>\r\n",
       "<!-- 23 -->\r\n",
       "<g id=\"node24\" class=\"node\"><title>23</title>\r\n",
       "<polygon fill=\"#e58139\" stroke=\"black\" points=\"1323.5,-53 1232.5,-53 1232.5,-0 1323.5,-0 1323.5,-53\"/>\r\n",
       "<text text-anchor=\"middle\" x=\"1278\" y=\"-37.8\" font-family=\"Times New Roman,serif\" font-size=\"14.00\">samples = 3</text>\r\n",
       "<text text-anchor=\"middle\" x=\"1278\" y=\"-22.8\" font-family=\"Times New Roman,serif\" font-size=\"14.00\">value = [3, 0]</text>\r\n",
       "<text text-anchor=\"middle\" x=\"1278\" y=\"-7.8\" font-family=\"Times New Roman,serif\" font-size=\"14.00\">class = ok</text>\r\n",
       "</g>\r\n",
       "<!-- 22&#45;&gt;23 -->\r\n",
       "<g id=\"edge23\" class=\"edge\"><title>22&#45;&gt;23</title>\r\n",
       "<path fill=\"none\" stroke=\"black\" d=\"M1323.52,-88.9485C1316.94,-80.0749 1309.83,-70.4648 1303.21,-61.5388\"/>\r\n",
       "<polygon fill=\"black\" stroke=\"black\" points=\"1305.83,-59.189 1297.06,-53.2367 1300.2,-63.3556 1305.83,-59.189\"/>\r\n",
       "</g>\r\n",
       "<!-- 24 -->\r\n",
       "<g id=\"node25\" class=\"node\"><title>24</title>\r\n",
       "<polygon fill=\"#399de5\" fill-opacity=\"0.800000\" stroke=\"black\" points=\"1448,-53 1342,-53 1342,-0 1448,-0 1448,-53\"/>\r\n",
       "<text text-anchor=\"middle\" x=\"1395\" y=\"-37.8\" font-family=\"Times New Roman,serif\" font-size=\"14.00\">samples = 18</text>\r\n",
       "<text text-anchor=\"middle\" x=\"1395\" y=\"-22.8\" font-family=\"Times New Roman,serif\" font-size=\"14.00\">value = [3, 15]</text>\r\n",
       "<text text-anchor=\"middle\" x=\"1395\" y=\"-7.8\" font-family=\"Times New Roman,serif\" font-size=\"14.00\">class = not paid</text>\r\n",
       "</g>\r\n",
       "<!-- 22&#45;&gt;24 -->\r\n",
       "<g id=\"edge24\" class=\"edge\"><title>22&#45;&gt;24</title>\r\n",
       "<path fill=\"none\" stroke=\"black\" d=\"M1364.44,-88.9485C1368.72,-80.3494 1373.34,-71.0586 1377.66,-62.3689\"/>\r\n",
       "<polygon fill=\"black\" stroke=\"black\" points=\"1380.88,-63.7491 1382.2,-53.2367 1374.61,-60.6318 1380.88,-63.7491\"/>\r\n",
       "</g>\r\n",
       "<!-- 26 -->\r\n",
       "<g id=\"node27\" class=\"node\"><title>26</title>\r\n",
       "<polygon fill=\"#e58139\" fill-opacity=\"0.078431\" stroke=\"black\" points=\"1633.5,-157 1496.5,-157 1496.5,-89 1633.5,-89 1633.5,-157\"/>\r\n",
       "<text text-anchor=\"middle\" x=\"1565\" y=\"-141.8\" font-family=\"Times New Roman,serif\" font-size=\"14.00\">installment &lt;= 491.44</text>\r\n",
       "<text text-anchor=\"middle\" x=\"1565\" y=\"-126.8\" font-family=\"Times New Roman,serif\" font-size=\"14.00\">samples = 25</text>\r\n",
       "<text text-anchor=\"middle\" x=\"1565\" y=\"-111.8\" font-family=\"Times New Roman,serif\" font-size=\"14.00\">value = [13, 12]</text>\r\n",
       "<text text-anchor=\"middle\" x=\"1565\" y=\"-96.8\" font-family=\"Times New Roman,serif\" font-size=\"14.00\">class = ok</text>\r\n",
       "</g>\r\n",
       "<!-- 25&#45;&gt;26 -->\r\n",
       "<g id=\"edge26\" class=\"edge\"><title>25&#45;&gt;26</title>\r\n",
       "<path fill=\"none\" stroke=\"black\" d=\"M1565,-192.884C1565,-184.778 1565,-175.982 1565,-167.472\"/>\r\n",
       "<polygon fill=\"black\" stroke=\"black\" points=\"1568.5,-167.299 1565,-157.299 1561.5,-167.299 1568.5,-167.299\"/>\r\n",
       "</g>\r\n",
       "<!-- 29 -->\r\n",
       "<g id=\"node30\" class=\"node\"><title>29</title>\r\n",
       "<polygon fill=\"#e58139\" fill-opacity=\"0.784314\" stroke=\"black\" points=\"1809.5,-157 1700.5,-157 1700.5,-89 1809.5,-89 1809.5,-157\"/>\r\n",
       "<text text-anchor=\"middle\" x=\"1755\" y=\"-141.8\" font-family=\"Times New Roman,serif\" font-size=\"14.00\">int.rate &lt;= 0.172</text>\r\n",
       "<text text-anchor=\"middle\" x=\"1755\" y=\"-126.8\" font-family=\"Times New Roman,serif\" font-size=\"14.00\">samples = 79</text>\r\n",
       "<text text-anchor=\"middle\" x=\"1755\" y=\"-111.8\" font-family=\"Times New Roman,serif\" font-size=\"14.00\">value = [65, 14]</text>\r\n",
       "<text text-anchor=\"middle\" x=\"1755\" y=\"-96.8\" font-family=\"Times New Roman,serif\" font-size=\"14.00\">class = ok</text>\r\n",
       "</g>\r\n",
       "<!-- 25&#45;&gt;29 -->\r\n",
       "<g id=\"edge29\" class=\"edge\"><title>25&#45;&gt;29</title>\r\n",
       "<path fill=\"none\" stroke=\"black\" d=\"M1617.17,-197.993C1640.06,-185.704 1667.15,-171.161 1691.23,-158.235\"/>\r\n",
       "<polygon fill=\"black\" stroke=\"black\" points=\"1693.14,-161.182 1700.29,-153.369 1689.83,-155.015 1693.14,-161.182\"/>\r\n",
       "</g>\r\n",
       "<!-- 27 -->\r\n",
       "<g id=\"node28\" class=\"node\"><title>27</title>\r\n",
       "<polygon fill=\"#e58139\" fill-opacity=\"0.545098\" stroke=\"black\" points=\"1564,-53 1466,-53 1466,-0 1564,-0 1564,-53\"/>\r\n",
       "<text text-anchor=\"middle\" x=\"1515\" y=\"-37.8\" font-family=\"Times New Roman,serif\" font-size=\"14.00\">samples = 16</text>\r\n",
       "<text text-anchor=\"middle\" x=\"1515\" y=\"-22.8\" font-family=\"Times New Roman,serif\" font-size=\"14.00\">value = [11, 5]</text>\r\n",
       "<text text-anchor=\"middle\" x=\"1515\" y=\"-7.8\" font-family=\"Times New Roman,serif\" font-size=\"14.00\">class = ok</text>\r\n",
       "</g>\r\n",
       "<!-- 26&#45;&gt;27 -->\r\n",
       "<g id=\"edge27\" class=\"edge\"><title>26&#45;&gt;27</title>\r\n",
       "<path fill=\"none\" stroke=\"black\" d=\"M1547.51,-88.9485C1542.91,-80.2579 1537.94,-70.8608 1533.3,-62.0917\"/>\r\n",
       "<polygon fill=\"black\" stroke=\"black\" points=\"1536.39,-60.4389 1528.62,-53.2367 1530.2,-63.7126 1536.39,-60.4389\"/>\r\n",
       "</g>\r\n",
       "<!-- 28 -->\r\n",
       "<g id=\"node29\" class=\"node\"><title>28</title>\r\n",
       "<polygon fill=\"#399de5\" fill-opacity=\"0.713725\" stroke=\"black\" points=\"1688,-53 1582,-53 1582,-0 1688,-0 1688,-53\"/>\r\n",
       "<text text-anchor=\"middle\" x=\"1635\" y=\"-37.8\" font-family=\"Times New Roman,serif\" font-size=\"14.00\">samples = 9</text>\r\n",
       "<text text-anchor=\"middle\" x=\"1635\" y=\"-22.8\" font-family=\"Times New Roman,serif\" font-size=\"14.00\">value = [2, 7]</text>\r\n",
       "<text text-anchor=\"middle\" x=\"1635\" y=\"-7.8\" font-family=\"Times New Roman,serif\" font-size=\"14.00\">class = not paid</text>\r\n",
       "</g>\r\n",
       "<!-- 26&#45;&gt;28 -->\r\n",
       "<g id=\"edge28\" class=\"edge\"><title>26&#45;&gt;28</title>\r\n",
       "<path fill=\"none\" stroke=\"black\" d=\"M1589.48,-88.9485C1596.06,-80.0749 1603.17,-70.4648 1609.79,-61.5388\"/>\r\n",
       "<polygon fill=\"black\" stroke=\"black\" points=\"1612.8,-63.3556 1615.94,-53.2367 1607.17,-59.189 1612.8,-63.3556\"/>\r\n",
       "</g>\r\n",
       "<!-- 30 -->\r\n",
       "<g id=\"node31\" class=\"node\"><title>30</title>\r\n",
       "<polygon fill=\"#e58139\" stroke=\"black\" points=\"1804,-53 1706,-53 1706,-0 1804,-0 1804,-53\"/>\r\n",
       "<text text-anchor=\"middle\" x=\"1755\" y=\"-37.8\" font-family=\"Times New Roman,serif\" font-size=\"14.00\">samples = 19</text>\r\n",
       "<text text-anchor=\"middle\" x=\"1755\" y=\"-22.8\" font-family=\"Times New Roman,serif\" font-size=\"14.00\">value = [19, 0]</text>\r\n",
       "<text text-anchor=\"middle\" x=\"1755\" y=\"-7.8\" font-family=\"Times New Roman,serif\" font-size=\"14.00\">class = ok</text>\r\n",
       "</g>\r\n",
       "<!-- 29&#45;&gt;30 -->\r\n",
       "<g id=\"edge30\" class=\"edge\"><title>29&#45;&gt;30</title>\r\n",
       "<path fill=\"none\" stroke=\"black\" d=\"M1755,-88.9485C1755,-80.7153 1755,-71.848 1755,-63.4814\"/>\r\n",
       "<polygon fill=\"black\" stroke=\"black\" points=\"1758.5,-63.2367 1755,-53.2367 1751.5,-63.2367 1758.5,-63.2367\"/>\r\n",
       "</g>\r\n",
       "<!-- 31 -->\r\n",
       "<g id=\"node32\" class=\"node\"><title>31</title>\r\n",
       "<polygon fill=\"#e58139\" fill-opacity=\"0.694118\" stroke=\"black\" points=\"1926,-53 1822,-53 1822,-0 1926,-0 1926,-53\"/>\r\n",
       "<text text-anchor=\"middle\" x=\"1874\" y=\"-37.8\" font-family=\"Times New Roman,serif\" font-size=\"14.00\">samples = 60</text>\r\n",
       "<text text-anchor=\"middle\" x=\"1874\" y=\"-22.8\" font-family=\"Times New Roman,serif\" font-size=\"14.00\">value = [46, 14]</text>\r\n",
       "<text text-anchor=\"middle\" x=\"1874\" y=\"-7.8\" font-family=\"Times New Roman,serif\" font-size=\"14.00\">class = ok</text>\r\n",
       "</g>\r\n",
       "<!-- 29&#45;&gt;31 -->\r\n",
       "<g id=\"edge31\" class=\"edge\"><title>29&#45;&gt;31</title>\r\n",
       "<path fill=\"none\" stroke=\"black\" d=\"M1796.62,-88.9485C1808.6,-79.4346 1821.65,-69.074 1833.56,-59.6175\"/>\r\n",
       "<polygon fill=\"black\" stroke=\"black\" points=\"1835.94,-62.1965 1841.59,-53.2367 1831.58,-56.7147 1835.94,-62.1965\"/>\r\n",
       "</g>\r\n",
       "<!-- 33 -->\r\n",
       "<g id=\"node34\" class=\"node\"><title>33</title>\r\n",
       "<polygon fill=\"#e58139\" fill-opacity=\"0.945098\" stroke=\"black\" points=\"2472.5,-365 2329.5,-365 2329.5,-297 2472.5,-297 2472.5,-365\"/>\r\n",
       "<text text-anchor=\"middle\" x=\"2401\" y=\"-349.8\" font-family=\"Times New Roman,serif\" font-size=\"14.00\">installment &lt;= 558.205</text>\r\n",
       "<text text-anchor=\"middle\" x=\"2401\" y=\"-334.8\" font-family=\"Times New Roman,serif\" font-size=\"14.00\">samples = 1595</text>\r\n",
       "<text text-anchor=\"middle\" x=\"2401\" y=\"-319.8\" font-family=\"Times New Roman,serif\" font-size=\"14.00\">value = [1510, 85]</text>\r\n",
       "<text text-anchor=\"middle\" x=\"2401\" y=\"-304.8\" font-family=\"Times New Roman,serif\" font-size=\"14.00\">class = ok</text>\r\n",
       "</g>\r\n",
       "<!-- 32&#45;&gt;33 -->\r\n",
       "<g id=\"edge33\" class=\"edge\"><title>32&#45;&gt;33</title>\r\n",
       "<path fill=\"none\" stroke=\"black\" d=\"M2401,-400.884C2401,-392.778 2401,-383.982 2401,-375.472\"/>\r\n",
       "<polygon fill=\"black\" stroke=\"black\" points=\"2404.5,-375.299 2401,-365.299 2397.5,-375.299 2404.5,-375.299\"/>\r\n",
       "</g>\r\n",
       "<!-- 48 -->\r\n",
       "<g id=\"node49\" class=\"node\"><title>48</title>\r\n",
       "<polygon fill=\"#e58139\" fill-opacity=\"0.823529\" stroke=\"black\" points=\"3253.5,-365 3058.5,-365 3058.5,-297 3253.5,-297 3253.5,-365\"/>\r\n",
       "<text text-anchor=\"middle\" x=\"3156\" y=\"-349.8\" font-family=\"Times New Roman,serif\" font-size=\"14.00\">purpose_small_business &lt;= 0.5</text>\r\n",
       "<text text-anchor=\"middle\" x=\"3156\" y=\"-334.8\" font-family=\"Times New Roman,serif\" font-size=\"14.00\">samples = 6091</text>\r\n",
       "<text text-anchor=\"middle\" x=\"3156\" y=\"-319.8\" font-family=\"Times New Roman,serif\" font-size=\"14.00\">value = [5169, 922]</text>\r\n",
       "<text text-anchor=\"middle\" x=\"3156\" y=\"-304.8\" font-family=\"Times New Roman,serif\" font-size=\"14.00\">class = ok</text>\r\n",
       "</g>\r\n",
       "<!-- 32&#45;&gt;48 -->\r\n",
       "<g id=\"edge48\" class=\"edge\"><title>32&#45;&gt;48</title>\r\n",
       "<path fill=\"none\" stroke=\"black\" d=\"M2466.68,-425.127C2596.92,-407.531 2889.02,-368.069 3047.97,-346.595\"/>\r\n",
       "<polygon fill=\"black\" stroke=\"black\" points=\"3048.8,-350.014 3058.24,-345.207 3047.86,-343.077 3048.8,-350.014\"/>\r\n",
       "</g>\r\n",
       "<!-- 34 -->\r\n",
       "<g id=\"node35\" class=\"node\"><title>34</title>\r\n",
       "<polygon fill=\"#e58139\" fill-opacity=\"0.945098\" stroke=\"black\" points=\"2368,-261 2250,-261 2250,-193 2368,-193 2368,-261\"/>\r\n",
       "<text text-anchor=\"middle\" x=\"2309\" y=\"-245.8\" font-family=\"Times New Roman,serif\" font-size=\"14.00\">fico &lt;= 749.5</text>\r\n",
       "<text text-anchor=\"middle\" x=\"2309\" y=\"-230.8\" font-family=\"Times New Roman,serif\" font-size=\"14.00\">samples = 1581</text>\r\n",
       "<text text-anchor=\"middle\" x=\"2309\" y=\"-215.8\" font-family=\"Times New Roman,serif\" font-size=\"14.00\">value = [1501, 80]</text>\r\n",
       "<text text-anchor=\"middle\" x=\"2309\" y=\"-200.8\" font-family=\"Times New Roman,serif\" font-size=\"14.00\">class = ok</text>\r\n",
       "</g>\r\n",
       "<!-- 33&#45;&gt;34 -->\r\n",
       "<g id=\"edge34\" class=\"edge\"><title>33&#45;&gt;34</title>\r\n",
       "<path fill=\"none\" stroke=\"black\" d=\"M2371.13,-296.884C2363.1,-287.976 2354.31,-278.235 2345.94,-268.957\"/>\r\n",
       "<polygon fill=\"black\" stroke=\"black\" points=\"2348.33,-266.381 2339.03,-261.299 2343.13,-271.069 2348.33,-266.381\"/>\r\n",
       "</g>\r\n",
       "<!-- 41 -->\r\n",
       "<g id=\"node42\" class=\"node\"><title>41</title>\r\n",
       "<polygon fill=\"#e58139\" fill-opacity=\"0.443137\" stroke=\"black\" points=\"2592.5,-261 2423.5,-261 2423.5,-193 2592.5,-193 2592.5,-261\"/>\r\n",
       "<text text-anchor=\"middle\" x=\"2508\" y=\"-245.8\" font-family=\"Times New Roman,serif\" font-size=\"14.00\">days.with.cr.line &lt;= 7245.0</text>\r\n",
       "<text text-anchor=\"middle\" x=\"2508\" y=\"-230.8\" font-family=\"Times New Roman,serif\" font-size=\"14.00\">samples = 14</text>\r\n",
       "<text text-anchor=\"middle\" x=\"2508\" y=\"-215.8\" font-family=\"Times New Roman,serif\" font-size=\"14.00\">value = [9, 5]</text>\r\n",
       "<text text-anchor=\"middle\" x=\"2508\" y=\"-200.8\" font-family=\"Times New Roman,serif\" font-size=\"14.00\">class = ok</text>\r\n",
       "</g>\r\n",
       "<!-- 33&#45;&gt;41 -->\r\n",
       "<g id=\"edge41\" class=\"edge\"><title>33&#45;&gt;41</title>\r\n",
       "<path fill=\"none\" stroke=\"black\" d=\"M2435.74,-296.884C2445.27,-287.798 2455.71,-277.845 2465.62,-268.4\"/>\r\n",
       "<polygon fill=\"black\" stroke=\"black\" points=\"2468.25,-270.733 2473.07,-261.299 2463.42,-265.666 2468.25,-270.733\"/>\r\n",
       "</g>\r\n",
       "<!-- 35 -->\r\n",
       "<g id=\"node36\" class=\"node\"><title>35</title>\r\n",
       "<polygon fill=\"#e58139\" fill-opacity=\"0.905882\" stroke=\"black\" points=\"2175.5,-157 2062.5,-157 2062.5,-89 2175.5,-89 2175.5,-157\"/>\r\n",
       "<text text-anchor=\"middle\" x=\"2119\" y=\"-141.8\" font-family=\"Times New Roman,serif\" font-size=\"14.00\">revol.util &lt;= 75.7</text>\r\n",
       "<text text-anchor=\"middle\" x=\"2119\" y=\"-126.8\" font-family=\"Times New Roman,serif\" font-size=\"14.00\">samples = 566</text>\r\n",
       "<text text-anchor=\"middle\" x=\"2119\" y=\"-111.8\" font-family=\"Times New Roman,serif\" font-size=\"14.00\">value = [518, 48]</text>\r\n",
       "<text text-anchor=\"middle\" x=\"2119\" y=\"-96.8\" font-family=\"Times New Roman,serif\" font-size=\"14.00\">class = ok</text>\r\n",
       "</g>\r\n",
       "<!-- 34&#45;&gt;35 -->\r\n",
       "<g id=\"edge35\" class=\"edge\"><title>34&#45;&gt;35</title>\r\n",
       "<path fill=\"none\" stroke=\"black\" d=\"M2249.92,-194.286C2229.24,-183.182 2205.89,-170.647 2184.7,-159.27\"/>\r\n",
       "<polygon fill=\"black\" stroke=\"black\" points=\"2186.23,-156.119 2175.76,-154.473 2182.92,-162.286 2186.23,-156.119\"/>\r\n",
       "</g>\r\n",
       "<!-- 38 -->\r\n",
       "<g id=\"node39\" class=\"node\"><title>38</title>\r\n",
       "<polygon fill=\"#e58139\" fill-opacity=\"0.968627\" stroke=\"black\" points=\"2376.5,-157 2241.5,-157 2241.5,-89 2376.5,-89 2376.5,-157\"/>\r\n",
       "<text text-anchor=\"middle\" x=\"2309\" y=\"-141.8\" font-family=\"Times New Roman,serif\" font-size=\"14.00\">inq.last.6mths &lt;= 5.5</text>\r\n",
       "<text text-anchor=\"middle\" x=\"2309\" y=\"-126.8\" font-family=\"Times New Roman,serif\" font-size=\"14.00\">samples = 1015</text>\r\n",
       "<text text-anchor=\"middle\" x=\"2309\" y=\"-111.8\" font-family=\"Times New Roman,serif\" font-size=\"14.00\">value = [983, 32]</text>\r\n",
       "<text text-anchor=\"middle\" x=\"2309\" y=\"-96.8\" font-family=\"Times New Roman,serif\" font-size=\"14.00\">class = ok</text>\r\n",
       "</g>\r\n",
       "<!-- 34&#45;&gt;38 -->\r\n",
       "<g id=\"edge38\" class=\"edge\"><title>34&#45;&gt;38</title>\r\n",
       "<path fill=\"none\" stroke=\"black\" d=\"M2309,-192.884C2309,-184.778 2309,-175.982 2309,-167.472\"/>\r\n",
       "<polygon fill=\"black\" stroke=\"black\" points=\"2312.5,-167.299 2309,-157.299 2305.5,-167.299 2312.5,-167.299\"/>\r\n",
       "</g>\r\n",
       "<!-- 36 -->\r\n",
       "<g id=\"node37\" class=\"node\"><title>36</title>\r\n",
       "<polygon fill=\"#e58139\" fill-opacity=\"0.913725\" stroke=\"black\" points=\"2055.5,-53 1944.5,-53 1944.5,-0 2055.5,-0 2055.5,-53\"/>\r\n",
       "<text text-anchor=\"middle\" x=\"2000\" y=\"-37.8\" font-family=\"Times New Roman,serif\" font-size=\"14.00\">samples = 555</text>\r\n",
       "<text text-anchor=\"middle\" x=\"2000\" y=\"-22.8\" font-family=\"Times New Roman,serif\" font-size=\"14.00\">value = [511, 44]</text>\r\n",
       "<text text-anchor=\"middle\" x=\"2000\" y=\"-7.8\" font-family=\"Times New Roman,serif\" font-size=\"14.00\">class = ok</text>\r\n",
       "</g>\r\n",
       "<!-- 35&#45;&gt;36 -->\r\n",
       "<g id=\"edge36\" class=\"edge\"><title>35&#45;&gt;36</title>\r\n",
       "<path fill=\"none\" stroke=\"black\" d=\"M2077.38,-88.9485C2065.4,-79.4346 2052.35,-69.074 2040.44,-59.6175\"/>\r\n",
       "<polygon fill=\"black\" stroke=\"black\" points=\"2042.42,-56.7147 2032.41,-53.2367 2038.06,-62.1965 2042.42,-56.7147\"/>\r\n",
       "</g>\r\n",
       "<!-- 37 -->\r\n",
       "<g id=\"node38\" class=\"node\"><title>37</title>\r\n",
       "<polygon fill=\"#e58139\" fill-opacity=\"0.427451\" stroke=\"black\" points=\"2164.5,-53 2073.5,-53 2073.5,-0 2164.5,-0 2164.5,-53\"/>\r\n",
       "<text text-anchor=\"middle\" x=\"2119\" y=\"-37.8\" font-family=\"Times New Roman,serif\" font-size=\"14.00\">samples = 11</text>\r\n",
       "<text text-anchor=\"middle\" x=\"2119\" y=\"-22.8\" font-family=\"Times New Roman,serif\" font-size=\"14.00\">value = [7, 4]</text>\r\n",
       "<text text-anchor=\"middle\" x=\"2119\" y=\"-7.8\" font-family=\"Times New Roman,serif\" font-size=\"14.00\">class = ok</text>\r\n",
       "</g>\r\n",
       "<!-- 35&#45;&gt;37 -->\r\n",
       "<g id=\"edge37\" class=\"edge\"><title>35&#45;&gt;37</title>\r\n",
       "<path fill=\"none\" stroke=\"black\" d=\"M2119,-88.9485C2119,-80.7153 2119,-71.848 2119,-63.4814\"/>\r\n",
       "<polygon fill=\"black\" stroke=\"black\" points=\"2122.5,-63.2367 2119,-53.2367 2115.5,-63.2367 2122.5,-63.2367\"/>\r\n",
       "</g>\r\n",
       "<!-- 39 -->\r\n",
       "<g id=\"node40\" class=\"node\"><title>39</title>\r\n",
       "<polygon fill=\"#e58139\" fill-opacity=\"0.968627\" stroke=\"black\" points=\"2293.5,-53 2182.5,-53 2182.5,-0 2293.5,-0 2293.5,-53\"/>\r\n",
       "<text text-anchor=\"middle\" x=\"2238\" y=\"-37.8\" font-family=\"Times New Roman,serif\" font-size=\"14.00\">samples = 1013</text>\r\n",
       "<text text-anchor=\"middle\" x=\"2238\" y=\"-22.8\" font-family=\"Times New Roman,serif\" font-size=\"14.00\">value = [982, 31]</text>\r\n",
       "<text text-anchor=\"middle\" x=\"2238\" y=\"-7.8\" font-family=\"Times New Roman,serif\" font-size=\"14.00\">class = ok</text>\r\n",
       "</g>\r\n",
       "<!-- 38&#45;&gt;39 -->\r\n",
       "<g id=\"edge39\" class=\"edge\"><title>38&#45;&gt;39</title>\r\n",
       "<path fill=\"none\" stroke=\"black\" d=\"M2284.17,-88.9485C2277.43,-79.9834 2270.13,-70.2666 2263.37,-61.2629\"/>\r\n",
       "<polygon fill=\"black\" stroke=\"black\" points=\"2266.14,-59.1293 2257.34,-53.2367 2260.55,-63.334 2266.14,-59.1293\"/>\r\n",
       "</g>\r\n",
       "<!-- 40 -->\r\n",
       "<g id=\"node41\" class=\"node\"><title>40</title>\r\n",
       "<polygon fill=\"none\" stroke=\"black\" points=\"2402.5,-53 2311.5,-53 2311.5,-0 2402.5,-0 2402.5,-53\"/>\r\n",
       "<text text-anchor=\"middle\" x=\"2357\" y=\"-37.8\" font-family=\"Times New Roman,serif\" font-size=\"14.00\">samples = 2</text>\r\n",
       "<text text-anchor=\"middle\" x=\"2357\" y=\"-22.8\" font-family=\"Times New Roman,serif\" font-size=\"14.00\">value = [1, 1]</text>\r\n",
       "<text text-anchor=\"middle\" x=\"2357\" y=\"-7.8\" font-family=\"Times New Roman,serif\" font-size=\"14.00\">class = ok</text>\r\n",
       "</g>\r\n",
       "<!-- 38&#45;&gt;40 -->\r\n",
       "<g id=\"edge40\" class=\"edge\"><title>38&#45;&gt;40</title>\r\n",
       "<path fill=\"none\" stroke=\"black\" d=\"M2325.79,-88.9485C2330.16,-80.3494 2334.88,-71.0586 2339.29,-62.3689\"/>\r\n",
       "<polygon fill=\"black\" stroke=\"black\" points=\"2342.52,-63.7376 2343.93,-53.2367 2336.28,-60.5675 2342.52,-63.7376\"/>\r\n",
       "</g>\r\n",
       "<!-- 42 -->\r\n",
       "<g id=\"node43\" class=\"node\"><title>42</title>\r\n",
       "<polygon fill=\"#399de5\" fill-opacity=\"0.498039\" stroke=\"black\" points=\"2561,-157 2455,-157 2455,-89 2561,-89 2561,-157\"/>\r\n",
       "<text text-anchor=\"middle\" x=\"2508\" y=\"-141.8\" font-family=\"Times New Roman,serif\" font-size=\"14.00\">dti &lt;= 8.71</text>\r\n",
       "<text text-anchor=\"middle\" x=\"2508\" y=\"-126.8\" font-family=\"Times New Roman,serif\" font-size=\"14.00\">samples = 6</text>\r\n",
       "<text text-anchor=\"middle\" x=\"2508\" y=\"-111.8\" font-family=\"Times New Roman,serif\" font-size=\"14.00\">value = [2, 4]</text>\r\n",
       "<text text-anchor=\"middle\" x=\"2508\" y=\"-96.8\" font-family=\"Times New Roman,serif\" font-size=\"14.00\">class = not paid</text>\r\n",
       "</g>\r\n",
       "<!-- 41&#45;&gt;42 -->\r\n",
       "<g id=\"edge42\" class=\"edge\"><title>41&#45;&gt;42</title>\r\n",
       "<path fill=\"none\" stroke=\"black\" d=\"M2508,-192.884C2508,-184.778 2508,-175.982 2508,-167.472\"/>\r\n",
       "<polygon fill=\"black\" stroke=\"black\" points=\"2511.5,-167.299 2508,-157.299 2504.5,-167.299 2511.5,-167.299\"/>\r\n",
       "</g>\r\n",
       "<!-- 45 -->\r\n",
       "<g id=\"node46\" class=\"node\"><title>45</title>\r\n",
       "<polygon fill=\"#e58139\" fill-opacity=\"0.858824\" stroke=\"black\" points=\"2787.5,-157 2612.5,-157 2612.5,-89 2787.5,-89 2787.5,-157\"/>\r\n",
       "<text text-anchor=\"middle\" x=\"2700\" y=\"-141.8\" font-family=\"Times New Roman,serif\" font-size=\"14.00\">purpose_credit_card &lt;= 0.5</text>\r\n",
       "<text text-anchor=\"middle\" x=\"2700\" y=\"-126.8\" font-family=\"Times New Roman,serif\" font-size=\"14.00\">samples = 8</text>\r\n",
       "<text text-anchor=\"middle\" x=\"2700\" y=\"-111.8\" font-family=\"Times New Roman,serif\" font-size=\"14.00\">value = [7, 1]</text>\r\n",
       "<text text-anchor=\"middle\" x=\"2700\" y=\"-96.8\" font-family=\"Times New Roman,serif\" font-size=\"14.00\">class = ok</text>\r\n",
       "</g>\r\n",
       "<!-- 41&#45;&gt;45 -->\r\n",
       "<g id=\"edge45\" class=\"edge\"><title>41&#45;&gt;45</title>\r\n",
       "<path fill=\"none\" stroke=\"black\" d=\"M2570.34,-192.884C2588.96,-182.991 2609.52,-172.07 2628.67,-161.895\"/>\r\n",
       "<polygon fill=\"black\" stroke=\"black\" points=\"2630.46,-164.907 2637.65,-157.125 2627.17,-158.725 2630.46,-164.907\"/>\r\n",
       "</g>\r\n",
       "<!-- 43 -->\r\n",
       "<g id=\"node44\" class=\"node\"><title>43</title>\r\n",
       "<polygon fill=\"#399de5\" stroke=\"black\" points=\"2527,-53 2421,-53 2421,-0 2527,-0 2527,-53\"/>\r\n",
       "<text text-anchor=\"middle\" x=\"2474\" y=\"-37.8\" font-family=\"Times New Roman,serif\" font-size=\"14.00\">samples = 4</text>\r\n",
       "<text text-anchor=\"middle\" x=\"2474\" y=\"-22.8\" font-family=\"Times New Roman,serif\" font-size=\"14.00\">value = [0, 4]</text>\r\n",
       "<text text-anchor=\"middle\" x=\"2474\" y=\"-7.8\" font-family=\"Times New Roman,serif\" font-size=\"14.00\">class = not paid</text>\r\n",
       "</g>\r\n",
       "<!-- 42&#45;&gt;43 -->\r\n",
       "<g id=\"edge43\" class=\"edge\"><title>42&#45;&gt;43</title>\r\n",
       "<path fill=\"none\" stroke=\"black\" d=\"M2496.11,-88.9485C2493.05,-80.4408 2489.74,-71.2562 2486.65,-62.6464\"/>\r\n",
       "<polygon fill=\"black\" stroke=\"black\" points=\"2489.94,-61.4613 2483.26,-53.2367 2483.35,-63.8311 2489.94,-61.4613\"/>\r\n",
       "</g>\r\n",
       "<!-- 44 -->\r\n",
       "<g id=\"node45\" class=\"node\"><title>44</title>\r\n",
       "<polygon fill=\"#e58139\" stroke=\"black\" points=\"2636.5,-53 2545.5,-53 2545.5,-0 2636.5,-0 2636.5,-53\"/>\r\n",
       "<text text-anchor=\"middle\" x=\"2591\" y=\"-37.8\" font-family=\"Times New Roman,serif\" font-size=\"14.00\">samples = 2</text>\r\n",
       "<text text-anchor=\"middle\" x=\"2591\" y=\"-22.8\" font-family=\"Times New Roman,serif\" font-size=\"14.00\">value = [2, 0]</text>\r\n",
       "<text text-anchor=\"middle\" x=\"2591\" y=\"-7.8\" font-family=\"Times New Roman,serif\" font-size=\"14.00\">class = ok</text>\r\n",
       "</g>\r\n",
       "<!-- 42&#45;&gt;44 -->\r\n",
       "<g id=\"edge44\" class=\"edge\"><title>42&#45;&gt;44</title>\r\n",
       "<path fill=\"none\" stroke=\"black\" d=\"M2537.03,-88.9485C2544.98,-79.892 2553.61,-70.0682 2561.59,-60.9875\"/>\r\n",
       "<polygon fill=\"black\" stroke=\"black\" points=\"2564.43,-63.0599 2568.4,-53.2367 2559.17,-58.4405 2564.43,-63.0599\"/>\r\n",
       "</g>\r\n",
       "<!-- 46 -->\r\n",
       "<g id=\"node47\" class=\"node\"><title>46</title>\r\n",
       "<polygon fill=\"#e58139\" stroke=\"black\" points=\"2745.5,-53 2654.5,-53 2654.5,-0 2745.5,-0 2745.5,-53\"/>\r\n",
       "<text text-anchor=\"middle\" x=\"2700\" y=\"-37.8\" font-family=\"Times New Roman,serif\" font-size=\"14.00\">samples = 7</text>\r\n",
       "<text text-anchor=\"middle\" x=\"2700\" y=\"-22.8\" font-family=\"Times New Roman,serif\" font-size=\"14.00\">value = [7, 0]</text>\r\n",
       "<text text-anchor=\"middle\" x=\"2700\" y=\"-7.8\" font-family=\"Times New Roman,serif\" font-size=\"14.00\">class = ok</text>\r\n",
       "</g>\r\n",
       "<!-- 45&#45;&gt;46 -->\r\n",
       "<g id=\"edge46\" class=\"edge\"><title>45&#45;&gt;46</title>\r\n",
       "<path fill=\"none\" stroke=\"black\" d=\"M2700,-88.9485C2700,-80.7153 2700,-71.848 2700,-63.4814\"/>\r\n",
       "<polygon fill=\"black\" stroke=\"black\" points=\"2703.5,-63.2367 2700,-53.2367 2696.5,-63.2367 2703.5,-63.2367\"/>\r\n",
       "</g>\r\n",
       "<!-- 47 -->\r\n",
       "<g id=\"node48\" class=\"node\"><title>47</title>\r\n",
       "<polygon fill=\"#399de5\" stroke=\"black\" points=\"2870,-53 2764,-53 2764,-0 2870,-0 2870,-53\"/>\r\n",
       "<text text-anchor=\"middle\" x=\"2817\" y=\"-37.8\" font-family=\"Times New Roman,serif\" font-size=\"14.00\">samples = 1</text>\r\n",
       "<text text-anchor=\"middle\" x=\"2817\" y=\"-22.8\" font-family=\"Times New Roman,serif\" font-size=\"14.00\">value = [0, 1]</text>\r\n",
       "<text text-anchor=\"middle\" x=\"2817\" y=\"-7.8\" font-family=\"Times New Roman,serif\" font-size=\"14.00\">class = not paid</text>\r\n",
       "</g>\r\n",
       "<!-- 45&#45;&gt;47 -->\r\n",
       "<g id=\"edge47\" class=\"edge\"><title>45&#45;&gt;47</title>\r\n",
       "<path fill=\"none\" stroke=\"black\" d=\"M2740.92,-88.9485C2752.7,-79.4346 2765.53,-69.074 2777.24,-59.6175\"/>\r\n",
       "<polygon fill=\"black\" stroke=\"black\" points=\"2779.56,-62.2429 2785.14,-53.2367 2775.16,-56.7973 2779.56,-62.2429\"/>\r\n",
       "</g>\r\n",
       "<!-- 49 -->\r\n",
       "<g id=\"node50\" class=\"node\"><title>49</title>\r\n",
       "<polygon fill=\"#e58139\" fill-opacity=\"0.831373\" stroke=\"black\" points=\"3223.5,-261 3088.5,-261 3088.5,-193 3223.5,-193 3223.5,-261\"/>\r\n",
       "<text text-anchor=\"middle\" x=\"3156\" y=\"-245.8\" font-family=\"Times New Roman,serif\" font-size=\"14.00\">inq.last.6mths &lt;= 2.5</text>\r\n",
       "<text text-anchor=\"middle\" x=\"3156\" y=\"-230.8\" font-family=\"Times New Roman,serif\" font-size=\"14.00\">samples = 5639</text>\r\n",
       "<text text-anchor=\"middle\" x=\"3156\" y=\"-215.8\" font-family=\"Times New Roman,serif\" font-size=\"14.00\">value = [4833, 806]</text>\r\n",
       "<text text-anchor=\"middle\" x=\"3156\" y=\"-200.8\" font-family=\"Times New Roman,serif\" font-size=\"14.00\">class = ok</text>\r\n",
       "</g>\r\n",
       "<!-- 48&#45;&gt;49 -->\r\n",
       "<g id=\"edge49\" class=\"edge\"><title>48&#45;&gt;49</title>\r\n",
       "<path fill=\"none\" stroke=\"black\" d=\"M3156,-296.884C3156,-288.778 3156,-279.982 3156,-271.472\"/>\r\n",
       "<polygon fill=\"black\" stroke=\"black\" points=\"3159.5,-271.299 3156,-261.299 3152.5,-271.299 3159.5,-271.299\"/>\r\n",
       "</g>\r\n",
       "<!-- 56 -->\r\n",
       "<g id=\"node57\" class=\"node\"><title>56</title>\r\n",
       "<polygon fill=\"#e58139\" fill-opacity=\"0.654902\" stroke=\"black\" points=\"3598.5,-261 3479.5,-261 3479.5,-193 3598.5,-193 3598.5,-261\"/>\r\n",
       "<text text-anchor=\"middle\" x=\"3539\" y=\"-245.8\" font-family=\"Times New Roman,serif\" font-size=\"14.00\">revol.util &lt;= 42.25</text>\r\n",
       "<text text-anchor=\"middle\" x=\"3539\" y=\"-230.8\" font-family=\"Times New Roman,serif\" font-size=\"14.00\">samples = 452</text>\r\n",
       "<text text-anchor=\"middle\" x=\"3539\" y=\"-215.8\" font-family=\"Times New Roman,serif\" font-size=\"14.00\">value = [336, 116]</text>\r\n",
       "<text text-anchor=\"middle\" x=\"3539\" y=\"-200.8\" font-family=\"Times New Roman,serif\" font-size=\"14.00\">class = ok</text>\r\n",
       "</g>\r\n",
       "<!-- 48&#45;&gt;56 -->\r\n",
       "<g id=\"edge56\" class=\"edge\"><title>48&#45;&gt;56</title>\r\n",
       "<path fill=\"none\" stroke=\"black\" d=\"M3253.64,-303.997C3321.13,-286.022 3409.3,-262.542 3469.66,-246.466\"/>\r\n",
       "<polygon fill=\"black\" stroke=\"black\" points=\"3470.71,-249.808 3479.48,-243.852 3468.91,-243.044 3470.71,-249.808\"/>\r\n",
       "</g>\r\n",
       "<!-- 50 -->\r\n",
       "<g id=\"node51\" class=\"node\"><title>50</title>\r\n",
       "<polygon fill=\"#e58139\" fill-opacity=\"0.847059\" stroke=\"black\" points=\"3156.5,-157 3001.5,-157 3001.5,-89 3156.5,-89 3156.5,-157\"/>\r\n",
       "<text text-anchor=\"middle\" x=\"3079\" y=\"-141.8\" font-family=\"Times New Roman,serif\" font-size=\"14.00\">log.annual.inc &lt;= 10.527</text>\r\n",
       "<text text-anchor=\"middle\" x=\"3079\" y=\"-126.8\" font-family=\"Times New Roman,serif\" font-size=\"14.00\">samples = 4984</text>\r\n",
       "<text text-anchor=\"middle\" x=\"3079\" y=\"-111.8\" font-family=\"Times New Roman,serif\" font-size=\"14.00\">value = [4317, 667]</text>\r\n",
       "<text text-anchor=\"middle\" x=\"3079\" y=\"-96.8\" font-family=\"Times New Roman,serif\" font-size=\"14.00\">class = ok</text>\r\n",
       "</g>\r\n",
       "<!-- 49&#45;&gt;50 -->\r\n",
       "<g id=\"edge50\" class=\"edge\"><title>49&#45;&gt;50</title>\r\n",
       "<path fill=\"none\" stroke=\"black\" d=\"M3131,-192.884C3124.41,-184.154 3117.22,-174.625 3110.34,-165.514\"/>\r\n",
       "<polygon fill=\"black\" stroke=\"black\" points=\"3112.96,-163.172 3104.14,-157.299 3107.37,-167.389 3112.96,-163.172\"/>\r\n",
       "</g>\r\n",
       "<!-- 53 -->\r\n",
       "<g id=\"node54\" class=\"node\"><title>53</title>\r\n",
       "<polygon fill=\"#e58139\" fill-opacity=\"0.729412\" stroke=\"black\" points=\"3293,-157 3175,-157 3175,-89 3293,-89 3293,-157\"/>\r\n",
       "<text text-anchor=\"middle\" x=\"3234\" y=\"-141.8\" font-family=\"Times New Roman,serif\" font-size=\"14.00\">int.rate &lt;= 0.18</text>\r\n",
       "<text text-anchor=\"middle\" x=\"3234\" y=\"-126.8\" font-family=\"Times New Roman,serif\" font-size=\"14.00\">samples = 655</text>\r\n",
       "<text text-anchor=\"middle\" x=\"3234\" y=\"-111.8\" font-family=\"Times New Roman,serif\" font-size=\"14.00\">value = [516, 139]</text>\r\n",
       "<text text-anchor=\"middle\" x=\"3234\" y=\"-96.8\" font-family=\"Times New Roman,serif\" font-size=\"14.00\">class = ok</text>\r\n",
       "</g>\r\n",
       "<!-- 49&#45;&gt;53 -->\r\n",
       "<g id=\"edge53\" class=\"edge\"><title>49&#45;&gt;53</title>\r\n",
       "<path fill=\"none\" stroke=\"black\" d=\"M3181.32,-192.884C3188,-184.154 3195.29,-174.625 3202.25,-165.514\"/>\r\n",
       "<polygon fill=\"black\" stroke=\"black\" points=\"3205.24,-167.369 3208.54,-157.299 3199.68,-163.117 3205.24,-167.369\"/>\r\n",
       "</g>\r\n",
       "<!-- 51 -->\r\n",
       "<g id=\"node52\" class=\"node\"><title>51</title>\r\n",
       "<polygon fill=\"#e58139\" fill-opacity=\"0.792157\" stroke=\"black\" points=\"3006,-53 2888,-53 2888,-0 3006,-0 3006,-53\"/>\r\n",
       "<text text-anchor=\"middle\" x=\"2947\" y=\"-37.8\" font-family=\"Times New Roman,serif\" font-size=\"14.00\">samples = 1122</text>\r\n",
       "<text text-anchor=\"middle\" x=\"2947\" y=\"-22.8\" font-family=\"Times New Roman,serif\" font-size=\"14.00\">value = [929, 193]</text>\r\n",
       "<text text-anchor=\"middle\" x=\"2947\" y=\"-7.8\" font-family=\"Times New Roman,serif\" font-size=\"14.00\">class = ok</text>\r\n",
       "</g>\r\n",
       "<!-- 50&#45;&gt;51 -->\r\n",
       "<g id=\"edge51\" class=\"edge\"><title>50&#45;&gt;51</title>\r\n",
       "<path fill=\"none\" stroke=\"black\" d=\"M3032.83,-88.9485C3019.29,-79.2516 3004.51,-68.6752 2991.1,-59.073\"/>\r\n",
       "<polygon fill=\"black\" stroke=\"black\" points=\"2993.12,-56.212 2982.95,-53.2367 2989.04,-61.9038 2993.12,-56.212\"/>\r\n",
       "</g>\r\n",
       "<!-- 52 -->\r\n",
       "<g id=\"node53\" class=\"node\"><title>52</title>\r\n",
       "<polygon fill=\"#e58139\" fill-opacity=\"0.858824\" stroke=\"black\" points=\"3149.5,-53 3024.5,-53 3024.5,-0 3149.5,-0 3149.5,-53\"/>\r\n",
       "<text text-anchor=\"middle\" x=\"3087\" y=\"-37.8\" font-family=\"Times New Roman,serif\" font-size=\"14.00\">samples = 3862</text>\r\n",
       "<text text-anchor=\"middle\" x=\"3087\" y=\"-22.8\" font-family=\"Times New Roman,serif\" font-size=\"14.00\">value = [3388, 474]</text>\r\n",
       "<text text-anchor=\"middle\" x=\"3087\" y=\"-7.8\" font-family=\"Times New Roman,serif\" font-size=\"14.00\">class = ok</text>\r\n",
       "</g>\r\n",
       "<!-- 50&#45;&gt;52 -->\r\n",
       "<g id=\"edge52\" class=\"edge\"><title>50&#45;&gt;52</title>\r\n",
       "<path fill=\"none\" stroke=\"black\" d=\"M3081.8,-88.9485C3082.5,-80.6238 3083.26,-71.6509 3083.98,-63.2027\"/>\r\n",
       "<polygon fill=\"black\" stroke=\"black\" points=\"3087.47,-63.4963 3084.82,-53.2367 3080.49,-62.9058 3087.47,-63.4963\"/>\r\n",
       "</g>\r\n",
       "<!-- 54 -->\r\n",
       "<g id=\"node55\" class=\"node\"><title>54</title>\r\n",
       "<polygon fill=\"#e58139\" fill-opacity=\"0.737255\" stroke=\"black\" points=\"3286,-53 3168,-53 3168,-0 3286,-0 3286,-53\"/>\r\n",
       "<text text-anchor=\"middle\" x=\"3227\" y=\"-37.8\" font-family=\"Times New Roman,serif\" font-size=\"14.00\">samples = 650</text>\r\n",
       "<text text-anchor=\"middle\" x=\"3227\" y=\"-22.8\" font-family=\"Times New Roman,serif\" font-size=\"14.00\">value = [515, 135]</text>\r\n",
       "<text text-anchor=\"middle\" x=\"3227\" y=\"-7.8\" font-family=\"Times New Roman,serif\" font-size=\"14.00\">class = ok</text>\r\n",
       "</g>\r\n",
       "<!-- 53&#45;&gt;54 -->\r\n",
       "<g id=\"edge54\" class=\"edge\"><title>53&#45;&gt;54</title>\r\n",
       "<path fill=\"none\" stroke=\"black\" d=\"M3231.55,-88.9485C3230.94,-80.7153 3230.29,-71.848 3229.67,-63.4814\"/>\r\n",
       "<polygon fill=\"black\" stroke=\"black\" points=\"3233.14,-62.9508 3228.91,-53.2367 3226.15,-63.468 3233.14,-62.9508\"/>\r\n",
       "</g>\r\n",
       "<!-- 55 -->\r\n",
       "<g id=\"node56\" class=\"node\"><title>55</title>\r\n",
       "<polygon fill=\"#399de5\" fill-opacity=\"0.749020\" stroke=\"black\" points=\"3410,-53 3304,-53 3304,-0 3410,-0 3410,-53\"/>\r\n",
       "<text text-anchor=\"middle\" x=\"3357\" y=\"-37.8\" font-family=\"Times New Roman,serif\" font-size=\"14.00\">samples = 5</text>\r\n",
       "<text text-anchor=\"middle\" x=\"3357\" y=\"-22.8\" font-family=\"Times New Roman,serif\" font-size=\"14.00\">value = [1, 4]</text>\r\n",
       "<text text-anchor=\"middle\" x=\"3357\" y=\"-7.8\" font-family=\"Times New Roman,serif\" font-size=\"14.00\">class = not paid</text>\r\n",
       "</g>\r\n",
       "<!-- 53&#45;&gt;55 -->\r\n",
       "<g id=\"edge55\" class=\"edge\"><title>53&#45;&gt;55</title>\r\n",
       "<path fill=\"none\" stroke=\"black\" d=\"M3277.02,-88.9485C3289.52,-79.3431 3303.15,-68.8747 3315.55,-59.345\"/>\r\n",
       "<polygon fill=\"black\" stroke=\"black\" points=\"3317.7,-62.1046 3323.5,-53.2367 3313.44,-56.5537 3317.7,-62.1046\"/>\r\n",
       "</g>\r\n",
       "<!-- 57 -->\r\n",
       "<g id=\"node58\" class=\"node\"><title>57</title>\r\n",
       "<polygon fill=\"#e58139\" fill-opacity=\"0.760784\" stroke=\"black\" points=\"3605.5,-157 3472.5,-157 3472.5,-89 3605.5,-89 3605.5,-157\"/>\r\n",
       "<text text-anchor=\"middle\" x=\"3539\" y=\"-141.8\" font-family=\"Times New Roman,serif\" font-size=\"14.00\">revol.bal &lt;= 86160.5</text>\r\n",
       "<text text-anchor=\"middle\" x=\"3539\" y=\"-126.8\" font-family=\"Times New Roman,serif\" font-size=\"14.00\">samples = 248</text>\r\n",
       "<text text-anchor=\"middle\" x=\"3539\" y=\"-111.8\" font-family=\"Times New Roman,serif\" font-size=\"14.00\">value = [200, 48]</text>\r\n",
       "<text text-anchor=\"middle\" x=\"3539\" y=\"-96.8\" font-family=\"Times New Roman,serif\" font-size=\"14.00\">class = ok</text>\r\n",
       "</g>\r\n",
       "<!-- 56&#45;&gt;57 -->\r\n",
       "<g id=\"edge57\" class=\"edge\"><title>56&#45;&gt;57</title>\r\n",
       "<path fill=\"none\" stroke=\"black\" d=\"M3539,-192.884C3539,-184.778 3539,-175.982 3539,-167.472\"/>\r\n",
       "<polygon fill=\"black\" stroke=\"black\" points=\"3542.5,-167.299 3539,-157.299 3535.5,-167.299 3542.5,-167.299\"/>\r\n",
       "</g>\r\n",
       "<!-- 60 -->\r\n",
       "<g id=\"node61\" class=\"node\"><title>60</title>\r\n",
       "<polygon fill=\"#e58139\" fill-opacity=\"0.498039\" stroke=\"black\" points=\"3797.5,-157 3678.5,-157 3678.5,-89 3797.5,-89 3797.5,-157\"/>\r\n",
       "<text text-anchor=\"middle\" x=\"3738\" y=\"-141.8\" font-family=\"Times New Roman,serif\" font-size=\"14.00\">delinq.2yrs &lt;= 0.5</text>\r\n",
       "<text text-anchor=\"middle\" x=\"3738\" y=\"-126.8\" font-family=\"Times New Roman,serif\" font-size=\"14.00\">samples = 204</text>\r\n",
       "<text text-anchor=\"middle\" x=\"3738\" y=\"-111.8\" font-family=\"Times New Roman,serif\" font-size=\"14.00\">value = [136, 68]</text>\r\n",
       "<text text-anchor=\"middle\" x=\"3738\" y=\"-96.8\" font-family=\"Times New Roman,serif\" font-size=\"14.00\">class = ok</text>\r\n",
       "</g>\r\n",
       "<!-- 56&#45;&gt;60 -->\r\n",
       "<g id=\"edge60\" class=\"edge\"><title>56&#45;&gt;60</title>\r\n",
       "<path fill=\"none\" stroke=\"black\" d=\"M3598.71,-195.397C3620.94,-184 3646.35,-170.976 3669.33,-159.199\"/>\r\n",
       "<polygon fill=\"black\" stroke=\"black\" points=\"3671.03,-162.258 3678.34,-154.582 3667.84,-156.028 3671.03,-162.258\"/>\r\n",
       "</g>\r\n",
       "<!-- 58 -->\r\n",
       "<g id=\"node59\" class=\"node\"><title>58</title>\r\n",
       "<polygon fill=\"#e58139\" fill-opacity=\"0.768627\" stroke=\"black\" points=\"3539.5,-53 3428.5,-53 3428.5,-0 3539.5,-0 3539.5,-53\"/>\r\n",
       "<text text-anchor=\"middle\" x=\"3484\" y=\"-37.8\" font-family=\"Times New Roman,serif\" font-size=\"14.00\">samples = 246</text>\r\n",
       "<text text-anchor=\"middle\" x=\"3484\" y=\"-22.8\" font-family=\"Times New Roman,serif\" font-size=\"14.00\">value = [200, 46]</text>\r\n",
       "<text text-anchor=\"middle\" x=\"3484\" y=\"-7.8\" font-family=\"Times New Roman,serif\" font-size=\"14.00\">class = ok</text>\r\n",
       "</g>\r\n",
       "<!-- 57&#45;&gt;58 -->\r\n",
       "<g id=\"edge58\" class=\"edge\"><title>57&#45;&gt;58</title>\r\n",
       "<path fill=\"none\" stroke=\"black\" d=\"M3519.76,-88.9485C3514.71,-80.2579 3509.24,-70.8608 3504.13,-62.0917\"/>\r\n",
       "<polygon fill=\"black\" stroke=\"black\" points=\"3507.03,-60.1189 3498.98,-53.2367 3500.98,-63.6401 3507.03,-60.1189\"/>\r\n",
       "</g>\r\n",
       "<!-- 59 -->\r\n",
       "<g id=\"node60\" class=\"node\"><title>59</title>\r\n",
       "<polygon fill=\"#399de5\" stroke=\"black\" points=\"3664,-53 3558,-53 3558,-0 3664,-0 3664,-53\"/>\r\n",
       "<text text-anchor=\"middle\" x=\"3611\" y=\"-37.8\" font-family=\"Times New Roman,serif\" font-size=\"14.00\">samples = 2</text>\r\n",
       "<text text-anchor=\"middle\" x=\"3611\" y=\"-22.8\" font-family=\"Times New Roman,serif\" font-size=\"14.00\">value = [0, 2]</text>\r\n",
       "<text text-anchor=\"middle\" x=\"3611\" y=\"-7.8\" font-family=\"Times New Roman,serif\" font-size=\"14.00\">class = not paid</text>\r\n",
       "</g>\r\n",
       "<!-- 57&#45;&gt;59 -->\r\n",
       "<g id=\"edge59\" class=\"edge\"><title>57&#45;&gt;59</title>\r\n",
       "<path fill=\"none\" stroke=\"black\" d=\"M3564.18,-88.9485C3571.01,-79.9834 3578.42,-70.2666 3585.28,-61.2629\"/>\r\n",
       "<polygon fill=\"black\" stroke=\"black\" points=\"3588.11,-63.3122 3591.39,-53.2367 3582.55,-59.0699 3588.11,-63.3122\"/>\r\n",
       "</g>\r\n",
       "<!-- 61 -->\r\n",
       "<g id=\"node62\" class=\"node\"><title>61</title>\r\n",
       "<polygon fill=\"#e58139\" fill-opacity=\"0.576471\" stroke=\"black\" points=\"3793.5,-53 3682.5,-53 3682.5,-0 3793.5,-0 3793.5,-53\"/>\r\n",
       "<text text-anchor=\"middle\" x=\"3738\" y=\"-37.8\" font-family=\"Times New Roman,serif\" font-size=\"14.00\">samples = 181</text>\r\n",
       "<text text-anchor=\"middle\" x=\"3738\" y=\"-22.8\" font-family=\"Times New Roman,serif\" font-size=\"14.00\">value = [127, 54]</text>\r\n",
       "<text text-anchor=\"middle\" x=\"3738\" y=\"-7.8\" font-family=\"Times New Roman,serif\" font-size=\"14.00\">class = ok</text>\r\n",
       "</g>\r\n",
       "<!-- 60&#45;&gt;61 -->\r\n",
       "<g id=\"edge61\" class=\"edge\"><title>60&#45;&gt;61</title>\r\n",
       "<path fill=\"none\" stroke=\"black\" d=\"M3738,-88.9485C3738,-80.7153 3738,-71.848 3738,-63.4814\"/>\r\n",
       "<polygon fill=\"black\" stroke=\"black\" points=\"3741.5,-63.2367 3738,-53.2367 3734.5,-63.2367 3741.5,-63.2367\"/>\r\n",
       "</g>\r\n",
       "<!-- 62 -->\r\n",
       "<g id=\"node63\" class=\"node\"><title>62</title>\r\n",
       "<polygon fill=\"#399de5\" fill-opacity=\"0.356863\" stroke=\"black\" points=\"3918,-53 3812,-53 3812,-0 3918,-0 3918,-53\"/>\r\n",
       "<text text-anchor=\"middle\" x=\"3865\" y=\"-37.8\" font-family=\"Times New Roman,serif\" font-size=\"14.00\">samples = 23</text>\r\n",
       "<text text-anchor=\"middle\" x=\"3865\" y=\"-22.8\" font-family=\"Times New Roman,serif\" font-size=\"14.00\">value = [9, 14]</text>\r\n",
       "<text text-anchor=\"middle\" x=\"3865\" y=\"-7.8\" font-family=\"Times New Roman,serif\" font-size=\"14.00\">class = not paid</text>\r\n",
       "</g>\r\n",
       "<!-- 60&#45;&gt;62 -->\r\n",
       "<g id=\"edge62\" class=\"edge\"><title>60&#45;&gt;62</title>\r\n",
       "<path fill=\"none\" stroke=\"black\" d=\"M3782.42,-88.9485C3795.33,-79.3431 3809.4,-68.8747 3822.2,-59.345\"/>\r\n",
       "<polygon fill=\"black\" stroke=\"black\" points=\"3824.48,-62.0143 3830.41,-53.2367 3820.3,-56.3984 3824.48,-62.0143\"/>\r\n",
       "</g>\r\n",
       "</g>\r\n",
       "</svg>\r\n"
      ],
      "text/plain": [
       "<graphviz.files.Source at 0x26a3282fb70>"
      ]
     },
     "metadata": {},
     "output_type": "display_data"
    }
   ],
   "source": [
    "export_graphviz(model, out_file='loan.dot', class_names=['ok','not paid'],\n",
    "               feature_names=X.columns, impurity=False, filled=True)\n",
    "with open('loan.dot') as f:\n",
    "    dot_graph = f.read()    \n",
    "display(graphviz.Source(dot_graph))"
   ]
  },
  {
   "cell_type": "code",
   "execution_count": null,
   "metadata": {},
   "outputs": [],
   "source": []
  }
 ],
 "metadata": {
  "kernelspec": {
   "display_name": "Python 3",
   "language": "python",
   "name": "python3"
  },
  "language_info": {
   "codemirror_mode": {
    "name": "ipython",
    "version": 3
   },
   "file_extension": ".py",
   "mimetype": "text/x-python",
   "name": "python",
   "nbconvert_exporter": "python",
   "pygments_lexer": "ipython3",
   "version": "3.7.3"
  }
 },
 "nbformat": 4,
 "nbformat_minor": 2
}
