{
 "cells": [
  {
   "cell_type": "markdown",
   "metadata": {},
   "source": [
    "### p73 선형 회귀 모델\n",
    "- 데이터를 선형 함수로 모델링\n",
    "- 최소제곱법 : 평균제곱오차를 최소화하는 파라미터를 찾는다\n",
    "  - 파라미터를 줄이고 키우고를 반복한다(예시)\n",
    "  - 오차를 파라미터로 미분한 값만큼 조절을 반복한다(경사하강법)\n",
    "  - 정규방정식으로 찾기(데이터가 많아지면 메모리 부족으로 사용 불가)\n",
    "- 평균제곱오차 : 오차(예측과 정답의 차이)를 제곱 > 모든 샘플들의 오차를 평균"
   ]
  },
  {
   "cell_type": "code",
   "execution_count": 3,
   "metadata": {},
   "outputs": [],
   "source": [
    "import numpy as np\n",
    "import pandas as pd\n",
    "import matplotlib.pyplot as plt"
   ]
  },
  {
   "cell_type": "code",
   "execution_count": 5,
   "metadata": {},
   "outputs": [],
   "source": [
    "# 키와 몸무게, 몸무게로부터 키를 예측해보자\n",
    "몸무게 = [30,60,70,90]\n",
    "키 = [120,160, 170, 190]\n",
    "몸무게_test = [65, 80] # 이 두사람의 키는 어떻게 될까?"
   ]
  },
  {
   "cell_type": "code",
   "execution_count": 10,
   "metadata": {},
   "outputs": [],
   "source": [
    "# 4행 1열(ok) / 1행 4열(wrong)\n",
    "몸무게 = np.array(몸무게).reshape((-1,1))\n",
    "키 = np.array(키)\n",
    "몸무게_test = np.array(몸무게_test).reshape((-1,1))"
   ]
  },
  {
   "cell_type": "code",
   "execution_count": 11,
   "metadata": {},
   "outputs": [
    {
     "data": {
      "text/plain": [
       "LinearRegression(copy_X=True, fit_intercept=True, n_jobs=None,\n",
       "         normalize=False)"
      ]
     },
     "execution_count": 11,
     "metadata": {},
     "output_type": "execute_result"
    }
   ],
   "source": [
    "#76 모델 선택\n",
    "from sklearn.linear_model import LinearRegression\n",
    "lr = LinearRegression()\n",
    "lr.fit(X=몸무게, y=키) # Y = w*x+b 에서 w와 b를 조절하는 것"
   ]
  },
  {
   "cell_type": "code",
   "execution_count": 13,
   "metadata": {},
   "outputs": [
    {
     "data": {
      "text/plain": [
       "(array([[65],\n",
       "        [80]]), array([162.93333333, 180.53333333]))"
      ]
     },
     "execution_count": 13,
     "metadata": {},
     "output_type": "execute_result"
    }
   ],
   "source": [
    "몸무게_test, lr.predict(몸무게_test)"
   ]
  },
  {
   "cell_type": "code",
   "execution_count": 14,
   "metadata": {},
   "outputs": [
    {
     "data": {
      "text/plain": [
       "0.9928205128205129"
      ]
     },
     "execution_count": 14,
     "metadata": {},
     "output_type": "execute_result"
    }
   ],
   "source": [
    "lr.score(몸무게, 키) # 결정계수 max 1"
   ]
  },
  {
   "cell_type": "code",
   "execution_count": 16,
   "metadata": {},
   "outputs": [
    {
     "data": {
      "text/plain": [
       "(array([1.17333333]), 86.66666666666667)"
      ]
     },
     "execution_count": 16,
     "metadata": {},
     "output_type": "execute_result"
    }
   ],
   "source": [
    "#계수 w 와 절편 b ,  Y = wx + b = 1.17 * x + 86.6\n",
    "lr.coef_, lr.intercept_"
   ]
  },
  {
   "cell_type": "code",
   "execution_count": 17,
   "metadata": {},
   "outputs": [
    {
     "data": {
      "text/plain": [
       "array([[121.86666667],\n",
       "       [157.06666667],\n",
       "       [168.8       ],\n",
       "       [192.26666667]])"
      ]
     },
     "execution_count": 17,
     "metadata": {},
     "output_type": "execute_result"
    }
   ],
   "source": [
    "lr.coef_ * 몸무게 + lr.intercept_ # Y = w * x + b"
   ]
  },
  {
   "cell_type": "code",
   "execution_count": 18,
   "metadata": {
    "scrolled": true
   },
   "outputs": [
    {
     "data": {
      "text/plain": [
       "array([120, 160, 170, 190])"
      ]
     },
     "execution_count": 18,
     "metadata": {},
     "output_type": "execute_result"
    }
   ],
   "source": [
    "키"
   ]
  },
  {
   "cell_type": "markdown",
   "metadata": {},
   "source": [
    "## LinearRegression 으로  내일의 종가 예측\n",
    "- 입력(X:하루 전 데이터), 출력(Y:다음 날의 종가)\n",
    "- 데이터 총 m = 10, 학습용 8, 테스트 2\n",
    "- 정규화는 일단 생략"
   ]
  },
  {
   "cell_type": "code",
   "execution_count": 71,
   "metadata": {},
   "outputs": [
    {
     "data": {
      "text/plain": [
       "3"
      ]
     },
     "execution_count": 71,
     "metadata": {},
     "output_type": "execute_result"
    }
   ],
   "source": [
    "url='https://finance.daum.net/domestic/kospi200'\n",
    "url='코스피200 _ 다음 금융.html'#웹페이지를 다른 이름으로 저장\n",
    "tables = pd.read_html(url, index_col=0)\n",
    "len(tables)"
   ]
  },
  {
   "cell_type": "code",
   "execution_count": 75,
   "metadata": {},
   "outputs": [],
   "source": [
    "df = tables[1]"
   ]
  },
  {
   "cell_type": "code",
   "execution_count": 76,
   "metadata": {},
   "outputs": [],
   "source": [
    "#전처리 : 전일비와 등락률을 수치데이터로 변환\n",
    "df['전일비'] = df['전일비'].replace('▼','-',regex=True)\n",
    "df['전일비'] = df['전일비'].replace('▲','',regex=True)\n",
    "df['등락률'] = df['등락률'].replace('%','',regex=True)\n",
    "df['전일비'] = df['전일비'].astype(np.float)\n",
    "df['등락률'] = df['등락률'].astype(np.float)"
   ]
  },
  {
   "cell_type": "code",
   "execution_count": 96,
   "metadata": {},
   "outputs": [],
   "source": [
    "#min max 정규화 [0,1]\n",
    "minimum = np.min(df, axis=0)\n",
    "maximum = np.max(df, axis=0)\n",
    "df_norm = (df - minimum) / (maximum-minimum)"
   ]
  },
  {
   "cell_type": "code",
   "execution_count": 97,
   "metadata": {},
   "outputs": [
    {
     "data": {
      "text/plain": [
       "((9, 8), (9,))"
      ]
     },
     "execution_count": 97,
     "metadata": {},
     "output_type": "execute_result"
    }
   ],
   "source": [
    "# X 와 y 를 분리\n",
    "X = df_norm.iloc[1:]#오늘 데이터 제외\n",
    "y = df_norm.iloc[:-1, 0]#가장 오래된 데이터와 종가 외의 컬럼 제외\n",
    "X.shape, y.shape"
   ]
  },
  {
   "cell_type": "code",
   "execution_count": 98,
   "metadata": {},
   "outputs": [],
   "source": [
    "#Train / Test 용 분리\n",
    "offset = 2\n",
    "X_train = X[offset:]#예전\n",
    "X_test = X[:offset]#최근\n",
    "y_train = y[offset:]#예전\n",
    "y_test = y[:offset]#최근"
   ]
  },
  {
   "cell_type": "code",
   "execution_count": 99,
   "metadata": {},
   "outputs": [],
   "source": [
    "'''\n",
    "train 셋으로 Linear Regression 모델 fit\n",
    "78 릿지(ridge)모델 : w 를 가능한한 작게 만드는 LinearRegression\n",
    "   규제(regularization)\n",
    "W 를 줄인다는 것은 Y를 예측하는 데 가능한한 모든 특성을 반영해라\n",
    "Y = w1 * x1 + w2 * x2 + ..... wi*xi + b\n",
    "'''\n",
    "from sklearn.linear_model import LinearRegression, Ridge\n",
    "lr = Ridge().fit(X_train, y_train)"
   ]
  },
  {
   "cell_type": "code",
   "execution_count": 100,
   "metadata": {},
   "outputs": [
    {
     "data": {
      "text/plain": [
       "(0.2529211781296403, -14.132619553803877)"
      ]
     },
     "execution_count": 100,
     "metadata": {},
     "output_type": "execute_result"
    }
   ],
   "source": [
    "#score 측정, LR -2만점, Ridge -14점\n",
    "lr.score(X_train, y_train), lr.score(X_test, y_test)"
   ]
  },
  {
   "cell_type": "code",
   "execution_count": 106,
   "metadata": {},
   "outputs": [
    {
     "data": {
      "text/plain": [
       "<matplotlib.legend.Legend at 0x13c49bf6400>"
      ]
     },
     "execution_count": 106,
     "metadata": {},
     "output_type": "execute_result"
    },
    {
     "data": {
      "image/png": "[encoded data removed]",
      "text/plain": [
       "<Figure size 432x288 with 1 Axes>"
      ]
     },
     "metadata": {
      "needs_background": "light"
     },
     "output_type": "display_data"
    }
   ],
   "source": [
    "#예측을 그래프로 시각화\n",
    "train_len = np.arange(len(X_train))\n",
    "test_len = np.arange(len(X_train), len(X_train) + len(X_test))\n",
    "plt.plot(train_len, lr.predict(X_train), label='train_x')\n",
    "plt.plot(train_len, y_train, label='train_y')\n",
    "plt.plot(test_len, lr.predict(X_test), label='test_x')\n",
    "plt.plot(test_len, y_test, label='test_y')\n",
    "plt.legend()"
   ]
  },
  {
   "cell_type": "code",
   "execution_count": null,
   "metadata": {},
   "outputs": [],
   "source": []
  }
 ],
 "metadata": {
  "kernelspec": {
   "display_name": "Python 3",
   "language": "python",
   "name": "python3"
  },
  "language_info": {
   "codemirror_mode": {
    "name": "ipython",
    "version": 3
   },
   "file_extension": ".py",
   "mimetype": "text/x-python",
   "name": "python",
   "nbconvert_exporter": "python",
   "pygments_lexer": "ipython3",
   "version": "3.7.3"
  }
 },
 "nbformat": 4,
 "nbformat_minor": 2
}
