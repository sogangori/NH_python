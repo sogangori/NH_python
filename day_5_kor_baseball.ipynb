{
 "cells": [
  {
   "cell_type": "markdown",
   "metadata": {},
   "source": [
    "KBR Report 에서 오른쪽 위 표 데이터(현재 승패) 가져와서 출력하기\n",
    "- http://www.kbreport.com/main"
   ]
  },
  {
   "cell_type": "code",
   "execution_count": 1,
   "metadata": {},
   "outputs": [],
   "source": [
    "import numpy as np\n",
    "import pandas as pd\n",
    "import matplotlib.pyplot as plt"
   ]
  },
  {
   "cell_type": "code",
   "execution_count": 39,
   "metadata": {
    "scrolled": true
   },
   "outputs": [
    {
     "data": {
      "text/plain": [
       "1"
      ]
     },
     "execution_count": 39,
     "metadata": {},
     "output_type": "execute_result"
    }
   ],
   "source": [
    "url = 'http://www.kbreport.com/main'\n",
    "url = 'file:///C:/Users/wtime/Downloads/%ED%8C%80%20%ED%83%80%EA%B2%A9%EB%A9%94%EC%9D%B8%EA%B8%B0%EB%A1%9D%20_%20KBReport.html'\n",
    "tables = pd.read_html(url, index_col=1) #1번째 컬럼이 인덱스다\n",
    "len(tables)"
   ]
  },
  {
   "cell_type": "code",
   "execution_count": 43,
   "metadata": {},
   "outputs": [
    {
     "data": {
      "text/plain": [
       "(11, 20)"
      ]
     },
     "execution_count": 43,
     "metadata": {},
     "output_type": "execute_result"
    }
   ],
   "source": [
    "baseball = tables[0]\n",
    "baseball.shape"
   ]
  },
  {
   "cell_type": "code",
   "execution_count": 46,
   "metadata": {
    "scrolled": true
   },
   "outputs": [],
   "source": [
    "data = baseball.iloc[:-1]"
   ]
  },
  {
   "cell_type": "code",
   "execution_count": 96,
   "metadata": {
    "scrolled": true
   },
   "outputs": [
    {
     "data": {
      "text/html": [
       "<div>\n",
       "<style scoped>\n",
       "    .dataframe tbody tr th:only-of-type {\n",
       "        vertical-align: middle;\n",
       "    }\n",
       "\n",
       "    .dataframe tbody tr th {\n",
       "        vertical-align: top;\n",
       "    }\n",
       "\n",
       "    .dataframe thead th {\n",
       "        text-align: right;\n",
       "    }\n",
       "</style>\n",
       "<table border=\"1\" class=\"dataframe\">\n",
       "  <thead>\n",
       "    <tr style=\"text-align: right;\">\n",
       "      <th></th>\n",
       "      <th>#</th>\n",
       "      <th>경기</th>\n",
       "      <th>승</th>\n",
       "      <th>무</th>\n",
       "      <th>패</th>\n",
       "      <th>승률</th>\n",
       "      <th>기대승률</th>\n",
       "      <th>R/G</th>\n",
       "      <th>득점</th>\n",
       "      <th>홈런</th>\n",
       "      <th>도루</th>\n",
       "      <th>볼넷%</th>\n",
       "      <th>삼진%</th>\n",
       "      <th>BABIP</th>\n",
       "      <th>타율</th>\n",
       "      <th>출루율</th>\n",
       "      <th>장타율</th>\n",
       "      <th>OPS</th>\n",
       "      <th>wOBA</th>\n",
       "      <th>WAR</th>\n",
       "    </tr>\n",
       "    <tr>\n",
       "      <th>팀명</th>\n",
       "      <th></th>\n",
       "      <th></th>\n",
       "      <th></th>\n",
       "      <th></th>\n",
       "      <th></th>\n",
       "      <th></th>\n",
       "      <th></th>\n",
       "      <th></th>\n",
       "      <th></th>\n",
       "      <th></th>\n",
       "      <th></th>\n",
       "      <th></th>\n",
       "      <th></th>\n",
       "      <th></th>\n",
       "      <th></th>\n",
       "      <th></th>\n",
       "      <th></th>\n",
       "      <th></th>\n",
       "      <th></th>\n",
       "      <th></th>\n",
       "    </tr>\n",
       "  </thead>\n",
       "  <tbody>\n",
       "    <tr>\n",
       "      <th>SK</th>\n",
       "      <td>1.0</td>\n",
       "      <td>77</td>\n",
       "      <td>51</td>\n",
       "      <td>1</td>\n",
       "      <td>25</td>\n",
       "      <td>0.671</td>\n",
       "      <td>0.606</td>\n",
       "      <td>4.70</td>\n",
       "      <td>362</td>\n",
       "      <td>69</td>\n",
       "      <td>56</td>\n",
       "      <td>8.5</td>\n",
       "      <td>17.7</td>\n",
       "      <td>0.303</td>\n",
       "      <td>0.263</td>\n",
       "      <td>0.337</td>\n",
       "      <td>0.387</td>\n",
       "      <td>0.724</td>\n",
       "      <td>0.329</td>\n",
       "      <td>8.69</td>\n",
       "    </tr>\n",
       "    <tr>\n",
       "      <th>두산</th>\n",
       "      <td>2.0</td>\n",
       "      <td>78</td>\n",
       "      <td>48</td>\n",
       "      <td>0</td>\n",
       "      <td>30</td>\n",
       "      <td>0.615</td>\n",
       "      <td>0.625</td>\n",
       "      <td>5.03</td>\n",
       "      <td>392</td>\n",
       "      <td>47</td>\n",
       "      <td>52</td>\n",
       "      <td>11.3</td>\n",
       "      <td>15.5</td>\n",
       "      <td>0.313</td>\n",
       "      <td>0.273</td>\n",
       "      <td>0.361</td>\n",
       "      <td>0.390</td>\n",
       "      <td>0.751</td>\n",
       "      <td>0.346</td>\n",
       "      <td>14.22</td>\n",
       "    </tr>\n",
       "    <tr>\n",
       "      <th>LG</th>\n",
       "      <td>3.0</td>\n",
       "      <td>76</td>\n",
       "      <td>43</td>\n",
       "      <td>1</td>\n",
       "      <td>32</td>\n",
       "      <td>0.573</td>\n",
       "      <td>0.522</td>\n",
       "      <td>4.25</td>\n",
       "      <td>323</td>\n",
       "      <td>48</td>\n",
       "      <td>55</td>\n",
       "      <td>8.1</td>\n",
       "      <td>17.0</td>\n",
       "      <td>0.303</td>\n",
       "      <td>0.260</td>\n",
       "      <td>0.329</td>\n",
       "      <td>0.368</td>\n",
       "      <td>0.697</td>\n",
       "      <td>0.318</td>\n",
       "      <td>5.22</td>\n",
       "    </tr>\n",
       "  </tbody>\n",
       "</table>\n",
       "</div>"
      ],
      "text/plain": [
       "      #  경기   승  무   패     승률   기대승률   R/G   득점  홈런  도루   볼넷%   삼진%  BABIP  \\\n",
       "팀명                                                                           \n",
       "SK  1.0  77  51  1  25  0.671  0.606  4.70  362  69  56   8.5  17.7  0.303   \n",
       "두산  2.0  78  48  0  30  0.615  0.625  5.03  392  47  52  11.3  15.5  0.313   \n",
       "LG  3.0  76  43  1  32  0.573  0.522  4.25  323  48  55   8.1  17.0  0.303   \n",
       "\n",
       "       타율    출루율    장타율    OPS   wOBA    WAR  \n",
       "팀명                                            \n",
       "SK  0.263  0.337  0.387  0.724  0.329   8.69  \n",
       "두산  0.273  0.361  0.390  0.751  0.346  14.22  \n",
       "LG  0.260  0.329  0.368  0.697  0.318   5.22  "
      ]
     },
     "execution_count": 96,
     "metadata": {},
     "output_type": "execute_result"
    }
   ],
   "source": [
    "data.head(3)"
   ]
  },
  {
   "cell_type": "markdown",
   "metadata": {},
   "source": [
    "올해 야구 경기별 평균 점수를 구하세요\n",
    "평균(득점/경기수)"
   ]
  },
  {
   "cell_type": "code",
   "execution_count": 158,
   "metadata": {},
   "outputs": [
    {
     "data": {
      "text/plain": [
       "4.657478475333239"
      ]
     },
     "execution_count": 158,
     "metadata": {},
     "output_type": "execute_result"
    }
   ],
   "source": [
    "np.mean(data.득점/data.경기)"
   ]
  },
  {
   "cell_type": "code",
   "execution_count": 109,
   "metadata": {},
   "outputs": [
    {
     "data": {
      "image/png": "[encoded data removed]",
      "text/plain": [
       "<Figure size 432x288 with 1 Axes>"
      ]
     },
     "metadata": {
      "needs_background": "light"
     },
     "output_type": "display_data"
    }
   ],
   "source": [
    "p = plt.title(\"경기당 득점 분포\")\n",
    "p = plt.hist(data.득점/data.경기, bins=10)"
   ]
  },
  {
   "cell_type": "code",
   "execution_count": 103,
   "metadata": {},
   "outputs": [
    {
     "data": {
      "image/png": "[encoded data removed]",
      "text/plain": [
       "<Figure size 432x288 with 1 Axes>"
      ]
     },
     "metadata": {},
     "output_type": "display_data"
    }
   ],
   "source": [
    "plt.title(\"홈런 비율\")\n",
    "p = plt.pie(data.홈런, labels=data.index, autopct='%.1f')"
   ]
  },
  {
   "cell_type": "code",
   "execution_count": 57,
   "metadata": {},
   "outputs": [],
   "source": [
    "#warning 떠서 API 로 대체합니다\n",
    "#data['승률'] = data['승률'].astype('float') # 타입 변경 후 write\n",
    "#data['기대승률'] = data['기대승률'].astype('float')\n",
    "data.loc[:,'승률'] = data['승률'].astype('float') # 타입 변경 후 write\n",
    "data.loc[:,'기대승률'] = data['기대승률'].astype('float') # 타입 변경 후 write"
   ]
  },
  {
   "cell_type": "markdown",
   "metadata": {},
   "source": [
    "- 승률를 bar 그래프로 표현하기\n",
    "- 승률과 홈런의 관계는?\n",
    "- 팀별 득점 점수\n",
    "- 승률과 실점\n",
    "- 나의 홈팀과 가장 유사한 성격의 팀을 찾아라"
   ]
  },
  {
   "cell_type": "code",
   "execution_count": 95,
   "metadata": {},
   "outputs": [
    {
     "data": {
      "text/plain": [
       "<matplotlib.legend.Legend at 0x227e33972b0>"
      ]
     },
     "execution_count": 95,
     "metadata": {},
     "output_type": "execute_result"
    },
    {
     "data": {
      "image/png": "[encoded data removed]",
      "text/plain": [
       "<Figure size 432x288 with 1 Axes>"
      ]
     },
     "metadata": {
      "needs_background": "light"
     },
     "output_type": "display_data"
    }
   ],
   "source": [
    "# % 승률, 기대승률,  타율, 출루율, 장타율 \n",
    "col = ['승률', '기대승률','타율', '출루율', '장타율']\n",
    "for c in col:\n",
    "    plt.plot(data.index, data[c], label=c)#\n",
    "plt.plot(data.index, data['볼넷%']/ data['볼넷%'].max() , label='볼넷')\n",
    "plt.plot(data.index, data['삼진%']/ data['삼진%'].max() , label='삼진')\n",
    "plt.legend()"
   ]
  },
  {
   "cell_type": "code",
   "execution_count": 86,
   "metadata": {},
   "outputs": [
    {
     "data": {
      "text/plain": [
       "<BarContainer object of 10 artists>"
      ]
     },
     "execution_count": 86,
     "metadata": {},
     "output_type": "execute_result"
    },
    {
     "data": {
      "image/png": "[encoded data removed]",
      "text/plain": [
       "<Figure size 432x288 with 1 Axes>"
      ]
     },
     "metadata": {
      "needs_background": "light"
     },
     "output_type": "display_data"
    }
   ],
   "source": [
    "plt.plot(data.index, data['득점'])\n",
    "plt.scatter(data.index, data['득점'])\n",
    "plt.bar(data.index, data['득점'])"
   ]
  },
  {
   "cell_type": "code",
   "execution_count": 82,
   "metadata": {},
   "outputs": [
    {
     "data": {
      "text/plain": [
       "<matplotlib.legend.Legend at 0x227e2e037b8>"
      ]
     },
     "execution_count": 82,
     "metadata": {},
     "output_type": "execute_result"
    },
    {
     "data": {
      "image/png": "[encoded data removed]",
      "text/plain": [
       "<Figure size 432x288 with 1 Axes>"
      ]
     },
     "metadata": {
      "needs_background": "light"
     },
     "output_type": "display_data"
    }
   ],
   "source": [
    "plt.rc('font', family='Malgun Gothic')\n",
    "plt.barh(data.index, data['홈런']/data['홈런'].max(), label='홈런')\n",
    "plt.barh(data.index, -data['승률']/data['승률'].max(),alpha=0.5, label='승률') # bar(X, Y)\n",
    "plt.legend()"
   ]
  },
  {
   "cell_type": "code",
   "execution_count": 110,
   "metadata": {
    "scrolled": false
   },
   "outputs": [
    {
     "name": "stdout",
     "output_type": "stream",
     "text": [
      "홈팀을 말하세요KT\n"
     ]
    },
    {
     "data": {
      "text/plain": [
       "'KT'"
      ]
     },
     "execution_count": 110,
     "metadata": {},
     "output_type": "execute_result"
    }
   ],
   "source": [
    "name = input(\"홈팀을 말하세요 \")\n",
    "name"
   ]
  },
  {
   "cell_type": "code",
   "execution_count": 119,
   "metadata": {},
   "outputs": [
    {
     "data": {
      "text/html": [
       "<div>\n",
       "<style scoped>\n",
       "    .dataframe tbody tr th:only-of-type {\n",
       "        vertical-align: middle;\n",
       "    }\n",
       "\n",
       "    .dataframe tbody tr th {\n",
       "        vertical-align: top;\n",
       "    }\n",
       "\n",
       "    .dataframe thead th {\n",
       "        text-align: right;\n",
       "    }\n",
       "</style>\n",
       "<table border=\"1\" class=\"dataframe\">\n",
       "  <thead>\n",
       "    <tr style=\"text-align: right;\">\n",
       "      <th></th>\n",
       "      <th>#</th>\n",
       "      <th>경기</th>\n",
       "      <th>승</th>\n",
       "      <th>무</th>\n",
       "      <th>패</th>\n",
       "      <th>승률</th>\n",
       "      <th>기대승률</th>\n",
       "      <th>R/G</th>\n",
       "      <th>득점</th>\n",
       "      <th>홈런</th>\n",
       "      <th>도루</th>\n",
       "      <th>볼넷%</th>\n",
       "      <th>삼진%</th>\n",
       "      <th>BABIP</th>\n",
       "      <th>타율</th>\n",
       "      <th>출루율</th>\n",
       "      <th>장타율</th>\n",
       "      <th>OPS</th>\n",
       "      <th>wOBA</th>\n",
       "      <th>WAR</th>\n",
       "    </tr>\n",
       "    <tr>\n",
       "      <th>팀명</th>\n",
       "      <th></th>\n",
       "      <th></th>\n",
       "      <th></th>\n",
       "      <th></th>\n",
       "      <th></th>\n",
       "      <th></th>\n",
       "      <th></th>\n",
       "      <th></th>\n",
       "      <th></th>\n",
       "      <th></th>\n",
       "      <th></th>\n",
       "      <th></th>\n",
       "      <th></th>\n",
       "      <th></th>\n",
       "      <th></th>\n",
       "      <th></th>\n",
       "      <th></th>\n",
       "      <th></th>\n",
       "      <th></th>\n",
       "      <th></th>\n",
       "    </tr>\n",
       "  </thead>\n",
       "  <tbody>\n",
       "    <tr>\n",
       "      <th>SK</th>\n",
       "      <td>0.1</td>\n",
       "      <td>0.974684</td>\n",
       "      <td>1.000000</td>\n",
       "      <td>1.0</td>\n",
       "      <td>0.543478</td>\n",
       "      <td>1.000000</td>\n",
       "      <td>0.9696</td>\n",
       "      <td>0.880150</td>\n",
       "      <td>0.857820</td>\n",
       "      <td>0.971831</td>\n",
       "      <td>0.835821</td>\n",
       "      <td>0.752212</td>\n",
       "      <td>0.834906</td>\n",
       "      <td>0.929448</td>\n",
       "      <td>0.939286</td>\n",
       "      <td>0.933518</td>\n",
       "      <td>0.923628</td>\n",
       "      <td>0.950131</td>\n",
       "      <td>0.950867</td>\n",
       "      <td>0.602218</td>\n",
       "    </tr>\n",
       "    <tr>\n",
       "      <th>두산</th>\n",
       "      <td>0.2</td>\n",
       "      <td>0.987342</td>\n",
       "      <td>0.941176</td>\n",
       "      <td>0.0</td>\n",
       "      <td>0.652174</td>\n",
       "      <td>0.916542</td>\n",
       "      <td>1.0000</td>\n",
       "      <td>0.941948</td>\n",
       "      <td>0.928910</td>\n",
       "      <td>0.661972</td>\n",
       "      <td>0.776119</td>\n",
       "      <td>1.000000</td>\n",
       "      <td>0.731132</td>\n",
       "      <td>0.960123</td>\n",
       "      <td>0.975000</td>\n",
       "      <td>1.000000</td>\n",
       "      <td>0.930788</td>\n",
       "      <td>0.985564</td>\n",
       "      <td>1.000000</td>\n",
       "      <td>0.985447</td>\n",
       "    </tr>\n",
       "    <tr>\n",
       "      <th>LG</th>\n",
       "      <td>0.3</td>\n",
       "      <td>0.962025</td>\n",
       "      <td>0.843137</td>\n",
       "      <td>1.0</td>\n",
       "      <td>0.695652</td>\n",
       "      <td>0.853949</td>\n",
       "      <td>0.8352</td>\n",
       "      <td>0.795880</td>\n",
       "      <td>0.765403</td>\n",
       "      <td>0.676056</td>\n",
       "      <td>0.820896</td>\n",
       "      <td>0.716814</td>\n",
       "      <td>0.801887</td>\n",
       "      <td>0.929448</td>\n",
       "      <td>0.928571</td>\n",
       "      <td>0.911357</td>\n",
       "      <td>0.878282</td>\n",
       "      <td>0.914698</td>\n",
       "      <td>0.919075</td>\n",
       "      <td>0.361746</td>\n",
       "    </tr>\n",
       "    <tr>\n",
       "      <th>Hero</th>\n",
       "      <td>0.4</td>\n",
       "      <td>1.000000</td>\n",
       "      <td>0.882353</td>\n",
       "      <td>0.0</td>\n",
       "      <td>0.739130</td>\n",
       "      <td>0.849478</td>\n",
       "      <td>0.9552</td>\n",
       "      <td>1.000000</td>\n",
       "      <td>1.000000</td>\n",
       "      <td>0.830986</td>\n",
       "      <td>0.850746</td>\n",
       "      <td>0.823009</td>\n",
       "      <td>0.811321</td>\n",
       "      <td>1.000000</td>\n",
       "      <td>1.000000</td>\n",
       "      <td>0.977839</td>\n",
       "      <td>0.976134</td>\n",
       "      <td>1.000000</td>\n",
       "      <td>1.000000</td>\n",
       "      <td>1.000000</td>\n",
       "    </tr>\n",
       "    <tr>\n",
       "      <th>NC</th>\n",
       "      <td>0.5</td>\n",
       "      <td>0.962025</td>\n",
       "      <td>0.725490</td>\n",
       "      <td>0.0</td>\n",
       "      <td>0.847826</td>\n",
       "      <td>0.725782</td>\n",
       "      <td>0.7776</td>\n",
       "      <td>0.868914</td>\n",
       "      <td>0.836493</td>\n",
       "      <td>1.000000</td>\n",
       "      <td>0.552239</td>\n",
       "      <td>0.681416</td>\n",
       "      <td>0.797170</td>\n",
       "      <td>0.975460</td>\n",
       "      <td>0.996429</td>\n",
       "      <td>0.950139</td>\n",
       "      <td>1.000000</td>\n",
       "      <td>1.000000</td>\n",
       "      <td>0.988439</td>\n",
       "      <td>0.811504</td>\n",
       "    </tr>\n",
       "  </tbody>\n",
       "</table>\n",
       "</div>"
      ],
      "text/plain": [
       "        #        경기         승    무         패        승률    기대승률       R/G  \\\n",
       "팀명                                                                         \n",
       "SK    0.1  0.974684  1.000000  1.0  0.543478  1.000000  0.9696  0.880150   \n",
       "두산    0.2  0.987342  0.941176  0.0  0.652174  0.916542  1.0000  0.941948   \n",
       "LG    0.3  0.962025  0.843137  1.0  0.695652  0.853949  0.8352  0.795880   \n",
       "Hero  0.4  1.000000  0.882353  0.0  0.739130  0.849478  0.9552  1.000000   \n",
       "NC    0.5  0.962025  0.725490  0.0  0.847826  0.725782  0.7776  0.868914   \n",
       "\n",
       "            득점        홈런        도루       볼넷%       삼진%     BABIP        타율  \\\n",
       "팀명                                                                           \n",
       "SK    0.857820  0.971831  0.835821  0.752212  0.834906  0.929448  0.939286   \n",
       "두산    0.928910  0.661972  0.776119  1.000000  0.731132  0.960123  0.975000   \n",
       "LG    0.765403  0.676056  0.820896  0.716814  0.801887  0.929448  0.928571   \n",
       "Hero  1.000000  0.830986  0.850746  0.823009  0.811321  1.000000  1.000000   \n",
       "NC    0.836493  1.000000  0.552239  0.681416  0.797170  0.975460  0.996429   \n",
       "\n",
       "           출루율       장타율       OPS      wOBA       WAR  \n",
       "팀명                                                      \n",
       "SK    0.933518  0.923628  0.950131  0.950867  0.602218  \n",
       "두산    1.000000  0.930788  0.985564  1.000000  0.985447  \n",
       "LG    0.911357  0.878282  0.914698  0.919075  0.361746  \n",
       "Hero  0.977839  0.976134  1.000000  1.000000  1.000000  \n",
       "NC    0.950139  1.000000  1.000000  0.988439  0.811504  "
      ]
     },
     "execution_count": 119,
     "metadata": {},
     "output_type": "execute_result"
    }
   ],
   "source": [
    "#정규화\n",
    "data_normal = data/data.max()\n",
    "data_normal.head()"
   ]
  },
  {
   "cell_type": "code",
   "execution_count": null,
   "metadata": {},
   "outputs": [],
   "source": [
    "[100, 1 ] \n",
    "#A[110, 8]  오차 10 + 7 = 17\n",
    "#B[120, 2]  오차 20 + 1 = 21"
   ]
  },
  {
   "cell_type": "code",
   "execution_count": 146,
   "metadata": {},
   "outputs": [],
   "source": [
    "home = data_normal.loc[name]\n",
    "#홈팀과 다른팀과의 차이, 차이의 합이 작은 팀들을 찾습니다\n",
    "차이 = np.sum( np.square(data_normal - home), axis=1)"
   ]
  },
  {
   "cell_type": "code",
   "execution_count": 153,
   "metadata": {},
   "outputs": [
    {
     "data": {
      "text/plain": [
       "<matplotlib.axes._subplots.AxesSubplot at 0x227e6284a20>"
      ]
     },
     "execution_count": 153,
     "metadata": {},
     "output_type": "execute_result"
    },
    {
     "data": {
      "image/png": "[encoded data removed]",
      "text/plain": [
       "<Figure size 360x216 with 1 Axes>"
      ]
     },
     "metadata": {
      "needs_background": "light"
     },
     "output_type": "display_data"
    }
   ],
   "source": [
    "i = 차이.sort_values().index[:4]\n",
    "data.loc[i].T.plot(figsize=(5,3))\n",
    "#data.loc[i,['홈런','득점','승']].T.plot(figsize=(5,3))"
   ]
  },
  {
   "cell_type": "code",
   "execution_count": 126,
   "metadata": {},
   "outputs": [
    {
     "data": {
      "text/plain": [
       "<matplotlib.axes._subplots.AxesSubplot at 0x227e4a32c50>"
      ]
     },
     "execution_count": 126,
     "metadata": {},
     "output_type": "execute_result"
    },
    {
     "data": {
      "image/png": "[encoded data removed]",
      "text/plain": [
       "<Figure size 432x288 with 1 Axes>"
      ]
     },
     "metadata": {
      "needs_background": "light"
     },
     "output_type": "display_data"
    }
   ],
   "source": [
    "home.plot()"
   ]
  },
  {
   "cell_type": "code",
   "execution_count": null,
   "metadata": {},
   "outputs": [],
   "source": []
  }
 ],
 "metadata": {
  "kernelspec": {
   "display_name": "Python 3",
   "language": "python",
   "name": "python3"
  },
  "language_info": {
   "codemirror_mode": {
    "name": "ipython",
    "version": 3
   },
   "file_extension": ".py",
   "mimetype": "text/x-python",
   "name": "python",
   "nbconvert_exporter": "python",
   "pygments_lexer": "ipython3",
   "version": "3.7.3"
  }
 },
 "nbformat": 4,
 "nbformat_minor": 2
}
