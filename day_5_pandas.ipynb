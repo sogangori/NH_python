{
 "cells": [
  {
   "cell_type": "markdown",
   "metadata": {},
   "source": [
    "유닛 15. pandas"
   ]
  },
  {
   "cell_type": "code",
   "execution_count": 1,
   "metadata": {},
   "outputs": [],
   "source": [
    "import pandas as pd"
   ]
  },
  {
   "cell_type": "code",
   "execution_count": 126,
   "metadata": {},
   "outputs": [],
   "source": [
    "pic = 'https://en.wikipedia.org/wiki/All-time_Olympic_Games_medal_table'\n",
    "cup = 'https://en.wikipedia.org/wiki/All-time_table_of_the_FIFA_World_Cup'\n",
    "other = 'https://ko.wikipedia.org/wiki/%EC%95%BC%EB%A7%88%EA%B0%80%ED%83%80%ED%98%84_%ED%95%B4%EC%97%AD_%EC%A7%80%EC%A7%84'\n",
    "df = pd.read_html(pic,header=0, index_col=0)"
   ]
  },
  {
   "cell_type": "code",
   "execution_count": 127,
   "metadata": {},
   "outputs": [
    {
     "data": {
      "text/plain": [
       "16"
      ]
     },
     "execution_count": 127,
     "metadata": {},
     "output_type": "execute_result"
    }
   ],
   "source": [
    "len(df) # 리스트 안에 요소 16개 "
   ]
  },
  {
   "cell_type": "code",
   "execution_count": 128,
   "metadata": {},
   "outputs": [],
   "source": [
    "data = df[1]"
   ]
  },
  {
   "cell_type": "code",
   "execution_count": 129,
   "metadata": {},
   "outputs": [
    {
     "data": {
      "text/plain": [
       "pandas.core.frame.DataFrame"
      ]
     },
     "execution_count": 129,
     "metadata": {},
     "output_type": "execute_result"
    }
   ],
   "source": [
    "type(data)#타입 : 데이터 프레임(컬럼,인덱스,밸류)"
   ]
  },
  {
   "cell_type": "code",
   "execution_count": 130,
   "metadata": {},
   "outputs": [
    {
     "data": {
      "text/plain": [
       "Index(['Summer Games', 'Summer Games.1', 'Summer Games.2', 'Summer Games.3',\n",
       "       'Summer Games.4', 'Winter Games', 'Winter Games.1', 'Winter Games.2',\n",
       "       'Winter Games.3', 'Winter Games.4', 'Combined Total',\n",
       "       'Combined Total.1', 'Combined Total.2', 'Combined Total.3',\n",
       "       'Combined Total.4'],\n",
       "      dtype='object')"
      ]
     },
     "execution_count": 130,
     "metadata": {},
     "output_type": "execute_result"
    }
   ],
   "source": [
    "data.columns # 컬럼 이름들"
   ]
  },
  {
   "cell_type": "code",
   "execution_count": 131,
   "metadata": {},
   "outputs": [
    {
     "data": {
      "text/plain": [
       "Index(['Team (IOC code)', 'Afghanistan (AFG)', 'Algeria (ALG)',\n",
       "       'Argentina (ARG)', 'Armenia (ARM)', 'Australasia (ANZ) [ANZ]',\n",
       "       'Australia (AUS) [AUS] [Z]', 'Austria (AUT)', 'Azerbaijan (AZE)',\n",
       "       'Bahamas (BAH)',\n",
       "       ...\n",
       "       'Virgin Islands (ISV)', 'Yugoslavia (YUG) [YUG]', 'Zambia (ZAM) [ZAM]',\n",
       "       'Zimbabwe (ZIM) [ZIM]', 'Unified Team (EUN) [EUN]',\n",
       "       'Independent Olympic Athletes (IOA) [IOA]',\n",
       "       'Independent Olympic Participants (IOP) [IOP]',\n",
       "       'Olympic Athletes from Russia (OAR) [OAR]', 'Mixed team (ZZX) [ZZX]',\n",
       "       'Totals'],\n",
       "      dtype='object', length=154)"
      ]
     },
     "execution_count": 131,
     "metadata": {},
     "output_type": "execute_result"
    }
   ],
   "source": [
    "data.index # 가장 좌측의 데이터"
   ]
  },
  {
   "cell_type": "code",
   "execution_count": 132,
   "metadata": {},
   "outputs": [
    {
     "data": {
      "text/plain": [
       "array([['№', nan, nan, ..., nan, nan, 'Total'],\n",
       "       ['14', 0.0, 0.0, ..., 0.0, 2.0, '2'],\n",
       "       ['13', 5.0, 4.0, ..., 4.0, 8.0, '17'],\n",
       "       ...,\n",
       "       ['0', 0.0, 0.0, ..., 6.0, 9.0, '17'],\n",
       "       ['3', 8.0, 5.0, ..., 5.0, 4.0, '17'],\n",
       "       ['28', 5115.0, 5081.0, ..., 6139.0, 6537.0, '18853']], dtype=object)"
      ]
     },
     "execution_count": 132,
     "metadata": {},
     "output_type": "execute_result"
    }
   ],
   "source": [
    "data.values # 데이터의 값들"
   ]
  },
  {
   "cell_type": "code",
   "execution_count": 133,
   "metadata": {},
   "outputs": [
    {
     "data": {
      "text/html": [
       "<div>\n",
       "<style scoped>\n",
       "    .dataframe tbody tr th:only-of-type {\n",
       "        vertical-align: middle;\n",
       "    }\n",
       "\n",
       "    .dataframe tbody tr th {\n",
       "        vertical-align: top;\n",
       "    }\n",
       "\n",
       "    .dataframe thead th {\n",
       "        text-align: right;\n",
       "    }\n",
       "</style>\n",
       "<table border=\"1\" class=\"dataframe\">\n",
       "  <thead>\n",
       "    <tr style=\"text-align: right;\">\n",
       "      <th></th>\n",
       "      <th>Summer Games</th>\n",
       "      <th>Summer Games.1</th>\n",
       "      <th>Summer Games.2</th>\n",
       "      <th>Summer Games.3</th>\n",
       "      <th>Summer Games.4</th>\n",
       "      <th>Winter Games</th>\n",
       "      <th>Winter Games.1</th>\n",
       "      <th>Winter Games.2</th>\n",
       "      <th>Winter Games.3</th>\n",
       "      <th>Winter Games.4</th>\n",
       "      <th>Combined Total</th>\n",
       "      <th>Combined Total.1</th>\n",
       "      <th>Combined Total.2</th>\n",
       "      <th>Combined Total.3</th>\n",
       "      <th>Combined Total.4</th>\n",
       "    </tr>\n",
       "  </thead>\n",
       "  <tbody>\n",
       "    <tr>\n",
       "      <th>Team (IOC code)</th>\n",
       "      <td>№</td>\n",
       "      <td>NaN</td>\n",
       "      <td>NaN</td>\n",
       "      <td>NaN</td>\n",
       "      <td>Total</td>\n",
       "      <td>№</td>\n",
       "      <td>NaN</td>\n",
       "      <td>NaN</td>\n",
       "      <td>NaN</td>\n",
       "      <td>Total</td>\n",
       "      <td>№</td>\n",
       "      <td>NaN</td>\n",
       "      <td>NaN</td>\n",
       "      <td>NaN</td>\n",
       "      <td>Total</td>\n",
       "    </tr>\n",
       "    <tr>\n",
       "      <th>Afghanistan (AFG)</th>\n",
       "      <td>14</td>\n",
       "      <td>0.0</td>\n",
       "      <td>0.0</td>\n",
       "      <td>2.0</td>\n",
       "      <td>2</td>\n",
       "      <td>0</td>\n",
       "      <td>0.0</td>\n",
       "      <td>0.0</td>\n",
       "      <td>0.0</td>\n",
       "      <td>0</td>\n",
       "      <td>14</td>\n",
       "      <td>0.0</td>\n",
       "      <td>0.0</td>\n",
       "      <td>2.0</td>\n",
       "      <td>2</td>\n",
       "    </tr>\n",
       "    <tr>\n",
       "      <th>Algeria (ALG)</th>\n",
       "      <td>13</td>\n",
       "      <td>5.0</td>\n",
       "      <td>4.0</td>\n",
       "      <td>8.0</td>\n",
       "      <td>17</td>\n",
       "      <td>3</td>\n",
       "      <td>0.0</td>\n",
       "      <td>0.0</td>\n",
       "      <td>0.0</td>\n",
       "      <td>0</td>\n",
       "      <td>16</td>\n",
       "      <td>5.0</td>\n",
       "      <td>4.0</td>\n",
       "      <td>8.0</td>\n",
       "      <td>17</td>\n",
       "    </tr>\n",
       "    <tr>\n",
       "      <th>Argentina (ARG)</th>\n",
       "      <td>24</td>\n",
       "      <td>21.0</td>\n",
       "      <td>25.0</td>\n",
       "      <td>28.0</td>\n",
       "      <td>74</td>\n",
       "      <td>19</td>\n",
       "      <td>0.0</td>\n",
       "      <td>0.0</td>\n",
       "      <td>0.0</td>\n",
       "      <td>0</td>\n",
       "      <td>43</td>\n",
       "      <td>21.0</td>\n",
       "      <td>25.0</td>\n",
       "      <td>28.0</td>\n",
       "      <td>74</td>\n",
       "    </tr>\n",
       "    <tr>\n",
       "      <th>Armenia (ARM)</th>\n",
       "      <td>6</td>\n",
       "      <td>2.0</td>\n",
       "      <td>6.0</td>\n",
       "      <td>6.0</td>\n",
       "      <td>14</td>\n",
       "      <td>7</td>\n",
       "      <td>0.0</td>\n",
       "      <td>0.0</td>\n",
       "      <td>0.0</td>\n",
       "      <td>0</td>\n",
       "      <td>13</td>\n",
       "      <td>2.0</td>\n",
       "      <td>6.0</td>\n",
       "      <td>6.0</td>\n",
       "      <td>14</td>\n",
       "    </tr>\n",
       "  </tbody>\n",
       "</table>\n",
       "</div>"
      ],
      "text/plain": [
       "                  Summer Games  Summer Games.1  Summer Games.2  \\\n",
       "Team (IOC code)              №             NaN             NaN   \n",
       "Afghanistan (AFG)           14             0.0             0.0   \n",
       "Algeria (ALG)               13             5.0             4.0   \n",
       "Argentina (ARG)             24            21.0            25.0   \n",
       "Armenia (ARM)                6             2.0             6.0   \n",
       "\n",
       "                   Summer Games.3 Summer Games.4 Winter Games  Winter Games.1  \\\n",
       "Team (IOC code)               NaN          Total            №             NaN   \n",
       "Afghanistan (AFG)             2.0              2            0             0.0   \n",
       "Algeria (ALG)                 8.0             17            3             0.0   \n",
       "Argentina (ARG)              28.0             74           19             0.0   \n",
       "Armenia (ARM)                 6.0             14            7             0.0   \n",
       "\n",
       "                   Winter Games.2  Winter Games.3 Winter Games.4  \\\n",
       "Team (IOC code)               NaN             NaN          Total   \n",
       "Afghanistan (AFG)             0.0             0.0              0   \n",
       "Algeria (ALG)                 0.0             0.0              0   \n",
       "Argentina (ARG)               0.0             0.0              0   \n",
       "Armenia (ARM)                 0.0             0.0              0   \n",
       "\n",
       "                  Combined Total  Combined Total.1  Combined Total.2  \\\n",
       "Team (IOC code)                №               NaN               NaN   \n",
       "Afghanistan (AFG)             14               0.0               0.0   \n",
       "Algeria (ALG)                 16               5.0               4.0   \n",
       "Argentina (ARG)               43              21.0              25.0   \n",
       "Armenia (ARM)                 13               2.0               6.0   \n",
       "\n",
       "                   Combined Total.3 Combined Total.4  \n",
       "Team (IOC code)                 NaN            Total  \n",
       "Afghanistan (AFG)               2.0                2  \n",
       "Algeria (ALG)                   8.0               17  \n",
       "Argentina (ARG)                28.0               74  \n",
       "Armenia (ARM)                   6.0               14  "
      ]
     },
     "execution_count": 133,
     "metadata": {},
     "output_type": "execute_result"
    }
   ],
   "source": [
    "data.head()"
   ]
  },
  {
   "cell_type": "code",
   "execution_count": 134,
   "metadata": {},
   "outputs": [
    {
     "data": {
      "text/plain": [
       "(154, 15)"
      ]
     },
     "execution_count": 134,
     "metadata": {},
     "output_type": "execute_result"
    }
   ],
   "source": [
    "data.shape"
   ]
  },
  {
   "cell_type": "code",
   "execution_count": 135,
   "metadata": {},
   "outputs": [
    {
     "name": "stdout",
     "output_type": "stream",
     "text": [
      "<class 'pandas.core.frame.DataFrame'>\n",
      "Index: 154 entries, Team (IOC code) to Totals\n",
      "Data columns (total 15 columns):\n",
      "Summer Games        154 non-null object\n",
      "Summer Games.1      153 non-null float64\n",
      "Summer Games.2      153 non-null float64\n",
      "Summer Games.3      153 non-null float64\n",
      "Summer Games.4      154 non-null object\n",
      "Winter Games        154 non-null object\n",
      "Winter Games.1      153 non-null float64\n",
      "Winter Games.2      153 non-null float64\n",
      "Winter Games.3      153 non-null float64\n",
      "Winter Games.4      154 non-null object\n",
      "Combined Total      154 non-null object\n",
      "Combined Total.1    153 non-null float64\n",
      "Combined Total.2    153 non-null float64\n",
      "Combined Total.3    153 non-null float64\n",
      "Combined Total.4    154 non-null object\n",
      "dtypes: float64(9), object(6)\n",
      "memory usage: 19.2+ KB\n"
     ]
    }
   ],
   "source": [
    "data.info()"
   ]
  },
  {
   "cell_type": "code",
   "execution_count": 136,
   "metadata": {},
   "outputs": [
    {
     "data": {
      "text/html": [
       "<div>\n",
       "<style scoped>\n",
       "    .dataframe tbody tr th:only-of-type {\n",
       "        vertical-align: middle;\n",
       "    }\n",
       "\n",
       "    .dataframe tbody tr th {\n",
       "        vertical-align: top;\n",
       "    }\n",
       "\n",
       "    .dataframe thead th {\n",
       "        text-align: right;\n",
       "    }\n",
       "</style>\n",
       "<table border=\"1\" class=\"dataframe\">\n",
       "  <thead>\n",
       "    <tr style=\"text-align: right;\">\n",
       "      <th></th>\n",
       "      <th>Summer Games.1</th>\n",
       "      <th>Summer Games.2</th>\n",
       "      <th>Summer Games.3</th>\n",
       "      <th>Winter Games.1</th>\n",
       "      <th>Winter Games.2</th>\n",
       "      <th>Winter Games.3</th>\n",
       "      <th>Combined Total.1</th>\n",
       "      <th>Combined Total.2</th>\n",
       "      <th>Combined Total.3</th>\n",
       "    </tr>\n",
       "  </thead>\n",
       "  <tbody>\n",
       "    <tr>\n",
       "      <th>count</th>\n",
       "      <td>153.000000</td>\n",
       "      <td>153.000000</td>\n",
       "      <td>153.000000</td>\n",
       "      <td>153.000000</td>\n",
       "      <td>153.000000</td>\n",
       "      <td>153.000000</td>\n",
       "      <td>153.000000</td>\n",
       "      <td>153.000000</td>\n",
       "      <td>153.000000</td>\n",
       "    </tr>\n",
       "    <tr>\n",
       "      <th>mean</th>\n",
       "      <td>66.862745</td>\n",
       "      <td>66.418301</td>\n",
       "      <td>71.725490</td>\n",
       "      <td>13.882353</td>\n",
       "      <td>13.830065</td>\n",
       "      <td>13.725490</td>\n",
       "      <td>80.745098</td>\n",
       "      <td>80.248366</td>\n",
       "      <td>85.450980</td>\n",
       "    </tr>\n",
       "    <tr>\n",
       "      <th>std</th>\n",
       "      <td>422.599849</td>\n",
       "      <td>416.404023</td>\n",
       "      <td>447.853436</td>\n",
       "      <td>87.722270</td>\n",
       "      <td>87.279179</td>\n",
       "      <td>86.350893</td>\n",
       "      <td>508.851901</td>\n",
       "      <td>502.521776</td>\n",
       "      <td>533.219133</td>\n",
       "    </tr>\n",
       "    <tr>\n",
       "      <th>min</th>\n",
       "      <td>0.000000</td>\n",
       "      <td>0.000000</td>\n",
       "      <td>0.000000</td>\n",
       "      <td>0.000000</td>\n",
       "      <td>0.000000</td>\n",
       "      <td>0.000000</td>\n",
       "      <td>0.000000</td>\n",
       "      <td>0.000000</td>\n",
       "      <td>0.000000</td>\n",
       "    </tr>\n",
       "    <tr>\n",
       "      <th>25%</th>\n",
       "      <td>0.000000</td>\n",
       "      <td>1.000000</td>\n",
       "      <td>1.000000</td>\n",
       "      <td>0.000000</td>\n",
       "      <td>0.000000</td>\n",
       "      <td>0.000000</td>\n",
       "      <td>0.000000</td>\n",
       "      <td>1.000000</td>\n",
       "      <td>1.000000</td>\n",
       "    </tr>\n",
       "    <tr>\n",
       "      <th>50%</th>\n",
       "      <td>3.000000</td>\n",
       "      <td>4.000000</td>\n",
       "      <td>6.000000</td>\n",
       "      <td>0.000000</td>\n",
       "      <td>0.000000</td>\n",
       "      <td>0.000000</td>\n",
       "      <td>3.000000</td>\n",
       "      <td>4.000000</td>\n",
       "      <td>6.000000</td>\n",
       "    </tr>\n",
       "    <tr>\n",
       "      <th>75%</th>\n",
       "      <td>26.000000</td>\n",
       "      <td>30.000000</td>\n",
       "      <td>31.000000</td>\n",
       "      <td>1.000000</td>\n",
       "      <td>2.000000</td>\n",
       "      <td>1.000000</td>\n",
       "      <td>28.000000</td>\n",
       "      <td>31.000000</td>\n",
       "      <td>34.000000</td>\n",
       "    </tr>\n",
       "    <tr>\n",
       "      <th>max</th>\n",
       "      <td>5115.000000</td>\n",
       "      <td>5081.000000</td>\n",
       "      <td>5487.000000</td>\n",
       "      <td>1062.000000</td>\n",
       "      <td>1058.000000</td>\n",
       "      <td>1050.000000</td>\n",
       "      <td>6177.000000</td>\n",
       "      <td>6139.000000</td>\n",
       "      <td>6537.000000</td>\n",
       "    </tr>\n",
       "  </tbody>\n",
       "</table>\n",
       "</div>"
      ],
      "text/plain": [
       "       Summer Games.1  Summer Games.2  Summer Games.3  Winter Games.1  \\\n",
       "count      153.000000      153.000000      153.000000      153.000000   \n",
       "mean        66.862745       66.418301       71.725490       13.882353   \n",
       "std        422.599849      416.404023      447.853436       87.722270   \n",
       "min          0.000000        0.000000        0.000000        0.000000   \n",
       "25%          0.000000        1.000000        1.000000        0.000000   \n",
       "50%          3.000000        4.000000        6.000000        0.000000   \n",
       "75%         26.000000       30.000000       31.000000        1.000000   \n",
       "max       5115.000000     5081.000000     5487.000000     1062.000000   \n",
       "\n",
       "       Winter Games.2  Winter Games.3  Combined Total.1  Combined Total.2  \\\n",
       "count      153.000000      153.000000        153.000000        153.000000   \n",
       "mean        13.830065       13.725490         80.745098         80.248366   \n",
       "std         87.279179       86.350893        508.851901        502.521776   \n",
       "min          0.000000        0.000000          0.000000          0.000000   \n",
       "25%          0.000000        0.000000          0.000000          1.000000   \n",
       "50%          0.000000        0.000000          3.000000          4.000000   \n",
       "75%          2.000000        1.000000         28.000000         31.000000   \n",
       "max       1058.000000     1050.000000       6177.000000       6139.000000   \n",
       "\n",
       "       Combined Total.3  \n",
       "count        153.000000  \n",
       "mean          85.450980  \n",
       "std          533.219133  \n",
       "min            0.000000  \n",
       "25%            1.000000  \n",
       "50%            6.000000  \n",
       "75%           34.000000  \n",
       "max         6537.000000  "
      ]
     },
     "execution_count": 136,
     "metadata": {},
     "output_type": "execute_result"
    }
   ],
   "source": [
    "data.describe() #기술하다, 통계치 구하기(수치 데이터 컬럼만)"
   ]
  },
  {
   "cell_type": "code",
   "execution_count": 137,
   "metadata": {},
   "outputs": [
    {
     "data": {
      "text/html": [
       "<div>\n",
       "<style scoped>\n",
       "    .dataframe tbody tr th:only-of-type {\n",
       "        vertical-align: middle;\n",
       "    }\n",
       "\n",
       "    .dataframe tbody tr th {\n",
       "        vertical-align: top;\n",
       "    }\n",
       "\n",
       "    .dataframe thead th {\n",
       "        text-align: right;\n",
       "    }\n",
       "</style>\n",
       "<table border=\"1\" class=\"dataframe\">\n",
       "  <thead>\n",
       "    <tr style=\"text-align: right;\">\n",
       "      <th></th>\n",
       "      <th>Summer Games</th>\n",
       "      <th>Summer Games.1</th>\n",
       "      <th>Summer Games.2</th>\n",
       "      <th>Summer Games.3</th>\n",
       "      <th>Summer Games.4</th>\n",
       "      <th>Winter Games</th>\n",
       "      <th>Winter Games.1</th>\n",
       "      <th>Winter Games.2</th>\n",
       "      <th>Winter Games.3</th>\n",
       "      <th>Winter Games.4</th>\n",
       "      <th>Combined Total</th>\n",
       "      <th>Combined Total.1</th>\n",
       "      <th>Combined Total.2</th>\n",
       "      <th>Combined Total.3</th>\n",
       "      <th>Combined Total.4</th>\n",
       "    </tr>\n",
       "  </thead>\n",
       "  <tbody>\n",
       "    <tr>\n",
       "      <th>Olympic Athletes from Russia (OAR) [OAR]</th>\n",
       "      <td>0</td>\n",
       "      <td>0.0</td>\n",
       "      <td>0.0</td>\n",
       "      <td>0.0</td>\n",
       "      <td>0</td>\n",
       "      <td>1</td>\n",
       "      <td>2.0</td>\n",
       "      <td>6.0</td>\n",
       "      <td>9.0</td>\n",
       "      <td>17</td>\n",
       "      <td>1</td>\n",
       "      <td>2.0</td>\n",
       "      <td>6.0</td>\n",
       "      <td>9.0</td>\n",
       "      <td>17</td>\n",
       "    </tr>\n",
       "    <tr>\n",
       "      <th>Mixed team (ZZX) [ZZX]</th>\n",
       "      <td>3</td>\n",
       "      <td>8.0</td>\n",
       "      <td>5.0</td>\n",
       "      <td>4.0</td>\n",
       "      <td>17</td>\n",
       "      <td>0</td>\n",
       "      <td>0.0</td>\n",
       "      <td>0.0</td>\n",
       "      <td>0.0</td>\n",
       "      <td>0</td>\n",
       "      <td>3</td>\n",
       "      <td>8.0</td>\n",
       "      <td>5.0</td>\n",
       "      <td>4.0</td>\n",
       "      <td>17</td>\n",
       "    </tr>\n",
       "    <tr>\n",
       "      <th>Totals</th>\n",
       "      <td>28</td>\n",
       "      <td>5115.0</td>\n",
       "      <td>5081.0</td>\n",
       "      <td>5487.0</td>\n",
       "      <td>15683</td>\n",
       "      <td>23</td>\n",
       "      <td>1062.0</td>\n",
       "      <td>1058.0</td>\n",
       "      <td>1050.0</td>\n",
       "      <td>3170</td>\n",
       "      <td>51</td>\n",
       "      <td>6177.0</td>\n",
       "      <td>6139.0</td>\n",
       "      <td>6537.0</td>\n",
       "      <td>18853</td>\n",
       "    </tr>\n",
       "  </tbody>\n",
       "</table>\n",
       "</div>"
      ],
      "text/plain": [
       "                                         Summer Games  Summer Games.1  \\\n",
       "Olympic Athletes from Russia (OAR) [OAR]            0             0.0   \n",
       "Mixed team (ZZX) [ZZX]                              3             8.0   \n",
       "Totals                                             28          5115.0   \n",
       "\n",
       "                                          Summer Games.2  Summer Games.3  \\\n",
       "Olympic Athletes from Russia (OAR) [OAR]             0.0             0.0   \n",
       "Mixed team (ZZX) [ZZX]                               5.0             4.0   \n",
       "Totals                                            5081.0          5487.0   \n",
       "\n",
       "                                         Summer Games.4 Winter Games  \\\n",
       "Olympic Athletes from Russia (OAR) [OAR]              0            1   \n",
       "Mixed team (ZZX) [ZZX]                               17            0   \n",
       "Totals                                            15683           23   \n",
       "\n",
       "                                          Winter Games.1  Winter Games.2  \\\n",
       "Olympic Athletes from Russia (OAR) [OAR]             2.0             6.0   \n",
       "Mixed team (ZZX) [ZZX]                               0.0             0.0   \n",
       "Totals                                            1062.0          1058.0   \n",
       "\n",
       "                                          Winter Games.3 Winter Games.4  \\\n",
       "Olympic Athletes from Russia (OAR) [OAR]             9.0             17   \n",
       "Mixed team (ZZX) [ZZX]                               0.0              0   \n",
       "Totals                                            1050.0           3170   \n",
       "\n",
       "                                         Combined Total  Combined Total.1  \\\n",
       "Olympic Athletes from Russia (OAR) [OAR]              1               2.0   \n",
       "Mixed team (ZZX) [ZZX]                                3               8.0   \n",
       "Totals                                               51            6177.0   \n",
       "\n",
       "                                          Combined Total.2  Combined Total.3  \\\n",
       "Olympic Athletes from Russia (OAR) [OAR]               6.0               9.0   \n",
       "Mixed team (ZZX) [ZZX]                                 5.0               4.0   \n",
       "Totals                                              6139.0            6537.0   \n",
       "\n",
       "                                         Combined Total.4  \n",
       "Olympic Athletes from Russia (OAR) [OAR]               17  \n",
       "Mixed team (ZZX) [ZZX]                                 17  \n",
       "Totals                                              18853  "
      ]
     },
     "execution_count": 137,
     "metadata": {},
     "output_type": "execute_result"
    }
   ],
   "source": [
    "data.tail(3)"
   ]
  },
  {
   "cell_type": "code",
   "execution_count": 138,
   "metadata": {},
   "outputs": [
    {
     "data": {
      "text/html": [
       "<div>\n",
       "<style scoped>\n",
       "    .dataframe tbody tr th:only-of-type {\n",
       "        vertical-align: middle;\n",
       "    }\n",
       "\n",
       "    .dataframe tbody tr th {\n",
       "        vertical-align: top;\n",
       "    }\n",
       "\n",
       "    .dataframe thead th {\n",
       "        text-align: right;\n",
       "    }\n",
       "</style>\n",
       "<table border=\"1\" class=\"dataframe\">\n",
       "  <thead>\n",
       "    <tr style=\"text-align: right;\">\n",
       "      <th></th>\n",
       "      <th>Summer Games</th>\n",
       "      <th>Summer Games.1</th>\n",
       "      <th>Summer Games.2</th>\n",
       "      <th>Summer Games.3</th>\n",
       "      <th>Summer Games.4</th>\n",
       "      <th>Winter Games</th>\n",
       "      <th>Winter Games.1</th>\n",
       "      <th>Winter Games.2</th>\n",
       "      <th>Winter Games.3</th>\n",
       "      <th>Winter Games.4</th>\n",
       "      <th>Combined Total</th>\n",
       "      <th>Combined Total.1</th>\n",
       "      <th>Combined Total.2</th>\n",
       "      <th>Combined Total.3</th>\n",
       "      <th>Combined Total.4</th>\n",
       "    </tr>\n",
       "  </thead>\n",
       "  <tbody>\n",
       "    <tr>\n",
       "      <th>Estonia (EST)</th>\n",
       "      <td>12</td>\n",
       "      <td>9.0</td>\n",
       "      <td>9.0</td>\n",
       "      <td>16.0</td>\n",
       "      <td>34</td>\n",
       "      <td>10</td>\n",
       "      <td>4.0</td>\n",
       "      <td>2.0</td>\n",
       "      <td>1.0</td>\n",
       "      <td>7</td>\n",
       "      <td>22</td>\n",
       "      <td>13.0</td>\n",
       "      <td>11.0</td>\n",
       "      <td>17.0</td>\n",
       "      <td>41</td>\n",
       "    </tr>\n",
       "    <tr>\n",
       "      <th>Spain (ESP) [Z]</th>\n",
       "      <td>23</td>\n",
       "      <td>45.0</td>\n",
       "      <td>64.0</td>\n",
       "      <td>41.0</td>\n",
       "      <td>150</td>\n",
       "      <td>20</td>\n",
       "      <td>1.0</td>\n",
       "      <td>0.0</td>\n",
       "      <td>3.0</td>\n",
       "      <td>4</td>\n",
       "      <td>43</td>\n",
       "      <td>46.0</td>\n",
       "      <td>64.0</td>\n",
       "      <td>44.0</td>\n",
       "      <td>154</td>\n",
       "    </tr>\n",
       "    <tr>\n",
       "      <th>Gabon (GAB)</th>\n",
       "      <td>10</td>\n",
       "      <td>0.0</td>\n",
       "      <td>1.0</td>\n",
       "      <td>0.0</td>\n",
       "      <td>1</td>\n",
       "      <td>0</td>\n",
       "      <td>0.0</td>\n",
       "      <td>0.0</td>\n",
       "      <td>0.0</td>\n",
       "      <td>0</td>\n",
       "      <td>10</td>\n",
       "      <td>0.0</td>\n",
       "      <td>1.0</td>\n",
       "      <td>0.0</td>\n",
       "      <td>1</td>\n",
       "    </tr>\n",
       "    <tr>\n",
       "      <th>Jamaica (JAM) [JAM]</th>\n",
       "      <td>17</td>\n",
       "      <td>22.0</td>\n",
       "      <td>35.0</td>\n",
       "      <td>21.0</td>\n",
       "      <td>78</td>\n",
       "      <td>8</td>\n",
       "      <td>0.0</td>\n",
       "      <td>0.0</td>\n",
       "      <td>0.0</td>\n",
       "      <td>0</td>\n",
       "      <td>25</td>\n",
       "      <td>22.0</td>\n",
       "      <td>35.0</td>\n",
       "      <td>21.0</td>\n",
       "      <td>78</td>\n",
       "    </tr>\n",
       "    <tr>\n",
       "      <th>Bahamas (BAH)</th>\n",
       "      <td>16</td>\n",
       "      <td>6.0</td>\n",
       "      <td>2.0</td>\n",
       "      <td>6.0</td>\n",
       "      <td>14</td>\n",
       "      <td>0</td>\n",
       "      <td>0.0</td>\n",
       "      <td>0.0</td>\n",
       "      <td>0.0</td>\n",
       "      <td>0</td>\n",
       "      <td>16</td>\n",
       "      <td>6.0</td>\n",
       "      <td>2.0</td>\n",
       "      <td>6.0</td>\n",
       "      <td>14</td>\n",
       "    </tr>\n",
       "  </tbody>\n",
       "</table>\n",
       "</div>"
      ],
      "text/plain": [
       "                    Summer Games  Summer Games.1  Summer Games.2  \\\n",
       "Estonia (EST)                 12             9.0             9.0   \n",
       "Spain (ESP) [Z]               23            45.0            64.0   \n",
       "Gabon (GAB)                   10             0.0             1.0   \n",
       "Jamaica (JAM) [JAM]           17            22.0            35.0   \n",
       "Bahamas (BAH)                 16             6.0             2.0   \n",
       "\n",
       "                     Summer Games.3 Summer Games.4 Winter Games  \\\n",
       "Estonia (EST)                  16.0             34           10   \n",
       "Spain (ESP) [Z]                41.0            150           20   \n",
       "Gabon (GAB)                     0.0              1            0   \n",
       "Jamaica (JAM) [JAM]            21.0             78            8   \n",
       "Bahamas (BAH)                   6.0             14            0   \n",
       "\n",
       "                     Winter Games.1  Winter Games.2  Winter Games.3  \\\n",
       "Estonia (EST)                   4.0             2.0             1.0   \n",
       "Spain (ESP) [Z]                 1.0             0.0             3.0   \n",
       "Gabon (GAB)                     0.0             0.0             0.0   \n",
       "Jamaica (JAM) [JAM]             0.0             0.0             0.0   \n",
       "Bahamas (BAH)                   0.0             0.0             0.0   \n",
       "\n",
       "                    Winter Games.4 Combined Total  Combined Total.1  \\\n",
       "Estonia (EST)                    7             22              13.0   \n",
       "Spain (ESP) [Z]                  4             43              46.0   \n",
       "Gabon (GAB)                      0             10               0.0   \n",
       "Jamaica (JAM) [JAM]              0             25              22.0   \n",
       "Bahamas (BAH)                    0             16               6.0   \n",
       "\n",
       "                     Combined Total.2  Combined Total.3 Combined Total.4  \n",
       "Estonia (EST)                    11.0              17.0               41  \n",
       "Spain (ESP) [Z]                  64.0              44.0              154  \n",
       "Gabon (GAB)                       1.0               0.0                1  \n",
       "Jamaica (JAM) [JAM]              35.0              21.0               78  \n",
       "Bahamas (BAH)                     2.0               6.0               14  "
      ]
     },
     "execution_count": 138,
     "metadata": {},
     "output_type": "execute_result"
    }
   ],
   "source": [
    "data.sample(5) # 아무거나 x 건 "
   ]
  },
  {
   "cell_type": "code",
   "execution_count": 139,
   "metadata": {},
   "outputs": [],
   "source": [
    "d = {'a':1, 'b':5, 'c':100}"
   ]
  },
  {
   "cell_type": "code",
   "execution_count": 140,
   "metadata": {},
   "outputs": [
    {
     "data": {
      "text/html": [
       "<div>\n",
       "<style scoped>\n",
       "    .dataframe tbody tr th:only-of-type {\n",
       "        vertical-align: middle;\n",
       "    }\n",
       "\n",
       "    .dataframe tbody tr th {\n",
       "        vertical-align: top;\n",
       "    }\n",
       "\n",
       "    .dataframe thead th {\n",
       "        text-align: right;\n",
       "    }\n",
       "</style>\n",
       "<table border=\"1\" class=\"dataframe\">\n",
       "  <thead>\n",
       "    <tr style=\"text-align: right;\">\n",
       "      <th></th>\n",
       "      <th>Summer Games</th>\n",
       "      <th>Summer Games.1</th>\n",
       "    </tr>\n",
       "  </thead>\n",
       "  <tbody>\n",
       "    <tr>\n",
       "      <th>Bahrain (BRN)</th>\n",
       "      <td>9</td>\n",
       "      <td>2.0</td>\n",
       "    </tr>\n",
       "    <tr>\n",
       "      <th>Barbados (BAR) [BAR]</th>\n",
       "      <td>12</td>\n",
       "      <td>0.0</td>\n",
       "    </tr>\n",
       "    <tr>\n",
       "      <th>Belarus (BLR)</th>\n",
       "      <td>6</td>\n",
       "      <td>12.0</td>\n",
       "    </tr>\n",
       "    <tr>\n",
       "      <th>Belgium (BEL)</th>\n",
       "      <td>26</td>\n",
       "      <td>40.0</td>\n",
       "    </tr>\n",
       "    <tr>\n",
       "      <th>Bermuda (BER)</th>\n",
       "      <td>18</td>\n",
       "      <td>0.0</td>\n",
       "    </tr>\n",
       "    <tr>\n",
       "      <th>Bohemia (BOH) [BOH] [Z]</th>\n",
       "      <td>3</td>\n",
       "      <td>0.0</td>\n",
       "    </tr>\n",
       "    <tr>\n",
       "      <th>Botswana (BOT)</th>\n",
       "      <td>10</td>\n",
       "      <td>0.0</td>\n",
       "    </tr>\n",
       "    <tr>\n",
       "      <th>Brazil (BRA)</th>\n",
       "      <td>22</td>\n",
       "      <td>30.0</td>\n",
       "    </tr>\n",
       "    <tr>\n",
       "      <th>British West Indies (BWI) [BWI]</th>\n",
       "      <td>1</td>\n",
       "      <td>0.0</td>\n",
       "    </tr>\n",
       "    <tr>\n",
       "      <th>Bulgaria (BUL) [H]</th>\n",
       "      <td>20</td>\n",
       "      <td>51.0</td>\n",
       "    </tr>\n",
       "  </tbody>\n",
       "</table>\n",
       "</div>"
      ],
      "text/plain": [
       "                                Summer Games  Summer Games.1\n",
       "Bahrain (BRN)                              9             2.0\n",
       "Barbados (BAR) [BAR]                      12             0.0\n",
       "Belarus (BLR)                              6            12.0\n",
       "Belgium (BEL)                             26            40.0\n",
       "Bermuda (BER)                             18             0.0\n",
       "Bohemia (BOH) [BOH] [Z]                    3             0.0\n",
       "Botswana (BOT)                            10             0.0\n",
       "Brazil (BRA)                              22            30.0\n",
       "British West Indies (BWI) [BWI]            1             0.0\n",
       "Bulgaria (BUL) [H]                        20            51.0"
      ]
     },
     "execution_count": 140,
     "metadata": {},
     "output_type": "execute_result"
    }
   ],
   "source": [
    "#data[10:20, :2] # 행은 선택이 되는데 컬럼 선택이 안됩니다\n",
    "data.iloc[10:20, :2]"
   ]
  },
  {
   "cell_type": "code",
   "execution_count": 141,
   "metadata": {},
   "outputs": [
    {
     "data": {
      "text/plain": [
       "Index(['Summer Games', 'Summer Games.1', 'Summer Games.2', 'Summer Games.3',\n",
       "       'Summer Games.4', 'Winter Games', 'Winter Games.1', 'Winter Games.2',\n",
       "       'Winter Games.3', 'Winter Games.4', 'Combined Total',\n",
       "       'Combined Total.1', 'Combined Total.2', 'Combined Total.3',\n",
       "       'Combined Total.4'],\n",
       "      dtype='object')"
      ]
     },
     "execution_count": 141,
     "metadata": {},
     "output_type": "execute_result"
    }
   ],
   "source": [
    "data.columns"
   ]
  },
  {
   "cell_type": "code",
   "execution_count": 142,
   "metadata": {},
   "outputs": [
    {
     "data": {
      "text/html": [
       "<div>\n",
       "<style scoped>\n",
       "    .dataframe tbody tr th:only-of-type {\n",
       "        vertical-align: middle;\n",
       "    }\n",
       "\n",
       "    .dataframe tbody tr th {\n",
       "        vertical-align: top;\n",
       "    }\n",
       "\n",
       "    .dataframe thead th {\n",
       "        text-align: right;\n",
       "    }\n",
       "</style>\n",
       "<table border=\"1\" class=\"dataframe\">\n",
       "  <thead>\n",
       "    <tr style=\"text-align: right;\">\n",
       "      <th></th>\n",
       "      <th>Summer Games.1</th>\n",
       "      <th>Summer Games.2</th>\n",
       "    </tr>\n",
       "  </thead>\n",
       "  <tbody>\n",
       "    <tr>\n",
       "      <th>Team (IOC code)</th>\n",
       "      <td>NaN</td>\n",
       "      <td>NaN</td>\n",
       "    </tr>\n",
       "    <tr>\n",
       "      <th>Afghanistan (AFG)</th>\n",
       "      <td>0.0</td>\n",
       "      <td>0.0</td>\n",
       "    </tr>\n",
       "    <tr>\n",
       "      <th>Algeria (ALG)</th>\n",
       "      <td>5.0</td>\n",
       "      <td>4.0</td>\n",
       "    </tr>\n",
       "    <tr>\n",
       "      <th>Argentina (ARG)</th>\n",
       "      <td>21.0</td>\n",
       "      <td>25.0</td>\n",
       "    </tr>\n",
       "    <tr>\n",
       "      <th>Armenia (ARM)</th>\n",
       "      <td>2.0</td>\n",
       "      <td>6.0</td>\n",
       "    </tr>\n",
       "  </tbody>\n",
       "</table>\n",
       "</div>"
      ],
      "text/plain": [
       "                   Summer Games.1  Summer Games.2\n",
       "Team (IOC code)               NaN             NaN\n",
       "Afghanistan (AFG)             0.0             0.0\n",
       "Algeria (ALG)                 5.0             4.0\n",
       "Argentina (ARG)              21.0            25.0\n",
       "Armenia (ARM)                 2.0             6.0"
      ]
     },
     "execution_count": 142,
     "metadata": {},
     "output_type": "execute_result"
    }
   ],
   "source": [
    "# 데이터 프레임은 딕셔너리 구조로 되어 있습니다.\n",
    "data[['Summer Games.1','Summer Games.2']].head() #몇개의 컬럼만 뽑기"
   ]
  },
  {
   "cell_type": "code",
   "execution_count": 143,
   "metadata": {},
   "outputs": [
    {
     "data": {
      "text/html": [
       "<div>\n",
       "<style scoped>\n",
       "    .dataframe tbody tr th:only-of-type {\n",
       "        vertical-align: middle;\n",
       "    }\n",
       "\n",
       "    .dataframe tbody tr th {\n",
       "        vertical-align: top;\n",
       "    }\n",
       "\n",
       "    .dataframe thead th {\n",
       "        text-align: right;\n",
       "    }\n",
       "</style>\n",
       "<table border=\"1\" class=\"dataframe\">\n",
       "  <thead>\n",
       "    <tr style=\"text-align: right;\">\n",
       "      <th></th>\n",
       "      <th>Summer Games</th>\n",
       "      <th>Summer Games.1</th>\n",
       "      <th>Summer Games.2</th>\n",
       "    </tr>\n",
       "  </thead>\n",
       "  <tbody>\n",
       "    <tr>\n",
       "      <th>Team (IOC code)</th>\n",
       "      <td>№</td>\n",
       "      <td>NaN</td>\n",
       "      <td>NaN</td>\n",
       "    </tr>\n",
       "    <tr>\n",
       "      <th>Afghanistan (AFG)</th>\n",
       "      <td>14</td>\n",
       "      <td>0.0</td>\n",
       "      <td>0.0</td>\n",
       "    </tr>\n",
       "    <tr>\n",
       "      <th>Algeria (ALG)</th>\n",
       "      <td>13</td>\n",
       "      <td>5.0</td>\n",
       "      <td>4.0</td>\n",
       "    </tr>\n",
       "    <tr>\n",
       "      <th>Argentina (ARG)</th>\n",
       "      <td>24</td>\n",
       "      <td>21.0</td>\n",
       "      <td>25.0</td>\n",
       "    </tr>\n",
       "    <tr>\n",
       "      <th>Armenia (ARM)</th>\n",
       "      <td>6</td>\n",
       "      <td>2.0</td>\n",
       "      <td>6.0</td>\n",
       "    </tr>\n",
       "  </tbody>\n",
       "</table>\n",
       "</div>"
      ],
      "text/plain": [
       "                  Summer Games  Summer Games.1  Summer Games.2\n",
       "Team (IOC code)              №             NaN             NaN\n",
       "Afghanistan (AFG)           14             0.0             0.0\n",
       "Algeria (ALG)               13             5.0             4.0\n",
       "Argentina (ARG)             24            21.0            25.0\n",
       "Armenia (ARM)                6             2.0             6.0"
      ]
     },
     "execution_count": 143,
     "metadata": {},
     "output_type": "execute_result"
    }
   ],
   "source": [
    "#data[0] 에 해당, i(index)loc(ation)\n",
    "data.iloc[:5, :3] "
   ]
  },
  {
   "cell_type": "code",
   "execution_count": 144,
   "metadata": {},
   "outputs": [
    {
     "data": {
      "text/plain": [
       "Summer Games         object\n",
       "Summer Games.1      float64\n",
       "Summer Games.2      float64\n",
       "Summer Games.3      float64\n",
       "Summer Games.4       object\n",
       "Winter Games         object\n",
       "Winter Games.1      float64\n",
       "Winter Games.2      float64\n",
       "Winter Games.3      float64\n",
       "Winter Games.4       object\n",
       "Combined Total       object\n",
       "Combined Total.1    float64\n",
       "Combined Total.2    float64\n",
       "Combined Total.3    float64\n",
       "Combined Total.4     object\n",
       "dtype: object"
      ]
     },
     "execution_count": 144,
     "metadata": {},
     "output_type": "execute_result"
    }
   ],
   "source": [
    "data.dtypes# data.info() 로 타입 검사\n",
    "# 수치형이어야 하는데 object 로 잡혔다면 누락이나 오타가 있는 것 > 조치 필요"
   ]
  },
  {
   "cell_type": "code",
   "execution_count": 145,
   "metadata": {},
   "outputs": [
    {
     "data": {
      "text/html": [
       "<div>\n",
       "<style scoped>\n",
       "    .dataframe tbody tr th:only-of-type {\n",
       "        vertical-align: middle;\n",
       "    }\n",
       "\n",
       "    .dataframe tbody tr th {\n",
       "        vertical-align: top;\n",
       "    }\n",
       "\n",
       "    .dataframe thead th {\n",
       "        text-align: right;\n",
       "    }\n",
       "</style>\n",
       "<table border=\"1\" class=\"dataframe\">\n",
       "  <thead>\n",
       "    <tr style=\"text-align: right;\">\n",
       "      <th></th>\n",
       "      <th>Summer Games</th>\n",
       "      <th>Summer Games.1</th>\n",
       "      <th>Summer Games.2</th>\n",
       "      <th>Summer Games.3</th>\n",
       "      <th>Summer Games.4</th>\n",
       "      <th>Winter Games</th>\n",
       "      <th>Winter Games.1</th>\n",
       "      <th>Winter Games.2</th>\n",
       "      <th>Winter Games.3</th>\n",
       "      <th>Winter Games.4</th>\n",
       "      <th>Combined Total</th>\n",
       "      <th>Combined Total.1</th>\n",
       "      <th>Combined Total.2</th>\n",
       "      <th>Combined Total.3</th>\n",
       "      <th>Combined Total.4</th>\n",
       "    </tr>\n",
       "  </thead>\n",
       "  <tbody>\n",
       "    <tr>\n",
       "      <th>Afghanistan (AFG)</th>\n",
       "      <td>14</td>\n",
       "      <td>0.0</td>\n",
       "      <td>0.0</td>\n",
       "      <td>2.0</td>\n",
       "      <td>2</td>\n",
       "      <td>0</td>\n",
       "      <td>0.0</td>\n",
       "      <td>0.0</td>\n",
       "      <td>0.0</td>\n",
       "      <td>0</td>\n",
       "      <td>14</td>\n",
       "      <td>0.0</td>\n",
       "      <td>0.0</td>\n",
       "      <td>2.0</td>\n",
       "      <td>2</td>\n",
       "    </tr>\n",
       "  </tbody>\n",
       "</table>\n",
       "</div>"
      ],
      "text/plain": [
       "                  Summer Games  Summer Games.1  Summer Games.2  \\\n",
       "Afghanistan (AFG)           14             0.0             0.0   \n",
       "\n",
       "                   Summer Games.3 Summer Games.4 Winter Games  Winter Games.1  \\\n",
       "Afghanistan (AFG)             2.0              2            0             0.0   \n",
       "\n",
       "                   Winter Games.2  Winter Games.3 Winter Games.4  \\\n",
       "Afghanistan (AFG)             0.0             0.0              0   \n",
       "\n",
       "                  Combined Total  Combined Total.1  Combined Total.2  \\\n",
       "Afghanistan (AFG)             14               0.0               0.0   \n",
       "\n",
       "                   Combined Total.3 Combined Total.4  \n",
       "Afghanistan (AFG)               2.0                2  "
      ]
     },
     "execution_count": 145,
     "metadata": {},
     "output_type": "execute_result"
    }
   ],
   "source": [
    "new_data = data.dropna() # 누락 값이 있는 행을 제거해서 리턴, 원본은 유지\n",
    "new_data.head(1)"
   ]
  },
  {
   "cell_type": "code",
   "execution_count": 146,
   "metadata": {},
   "outputs": [
    {
     "data": {
      "text/plain": [
       "Summer Games.1      422.599849\n",
       "Summer Games.2      416.404023\n",
       "Summer Games.3      447.853436\n",
       "Winter Games.1       87.722270\n",
       "Winter Games.2       87.279179\n",
       "Winter Games.3       86.350893\n",
       "Combined Total.1    508.851901\n",
       "Combined Total.2    502.521776\n",
       "Combined Total.3    533.219133\n",
       "dtype: float64"
      ]
     },
     "execution_count": 146,
     "metadata": {},
     "output_type": "execute_result"
    }
   ],
   "source": [
    "data.std()# 컬럼 별 최대값"
   ]
  },
  {
   "cell_type": "code",
   "execution_count": 147,
   "metadata": {},
   "outputs": [
    {
     "data": {
      "text/html": [
       "<div>\n",
       "<style scoped>\n",
       "    .dataframe tbody tr th:only-of-type {\n",
       "        vertical-align: middle;\n",
       "    }\n",
       "\n",
       "    .dataframe tbody tr th {\n",
       "        vertical-align: top;\n",
       "    }\n",
       "\n",
       "    .dataframe thead th {\n",
       "        text-align: right;\n",
       "    }\n",
       "</style>\n",
       "<table border=\"1\" class=\"dataframe\">\n",
       "  <thead>\n",
       "    <tr style=\"text-align: right;\">\n",
       "      <th></th>\n",
       "      <th>Summer Games</th>\n",
       "      <th>Summer Games.1</th>\n",
       "      <th>Summer Games.2</th>\n",
       "      <th>Summer Games.3</th>\n",
       "      <th>Summer Games.4</th>\n",
       "      <th>Winter Games</th>\n",
       "      <th>Winter Games.1</th>\n",
       "      <th>Winter Games.2</th>\n",
       "      <th>Winter Games.3</th>\n",
       "      <th>Winter Games.4</th>\n",
       "      <th>Combined Total</th>\n",
       "      <th>Combined Total.1</th>\n",
       "      <th>Combined Total.2</th>\n",
       "      <th>Combined Total.3</th>\n",
       "      <th>Combined Total.4</th>\n",
       "    </tr>\n",
       "  </thead>\n",
       "  <tbody>\n",
       "    <tr>\n",
       "      <th>Team (IOC code)</th>\n",
       "      <td>№</td>\n",
       "      <td>NaN</td>\n",
       "      <td>NaN</td>\n",
       "      <td>NaN</td>\n",
       "      <td>Total</td>\n",
       "      <td>№</td>\n",
       "      <td>NaN</td>\n",
       "      <td>NaN</td>\n",
       "      <td>NaN</td>\n",
       "      <td>Total</td>\n",
       "      <td>№</td>\n",
       "      <td>NaN</td>\n",
       "      <td>NaN</td>\n",
       "      <td>NaN</td>\n",
       "      <td>Total</td>\n",
       "    </tr>\n",
       "    <tr>\n",
       "      <th>Lithuania (LTU)</th>\n",
       "      <td>9</td>\n",
       "      <td>6.0</td>\n",
       "      <td>6.0</td>\n",
       "      <td>13.0</td>\n",
       "      <td>25</td>\n",
       "      <td>9</td>\n",
       "      <td>0.0</td>\n",
       "      <td>0.0</td>\n",
       "      <td>0.0</td>\n",
       "      <td>0</td>\n",
       "      <td>18</td>\n",
       "      <td>6.0</td>\n",
       "      <td>6.0</td>\n",
       "      <td>13.0</td>\n",
       "      <td>25</td>\n",
       "    </tr>\n",
       "    <tr>\n",
       "      <th>Samoa (SAM)</th>\n",
       "      <td>9</td>\n",
       "      <td>0.0</td>\n",
       "      <td>1.0</td>\n",
       "      <td>0.0</td>\n",
       "      <td>1</td>\n",
       "      <td>0</td>\n",
       "      <td>0.0</td>\n",
       "      <td>0.0</td>\n",
       "      <td>0.0</td>\n",
       "      <td>0</td>\n",
       "      <td>9</td>\n",
       "      <td>0.0</td>\n",
       "      <td>1.0</td>\n",
       "      <td>0.0</td>\n",
       "      <td>1</td>\n",
       "    </tr>\n",
       "    <tr>\n",
       "      <th>Qatar (QAT)</th>\n",
       "      <td>9</td>\n",
       "      <td>0.0</td>\n",
       "      <td>1.0</td>\n",
       "      <td>4.0</td>\n",
       "      <td>5</td>\n",
       "      <td>0</td>\n",
       "      <td>0.0</td>\n",
       "      <td>0.0</td>\n",
       "      <td>0.0</td>\n",
       "      <td>0</td>\n",
       "      <td>9</td>\n",
       "      <td>0.0</td>\n",
       "      <td>1.0</td>\n",
       "      <td>4.0</td>\n",
       "      <td>5</td>\n",
       "    </tr>\n",
       "    <tr>\n",
       "      <th>Mauritius (MRI)</th>\n",
       "      <td>9</td>\n",
       "      <td>0.0</td>\n",
       "      <td>0.0</td>\n",
       "      <td>1.0</td>\n",
       "      <td>1</td>\n",
       "      <td>0</td>\n",
       "      <td>0.0</td>\n",
       "      <td>0.0</td>\n",
       "      <td>0.0</td>\n",
       "      <td>0</td>\n",
       "      <td>9</td>\n",
       "      <td>0.0</td>\n",
       "      <td>0.0</td>\n",
       "      <td>1.0</td>\n",
       "      <td>1</td>\n",
       "    </tr>\n",
       "  </tbody>\n",
       "</table>\n",
       "</div>"
      ],
      "text/plain": [
       "                Summer Games  Summer Games.1  Summer Games.2  Summer Games.3  \\\n",
       "Team (IOC code)            №             NaN             NaN             NaN   \n",
       "Lithuania (LTU)            9             6.0             6.0            13.0   \n",
       "Samoa (SAM)                9             0.0             1.0             0.0   \n",
       "Qatar (QAT)                9             0.0             1.0             4.0   \n",
       "Mauritius (MRI)            9             0.0             0.0             1.0   \n",
       "\n",
       "                Summer Games.4 Winter Games  Winter Games.1  Winter Games.2  \\\n",
       "Team (IOC code)          Total            №             NaN             NaN   \n",
       "Lithuania (LTU)             25            9             0.0             0.0   \n",
       "Samoa (SAM)                  1            0             0.0             0.0   \n",
       "Qatar (QAT)                  5            0             0.0             0.0   \n",
       "Mauritius (MRI)              1            0             0.0             0.0   \n",
       "\n",
       "                 Winter Games.3 Winter Games.4 Combined Total  \\\n",
       "Team (IOC code)             NaN          Total              №   \n",
       "Lithuania (LTU)             0.0              0             18   \n",
       "Samoa (SAM)                 0.0              0              9   \n",
       "Qatar (QAT)                 0.0              0              9   \n",
       "Mauritius (MRI)             0.0              0              9   \n",
       "\n",
       "                 Combined Total.1  Combined Total.2  Combined Total.3  \\\n",
       "Team (IOC code)               NaN               NaN               NaN   \n",
       "Lithuania (LTU)               6.0               6.0              13.0   \n",
       "Samoa (SAM)                   0.0               1.0               0.0   \n",
       "Qatar (QAT)                   0.0               1.0               4.0   \n",
       "Mauritius (MRI)               0.0               0.0               1.0   \n",
       "\n",
       "                Combined Total.4  \n",
       "Team (IOC code)            Total  \n",
       "Lithuania (LTU)               25  \n",
       "Samoa (SAM)                    1  \n",
       "Qatar (QAT)                    5  \n",
       "Mauritius (MRI)                1  "
      ]
     },
     "execution_count": 147,
     "metadata": {},
     "output_type": "execute_result"
    }
   ],
   "source": [
    "data.head()\n",
    "#정렬\n",
    "data.sort_values('Summer Games',ascending=False).head()"
   ]
  },
  {
   "cell_type": "code",
   "execution_count": 158,
   "metadata": {},
   "outputs": [
    {
     "data": {
      "text/html": [
       "<div>\n",
       "<style scoped>\n",
       "    .dataframe tbody tr th:only-of-type {\n",
       "        vertical-align: middle;\n",
       "    }\n",
       "\n",
       "    .dataframe tbody tr th {\n",
       "        vertical-align: top;\n",
       "    }\n",
       "\n",
       "    .dataframe thead th {\n",
       "        text-align: right;\n",
       "    }\n",
       "</style>\n",
       "<table border=\"1\" class=\"dataframe\">\n",
       "  <thead>\n",
       "    <tr style=\"text-align: right;\">\n",
       "      <th></th>\n",
       "      <th>Summer Games</th>\n",
       "      <th>Summer Games.1</th>\n",
       "      <th>Summer Games.2</th>\n",
       "      <th>Summer Games.3</th>\n",
       "      <th>Summer Games.4</th>\n",
       "    </tr>\n",
       "  </thead>\n",
       "  <tbody>\n",
       "    <tr>\n",
       "      <th>Afghanistan (AFG)</th>\n",
       "      <td>14</td>\n",
       "      <td>0.0</td>\n",
       "      <td>0.0</td>\n",
       "      <td>2.0</td>\n",
       "      <td>2</td>\n",
       "    </tr>\n",
       "    <tr>\n",
       "      <th>Algeria (ALG)</th>\n",
       "      <td>13</td>\n",
       "      <td>5.0</td>\n",
       "      <td>4.0</td>\n",
       "      <td>8.0</td>\n",
       "      <td>17</td>\n",
       "    </tr>\n",
       "    <tr>\n",
       "      <th>Argentina (ARG)</th>\n",
       "      <td>24</td>\n",
       "      <td>21.0</td>\n",
       "      <td>25.0</td>\n",
       "      <td>28.0</td>\n",
       "      <td>74</td>\n",
       "    </tr>\n",
       "  </tbody>\n",
       "</table>\n",
       "</div>"
      ],
      "text/plain": [
       "                  Summer Games  Summer Games.1  Summer Games.2  \\\n",
       "Afghanistan (AFG)           14             0.0             0.0   \n",
       "Algeria (ALG)               13             5.0             4.0   \n",
       "Argentina (ARG)             24            21.0            25.0   \n",
       "\n",
       "                   Summer Games.3 Summer Games.4  \n",
       "Afghanistan (AFG)             2.0              2  \n",
       "Algeria (ALG)                 8.0             17  \n",
       "Argentina (ARG)              28.0             74  "
      ]
     },
     "execution_count": 158,
     "metadata": {},
     "output_type": "execute_result"
    }
   ],
   "source": [
    "# 256~ 여름 올리픽 데이터를 엑셀로 저장하기\n",
    "data.head()\n",
    "summer = data.iloc[1:, :5] # 첫행 빼고\n",
    "summer.head(3)"
   ]
  },
  {
   "cell_type": "code",
   "execution_count": 159,
   "metadata": {},
   "outputs": [
    {
     "data": {
      "text/plain": [
       "Index(['Summer Games', 'Summer Games.1', 'Summer Games.2', 'Summer Games.3',\n",
       "       'Summer Games.4'],\n",
       "      dtype='object')"
      ]
     },
     "execution_count": 159,
     "metadata": {},
     "output_type": "execute_result"
    }
   ],
   "source": [
    "summer.columns"
   ]
  },
  {
   "cell_type": "code",
   "execution_count": 160,
   "metadata": {},
   "outputs": [],
   "source": [
    "summer.columns = ['경기수','금','은','동','계']"
   ]
  },
  {
   "cell_type": "code",
   "execution_count": 161,
   "metadata": {},
   "outputs": [
    {
     "data": {
      "text/html": [
       "<div>\n",
       "<style scoped>\n",
       "    .dataframe tbody tr th:only-of-type {\n",
       "        vertical-align: middle;\n",
       "    }\n",
       "\n",
       "    .dataframe tbody tr th {\n",
       "        vertical-align: top;\n",
       "    }\n",
       "\n",
       "    .dataframe thead th {\n",
       "        text-align: right;\n",
       "    }\n",
       "</style>\n",
       "<table border=\"1\" class=\"dataframe\">\n",
       "  <thead>\n",
       "    <tr style=\"text-align: right;\">\n",
       "      <th></th>\n",
       "      <th>경기수</th>\n",
       "      <th>금</th>\n",
       "      <th>은</th>\n",
       "      <th>동</th>\n",
       "      <th>계</th>\n",
       "    </tr>\n",
       "  </thead>\n",
       "  <tbody>\n",
       "    <tr>\n",
       "      <th>Afghanistan (AFG)</th>\n",
       "      <td>14</td>\n",
       "      <td>0.0</td>\n",
       "      <td>0.0</td>\n",
       "      <td>2.0</td>\n",
       "      <td>2</td>\n",
       "    </tr>\n",
       "    <tr>\n",
       "      <th>Algeria (ALG)</th>\n",
       "      <td>13</td>\n",
       "      <td>5.0</td>\n",
       "      <td>4.0</td>\n",
       "      <td>8.0</td>\n",
       "      <td>17</td>\n",
       "    </tr>\n",
       "    <tr>\n",
       "      <th>Argentina (ARG)</th>\n",
       "      <td>24</td>\n",
       "      <td>21.0</td>\n",
       "      <td>25.0</td>\n",
       "      <td>28.0</td>\n",
       "      <td>74</td>\n",
       "    </tr>\n",
       "    <tr>\n",
       "      <th>Armenia (ARM)</th>\n",
       "      <td>6</td>\n",
       "      <td>2.0</td>\n",
       "      <td>6.0</td>\n",
       "      <td>6.0</td>\n",
       "      <td>14</td>\n",
       "    </tr>\n",
       "    <tr>\n",
       "      <th>Australasia (ANZ) [ANZ]</th>\n",
       "      <td>2</td>\n",
       "      <td>3.0</td>\n",
       "      <td>4.0</td>\n",
       "      <td>5.0</td>\n",
       "      <td>12</td>\n",
       "    </tr>\n",
       "  </tbody>\n",
       "</table>\n",
       "</div>"
      ],
      "text/plain": [
       "                        경기수     금     은     동   계\n",
       "Afghanistan (AFG)        14   0.0   0.0   2.0   2\n",
       "Algeria (ALG)            13   5.0   4.0   8.0  17\n",
       "Argentina (ARG)          24  21.0  25.0  28.0  74\n",
       "Armenia (ARM)             6   2.0   6.0   6.0  14\n",
       "Australasia (ANZ) [ANZ]   2   3.0   4.0   5.0  12"
      ]
     },
     "execution_count": 161,
     "metadata": {},
     "output_type": "execute_result"
    }
   ],
   "source": [
    "summer.head()"
   ]
  },
  {
   "cell_type": "code",
   "execution_count": 165,
   "metadata": {},
   "outputs": [],
   "source": [
    "summer_sort = summer.sort_values('금', ascending=False)"
   ]
  },
  {
   "cell_type": "code",
   "execution_count": 166,
   "metadata": {},
   "outputs": [
    {
     "data": {
      "text/plain": [
       "pandas.core.frame.DataFrame"
      ]
     },
     "execution_count": 166,
     "metadata": {},
     "output_type": "execute_result"
    }
   ],
   "source": [
    "type(summer_sort)"
   ]
  },
  {
   "cell_type": "code",
   "execution_count": 167,
   "metadata": {},
   "outputs": [],
   "source": [
    "\n",
    "\n",
    "summer_sort.to_excel('올림픽하계금메달.xlsx')\n"
   ]
  },
  {
   "cell_type": "code",
   "execution_count": 438,
   "metadata": {},
   "outputs": [],
   "source": [
    "#'https://en.wikipedia.org/wiki/All-time_table_of_the_FIFA_World_Cup',\n",
    "url = 'https://www.google.com/'\n",
    "url = 'https://finance.yahoo.com/quote/%5EGSPC/history?p=%5EGSPC'\n",
    "url = 'https://finance.naver.com/'\n",
    "df = pd.read_html(url, encoding='cp949',   \n",
    "    header=0, index_col=0)# header:컬럼 이름 위치"
   ]
  },
  {
   "cell_type": "code",
   "execution_count": 439,
   "metadata": {},
   "outputs": [
    {
     "data": {
      "text/plain": [
       "12"
      ]
     },
     "execution_count": 439,
     "metadata": {},
     "output_type": "execute_result"
    }
   ],
   "source": [
    "len(df)\n",
    "#와이즈 리포트 추천 종목 표 출력하기"
   ]
  },
  {
   "cell_type": "code",
   "execution_count": 440,
   "metadata": {},
   "outputs": [],
   "source": [
    "wise = df[0]"
   ]
  },
  {
   "cell_type": "code",
   "execution_count": 441,
   "metadata": {},
   "outputs": [
    {
     "data": {
      "text/html": [
       "<div>\n",
       "<style scoped>\n",
       "    .dataframe tbody tr th:only-of-type {\n",
       "        vertical-align: middle;\n",
       "    }\n",
       "\n",
       "    .dataframe tbody tr th {\n",
       "        vertical-align: top;\n",
       "    }\n",
       "\n",
       "    .dataframe thead th {\n",
       "        text-align: right;\n",
       "    }\n",
       "</style>\n",
       "<table border=\"1\" class=\"dataframe\">\n",
       "  <thead>\n",
       "    <tr style=\"text-align: right;\">\n",
       "      <th></th>\n",
       "      <th>1주</th>\n",
       "      <th>누적</th>\n",
       "      <th>추천일</th>\n",
       "    </tr>\n",
       "    <tr>\n",
       "      <th>종목명</th>\n",
       "      <th></th>\n",
       "      <th></th>\n",
       "      <th></th>\n",
       "    </tr>\n",
       "  </thead>\n",
       "  <tbody>\n",
       "    <tr>\n",
       "      <th>아이앤씨</th>\n",
       "      <td>+17.80%</td>\n",
       "      <td>+14.02%</td>\n",
       "      <td>19.06.14</td>\n",
       "    </tr>\n",
       "    <tr>\n",
       "      <th>이녹스첨단소재</th>\n",
       "      <td>+16.34%</td>\n",
       "      <td>+31.22%</td>\n",
       "      <td>19.05.23</td>\n",
       "    </tr>\n",
       "    <tr>\n",
       "      <th>파수닷컴</th>\n",
       "      <td>+12.41%</td>\n",
       "      <td>+21.10%</td>\n",
       "      <td>19.05.21</td>\n",
       "    </tr>\n",
       "    <tr>\n",
       "      <th>인선이엔티</th>\n",
       "      <td>+11.08%</td>\n",
       "      <td>-13.37%</td>\n",
       "      <td>19.05.02</td>\n",
       "    </tr>\n",
       "    <tr>\n",
       "      <th>디바이스이엔지</th>\n",
       "      <td>+10.48%</td>\n",
       "      <td>0.00%</td>\n",
       "      <td>19.03.20</td>\n",
       "    </tr>\n",
       "  </tbody>\n",
       "</table>\n",
       "</div>"
      ],
      "text/plain": [
       "              1주       누적       추천일\n",
       "종목명                                \n",
       "아이앤씨     +17.80%  +14.02%  19.06.14\n",
       "이녹스첨단소재  +16.34%  +31.22%  19.05.23\n",
       "파수닷컴     +12.41%  +21.10%  19.05.21\n",
       "인선이엔티    +11.08%  -13.37%  19.05.02\n",
       "디바이스이엔지  +10.48%    0.00%  19.03.20"
      ]
     },
     "execution_count": 441,
     "metadata": {},
     "output_type": "execute_result"
    }
   ],
   "source": [
    "wise_save = wise.iloc[1:,1::2] # 1번째 컬럼부터 2칸씩 떨어져서 \n",
    "wise_save"
   ]
  },
  {
   "cell_type": "code",
   "execution_count": 442,
   "metadata": {
    "scrolled": true
   },
   "outputs": [
    {
     "data": {
      "text/html": [
       "<div>\n",
       "<style scoped>\n",
       "    .dataframe tbody tr th:only-of-type {\n",
       "        vertical-align: middle;\n",
       "    }\n",
       "\n",
       "    .dataframe tbody tr th {\n",
       "        vertical-align: top;\n",
       "    }\n",
       "\n",
       "    .dataframe thead th {\n",
       "        text-align: right;\n",
       "    }\n",
       "</style>\n",
       "<table border=\"1\" class=\"dataframe\">\n",
       "  <thead>\n",
       "    <tr style=\"text-align: right;\">\n",
       "      <th></th>\n",
       "      <th>1주</th>\n",
       "      <th>누적</th>\n",
       "      <th>추천일</th>\n",
       "    </tr>\n",
       "    <tr>\n",
       "      <th>종목명</th>\n",
       "      <th></th>\n",
       "      <th></th>\n",
       "      <th></th>\n",
       "    </tr>\n",
       "  </thead>\n",
       "  <tbody>\n",
       "    <tr>\n",
       "      <th>아이앤씨</th>\n",
       "      <td>+17.80</td>\n",
       "      <td>+14.02</td>\n",
       "      <td>19.06.14</td>\n",
       "    </tr>\n",
       "    <tr>\n",
       "      <th>이녹스첨단소재</th>\n",
       "      <td>+16.34</td>\n",
       "      <td>+31.22</td>\n",
       "      <td>19.05.23</td>\n",
       "    </tr>\n",
       "    <tr>\n",
       "      <th>파수닷컴</th>\n",
       "      <td>+12.41</td>\n",
       "      <td>+21.10</td>\n",
       "      <td>19.05.21</td>\n",
       "    </tr>\n",
       "    <tr>\n",
       "      <th>인선이엔티</th>\n",
       "      <td>+11.08</td>\n",
       "      <td>-13.37</td>\n",
       "      <td>19.05.02</td>\n",
       "    </tr>\n",
       "    <tr>\n",
       "      <th>디바이스이엔지</th>\n",
       "      <td>+10.48</td>\n",
       "      <td>0.00</td>\n",
       "      <td>19.03.20</td>\n",
       "    </tr>\n",
       "  </tbody>\n",
       "</table>\n",
       "</div>"
      ],
      "text/plain": [
       "             1주      누적       추천일\n",
       "종목명                              \n",
       "아이앤씨     +17.80  +14.02  19.06.14\n",
       "이녹스첨단소재  +16.34  +31.22  19.05.23\n",
       "파수닷컴     +12.41  +21.10  19.05.21\n",
       "인선이엔티    +11.08  -13.37  19.05.02\n",
       "디바이스이엔지  +10.48    0.00  19.03.20"
      ]
     },
     "execution_count": 442,
     "metadata": {},
     "output_type": "execute_result"
    }
   ],
   "source": [
    "wise_save = wise_save.replace('%', '',regex=True)\n",
    "wise_save"
   ]
  },
  {
   "cell_type": "code",
   "execution_count": 443,
   "metadata": {},
   "outputs": [],
   "source": [
    "wise_save.replace(regex=True,inplace=True,to_replace=r'\\D',value=r'')"
   ]
  },
  {
   "cell_type": "code",
   "execution_count": 449,
   "metadata": {},
   "outputs": [
    {
     "data": {
      "text/html": [
       "<div>\n",
       "<style scoped>\n",
       "    .dataframe tbody tr th:only-of-type {\n",
       "        vertical-align: middle;\n",
       "    }\n",
       "\n",
       "    .dataframe tbody tr th {\n",
       "        vertical-align: top;\n",
       "    }\n",
       "\n",
       "    .dataframe thead th {\n",
       "        text-align: right;\n",
       "    }\n",
       "</style>\n",
       "<table border=\"1\" class=\"dataframe\">\n",
       "  <thead>\n",
       "    <tr style=\"text-align: right;\">\n",
       "      <th></th>\n",
       "      <th>1주</th>\n",
       "      <th>누적</th>\n",
       "      <th>추천일</th>\n",
       "    </tr>\n",
       "    <tr>\n",
       "      <th>종목명</th>\n",
       "      <th></th>\n",
       "      <th></th>\n",
       "      <th></th>\n",
       "    </tr>\n",
       "  </thead>\n",
       "  <tbody>\n",
       "    <tr>\n",
       "      <th>아이앤씨</th>\n",
       "      <td>1780</td>\n",
       "      <td>1402</td>\n",
       "      <td>190614</td>\n",
       "    </tr>\n",
       "    <tr>\n",
       "      <th>이녹스첨단소재</th>\n",
       "      <td>1634</td>\n",
       "      <td>3122</td>\n",
       "      <td>190523</td>\n",
       "    </tr>\n",
       "    <tr>\n",
       "      <th>파수닷컴</th>\n",
       "      <td>1241</td>\n",
       "      <td>2110</td>\n",
       "      <td>190521</td>\n",
       "    </tr>\n",
       "    <tr>\n",
       "      <th>인선이엔티</th>\n",
       "      <td>1108</td>\n",
       "      <td>1337</td>\n",
       "      <td>190502</td>\n",
       "    </tr>\n",
       "    <tr>\n",
       "      <th>디바이스이엔지</th>\n",
       "      <td>1048</td>\n",
       "      <td>000</td>\n",
       "      <td>190320</td>\n",
       "    </tr>\n",
       "  </tbody>\n",
       "</table>\n",
       "</div>"
      ],
      "text/plain": [
       "           1주    누적     추천일\n",
       "종목명                        \n",
       "아이앤씨     1780  1402  190614\n",
       "이녹스첨단소재  1634  3122  190523\n",
       "파수닷컴     1241  2110  190521\n",
       "인선이엔티    1108  1337  190502\n",
       "디바이스이엔지  1048   000  190320"
      ]
     },
     "execution_count": 449,
     "metadata": {},
     "output_type": "execute_result"
    }
   ],
   "source": [
    "wise_save"
   ]
  },
  {
   "cell_type": "code",
   "execution_count": 453,
   "metadata": {},
   "outputs": [
    {
     "name": "stdout",
     "output_type": "stream",
     "text": [
      "<class 'pandas.core.frame.DataFrame'>\n",
      "Index: 5 entries, 아이앤씨 to 디바이스이엔지\n",
      "Data columns (total 3 columns):\n",
      "1주     5 non-null int32\n",
      "누적     5 non-null int32\n",
      "추천일    5 non-null object\n",
      "dtypes: int32(2), object(1)\n",
      "memory usage: 120.0+ bytes\n"
     ]
    }
   ],
   "source": [
    "wise_save[['1주','누적']] = wise_save[['1주','누적']].astype(dtype='int')\n",
    "wise_save.info()"
   ]
  },
  {
   "cell_type": "code",
   "execution_count": 454,
   "metadata": {},
   "outputs": [
    {
     "data": {
      "text/html": [
       "<div>\n",
       "<style scoped>\n",
       "    .dataframe tbody tr th:only-of-type {\n",
       "        vertical-align: middle;\n",
       "    }\n",
       "\n",
       "    .dataframe tbody tr th {\n",
       "        vertical-align: top;\n",
       "    }\n",
       "\n",
       "    .dataframe thead th {\n",
       "        text-align: right;\n",
       "    }\n",
       "</style>\n",
       "<table border=\"1\" class=\"dataframe\">\n",
       "  <thead>\n",
       "    <tr style=\"text-align: right;\">\n",
       "      <th></th>\n",
       "      <th>1주</th>\n",
       "      <th>누적</th>\n",
       "      <th>추천일</th>\n",
       "    </tr>\n",
       "    <tr>\n",
       "      <th>종목명</th>\n",
       "      <th></th>\n",
       "      <th></th>\n",
       "      <th></th>\n",
       "    </tr>\n",
       "  </thead>\n",
       "  <tbody>\n",
       "    <tr>\n",
       "      <th>아이앤씨</th>\n",
       "      <td>1780</td>\n",
       "      <td>1402</td>\n",
       "      <td>190614</td>\n",
       "    </tr>\n",
       "    <tr>\n",
       "      <th>이녹스첨단소재</th>\n",
       "      <td>1634</td>\n",
       "      <td>3122</td>\n",
       "      <td>190523</td>\n",
       "    </tr>\n",
       "    <tr>\n",
       "      <th>파수닷컴</th>\n",
       "      <td>1241</td>\n",
       "      <td>2110</td>\n",
       "      <td>190521</td>\n",
       "    </tr>\n",
       "    <tr>\n",
       "      <th>인선이엔티</th>\n",
       "      <td>1108</td>\n",
       "      <td>1337</td>\n",
       "      <td>190502</td>\n",
       "    </tr>\n",
       "    <tr>\n",
       "      <th>디바이스이엔지</th>\n",
       "      <td>1048</td>\n",
       "      <td>0</td>\n",
       "      <td>190320</td>\n",
       "    </tr>\n",
       "  </tbody>\n",
       "</table>\n",
       "</div>"
      ],
      "text/plain": [
       "           1주    누적     추천일\n",
       "종목명                        \n",
       "아이앤씨     1780  1402  190614\n",
       "이녹스첨단소재  1634  3122  190523\n",
       "파수닷컴     1241  2110  190521\n",
       "인선이엔티    1108  1337  190502\n",
       "디바이스이엔지  1048     0  190320"
      ]
     },
     "execution_count": 454,
     "metadata": {},
     "output_type": "execute_result"
    }
   ],
   "source": [
    "wise_save"
   ]
  },
  {
   "cell_type": "code",
   "execution_count": 314,
   "metadata": {},
   "outputs": [],
   "source": [
    "c1 = wise_save['1주']"
   ]
  },
  {
   "cell_type": "code",
   "execution_count": 298,
   "metadata": {},
   "outputs": [],
   "source": [
    "wise_save.to_excel('naver_wise.xlsx')"
   ]
  },
  {
   "cell_type": "code",
   "execution_count": 224,
   "metadata": {},
   "outputs": [
    {
     "name": "stdout",
     "output_type": "stream",
     "text": [
      "(79, 18)\n",
      "(12, 18)\n",
      "(11, 1)\n",
      "(6, 1)\n"
     ]
    }
   ],
   "source": [
    "for i in range(len(df)):\n",
    "    data = df[i]\n",
    "    print(data.shape)"
   ]
  },
  {
   "cell_type": "code",
   "execution_count": 225,
   "metadata": {},
   "outputs": [],
   "source": [
    "worldcup = df[0]"
   ]
  },
  {
   "cell_type": "code",
   "execution_count": 226,
   "metadata": {
    "scrolled": true
   },
   "outputs": [
    {
     "data": {
      "text/plain": [
       "Index(['Team', 'T', 'S', 'P', 'W', 'D', 'L', 'F', 'A', 'GD', 'T.1', 'A.1',\n",
       "       'T.2', 'A.2', 'T.3', 'A.3', 'Best finish', 'Confederation'],\n",
       "      dtype='object')"
      ]
     },
     "execution_count": 226,
     "metadata": {},
     "output_type": "execute_result"
    }
   ],
   "source": [
    "worldcup.columns"
   ]
  },
  {
   "cell_type": "code",
   "execution_count": 232,
   "metadata": {},
   "outputs": [],
   "source": [
    "#컬럼 'T' 내림차순으로 정렬해서 엑셀로 저장합니다\n",
    "worldcup.shape\n",
    "worldcup_sort = worldcup.sort_values('T', ascending=False)"
   ]
  },
  {
   "cell_type": "code",
   "execution_count": 233,
   "metadata": {},
   "outputs": [],
   "source": [
    "worldcup_sort.to_excel('worldcup.xlsx')"
   ]
  },
  {
   "cell_type": "code",
   "execution_count": 244,
   "metadata": {},
   "outputs": [
    {
     "data": {
      "text/plain": [
       "True"
      ]
     },
     "execution_count": 244,
     "metadata": {},
     "output_type": "execute_result"
    }
   ],
   "source": [
    "'South Korea' in worldcup.Team.values"
   ]
  },
  {
   "cell_type": "code",
   "execution_count": 227,
   "metadata": {},
   "outputs": [
    {
     "data": {
      "text/html": [
       "<div>\n",
       "<style scoped>\n",
       "    .dataframe tbody tr th:only-of-type {\n",
       "        vertical-align: middle;\n",
       "    }\n",
       "\n",
       "    .dataframe tbody tr th {\n",
       "        vertical-align: top;\n",
       "    }\n",
       "\n",
       "    .dataframe thead th {\n",
       "        text-align: right;\n",
       "    }\n",
       "</style>\n",
       "<table border=\"1\" class=\"dataframe\">\n",
       "  <thead>\n",
       "    <tr style=\"text-align: right;\">\n",
       "      <th></th>\n",
       "      <th>Team</th>\n",
       "      <th>T</th>\n",
       "      <th>S</th>\n",
       "      <th>P</th>\n",
       "      <th>W</th>\n",
       "      <th>D</th>\n",
       "      <th>L</th>\n",
       "      <th>F</th>\n",
       "      <th>A</th>\n",
       "      <th>GD</th>\n",
       "      <th>T.1</th>\n",
       "      <th>A.1</th>\n",
       "      <th>T.2</th>\n",
       "      <th>A.2</th>\n",
       "      <th>T.3</th>\n",
       "      <th>A.3</th>\n",
       "      <th>Best finish</th>\n",
       "      <th>Confederation</th>\n",
       "    </tr>\n",
       "    <tr>\n",
       "      <th>№</th>\n",
       "      <th></th>\n",
       "      <th></th>\n",
       "      <th></th>\n",
       "      <th></th>\n",
       "      <th></th>\n",
       "      <th></th>\n",
       "      <th></th>\n",
       "      <th></th>\n",
       "      <th></th>\n",
       "      <th></th>\n",
       "      <th></th>\n",
       "      <th></th>\n",
       "      <th></th>\n",
       "      <th></th>\n",
       "      <th></th>\n",
       "      <th></th>\n",
       "      <th></th>\n",
       "      <th></th>\n",
       "    </tr>\n",
       "  </thead>\n",
       "  <tbody>\n",
       "    <tr>\n",
       "      <th>1</th>\n",
       "      <td>Brazil</td>\n",
       "      <td>21</td>\n",
       "      <td>+21</td>\n",
       "      <td>109</td>\n",
       "      <td>73</td>\n",
       "      <td>18</td>\n",
       "      <td>18</td>\n",
       "      <td>229</td>\n",
       "      <td>105</td>\n",
       "      <td>+124</td>\n",
       "      <td>237</td>\n",
       "      <td>2.174</td>\n",
       "      <td>164</td>\n",
       "      <td>1.505</td>\n",
       "      <td>193</td>\n",
       "      <td>1.771</td>\n",
       "      <td>Champion (1958, 1962, 1970, 1994, 2002)</td>\n",
       "      <td>CONMEBOL</td>\n",
       "    </tr>\n",
       "    <tr>\n",
       "      <th>2</th>\n",
       "      <td>Germany[A]</td>\n",
       "      <td>19</td>\n",
       "      <td>+17</td>\n",
       "      <td>109</td>\n",
       "      <td>67</td>\n",
       "      <td>20</td>\n",
       "      <td>22</td>\n",
       "      <td>226</td>\n",
       "      <td>125</td>\n",
       "      <td>+101</td>\n",
       "      <td>221</td>\n",
       "      <td>2.028</td>\n",
       "      <td>154</td>\n",
       "      <td>1.413</td>\n",
       "      <td>182</td>\n",
       "      <td>1.670</td>\n",
       "      <td>Champion (1954, 1974, 1990, 2014)</td>\n",
       "      <td>UEFA</td>\n",
       "    </tr>\n",
       "    <tr>\n",
       "      <th>3</th>\n",
       "      <td>Italy</td>\n",
       "      <td>18</td>\n",
       "      <td>−1</td>\n",
       "      <td>83</td>\n",
       "      <td>45</td>\n",
       "      <td>21</td>\n",
       "      <td>17</td>\n",
       "      <td>128</td>\n",
       "      <td>77</td>\n",
       "      <td>+51</td>\n",
       "      <td>156</td>\n",
       "      <td>1.880</td>\n",
       "      <td>111</td>\n",
       "      <td>1.337</td>\n",
       "      <td>125</td>\n",
       "      <td>1.506</td>\n",
       "      <td>Champion (1934, 1938, 1982, 2006)</td>\n",
       "      <td>UEFA</td>\n",
       "    </tr>\n",
       "  </tbody>\n",
       "</table>\n",
       "</div>"
      ],
      "text/plain": [
       "         Team   T    S    P   W   D   L    F    A    GD  T.1    A.1  T.2  \\\n",
       "№                                                                          \n",
       "1      Brazil  21  +21  109  73  18  18  229  105  +124  237  2.174  164   \n",
       "2  Germany[A]  19  +17  109  67  20  22  226  125  +101  221  2.028  154   \n",
       "3       Italy  18   −1   83  45  21  17  128   77   +51  156  1.880  111   \n",
       "\n",
       "     A.2  T.3    A.3                              Best finish Confederation  \n",
       "№                                                                            \n",
       "1  1.505  193  1.771  Champion (1958, 1962, 1970, 1994, 2002)      CONMEBOL  \n",
       "2  1.413  182  1.670        Champion (1954, 1974, 1990, 2014)          UEFA  \n",
       "3  1.337  125  1.506        Champion (1934, 1938, 1982, 2006)          UEFA  "
      ]
     },
     "execution_count": 227,
     "metadata": {},
     "output_type": "execute_result"
    }
   ],
   "source": [
    "worldcup.head(3)"
   ]
  },
  {
   "cell_type": "code",
   "execution_count": 259,
   "metadata": {},
   "outputs": [],
   "source": [
    "#x = pd.read_html('https://finance.yahoo.com/quote/AMZN/history?p=AMZN')\n",
    "x = pd.read_html('https://finance.naver.com/', encoding='cp949')\n"
   ]
  },
  {
   "cell_type": "code",
   "execution_count": 260,
   "metadata": {},
   "outputs": [
    {
     "data": {
      "text/plain": [
       "12"
      ]
     },
     "execution_count": 260,
     "metadata": {},
     "output_type": "execute_result"
    }
   ],
   "source": [
    "len(x)"
   ]
  },
  {
   "cell_type": "code",
   "execution_count": 261,
   "metadata": {},
   "outputs": [
    {
     "data": {
      "text/plain": [
       "(6, 7)"
      ]
     },
     "execution_count": 261,
     "metadata": {},
     "output_type": "execute_result"
    }
   ],
   "source": [
    "x[0].shape"
   ]
  },
  {
   "cell_type": "code",
   "execution_count": 262,
   "metadata": {
    "scrolled": true
   },
   "outputs": [
    {
     "data": {
      "text/html": [
       "<div>\n",
       "<style scoped>\n",
       "    .dataframe tbody tr th:only-of-type {\n",
       "        vertical-align: middle;\n",
       "    }\n",
       "\n",
       "    .dataframe tbody tr th {\n",
       "        vertical-align: top;\n",
       "    }\n",
       "\n",
       "    .dataframe thead th {\n",
       "        text-align: right;\n",
       "    }\n",
       "</style>\n",
       "<table border=\"1\" class=\"dataframe\">\n",
       "  <thead>\n",
       "    <tr style=\"text-align: right;\">\n",
       "      <th></th>\n",
       "      <th>종목명</th>\n",
       "      <th>Unnamed: 1</th>\n",
       "      <th>1주</th>\n",
       "      <th>Unnamed: 3</th>\n",
       "      <th>누적</th>\n",
       "      <th>Unnamed: 5</th>\n",
       "      <th>추천일</th>\n",
       "    </tr>\n",
       "  </thead>\n",
       "  <tbody>\n",
       "    <tr>\n",
       "      <th>0</th>\n",
       "      <td>NaN</td>\n",
       "      <td>NaN</td>\n",
       "      <td>NaN</td>\n",
       "      <td>NaN</td>\n",
       "      <td>NaN</td>\n",
       "      <td>NaN</td>\n",
       "      <td>NaN</td>\n",
       "    </tr>\n",
       "    <tr>\n",
       "      <th>1</th>\n",
       "      <td>아이앤씨</td>\n",
       "      <td>NaN</td>\n",
       "      <td>+17.80%</td>\n",
       "      <td>NaN</td>\n",
       "      <td>+14.02%</td>\n",
       "      <td>NaN</td>\n",
       "      <td>19.06.14</td>\n",
       "    </tr>\n",
       "    <tr>\n",
       "      <th>2</th>\n",
       "      <td>이녹스첨단소재</td>\n",
       "      <td>NaN</td>\n",
       "      <td>+16.34%</td>\n",
       "      <td>NaN</td>\n",
       "      <td>+31.22%</td>\n",
       "      <td>NaN</td>\n",
       "      <td>19.05.23</td>\n",
       "    </tr>\n",
       "    <tr>\n",
       "      <th>3</th>\n",
       "      <td>파수닷컴</td>\n",
       "      <td>NaN</td>\n",
       "      <td>+12.41%</td>\n",
       "      <td>NaN</td>\n",
       "      <td>+21.10%</td>\n",
       "      <td>NaN</td>\n",
       "      <td>19.05.21</td>\n",
       "    </tr>\n",
       "    <tr>\n",
       "      <th>4</th>\n",
       "      <td>인선이엔티</td>\n",
       "      <td>NaN</td>\n",
       "      <td>+11.08%</td>\n",
       "      <td>NaN</td>\n",
       "      <td>-13.37%</td>\n",
       "      <td>NaN</td>\n",
       "      <td>19.05.02</td>\n",
       "    </tr>\n",
       "    <tr>\n",
       "      <th>5</th>\n",
       "      <td>디바이스이엔지</td>\n",
       "      <td>NaN</td>\n",
       "      <td>+10.48%</td>\n",
       "      <td>NaN</td>\n",
       "      <td>0.00%</td>\n",
       "      <td>NaN</td>\n",
       "      <td>19.03.20</td>\n",
       "    </tr>\n",
       "  </tbody>\n",
       "</table>\n",
       "</div>"
      ],
      "text/plain": [
       "       종목명  Unnamed: 1       1주  Unnamed: 3       누적  Unnamed: 5       추천일\n",
       "0      NaN         NaN      NaN         NaN      NaN         NaN       NaN\n",
       "1     아이앤씨         NaN  +17.80%         NaN  +14.02%         NaN  19.06.14\n",
       "2  이녹스첨단소재         NaN  +16.34%         NaN  +31.22%         NaN  19.05.23\n",
       "3     파수닷컴         NaN  +12.41%         NaN  +21.10%         NaN  19.05.21\n",
       "4    인선이엔티         NaN  +11.08%         NaN  -13.37%         NaN  19.05.02\n",
       "5  디바이스이엔지         NaN  +10.48%         NaN    0.00%         NaN  19.03.20"
      ]
     },
     "execution_count": 262,
     "metadata": {},
     "output_type": "execute_result"
    }
   ],
   "source": [
    "x[0]"
   ]
  },
  {
   "cell_type": "markdown",
   "metadata": {},
   "source": [
    "- 259 pandas 란 panel datas 데이터 분석용 라이브러리\n",
    "- values 를 numpy 로 관리\n",
    "- 컬럼 > 시리즈, 표 > 데이터 프레임"
   ]
  },
  {
   "cell_type": "code",
   "execution_count": 316,
   "metadata": {},
   "outputs": [],
   "source": [
    "#260\n",
    "index = pd.date_range('1/1/2000', periods=8)"
   ]
  },
  {
   "cell_type": "code",
   "execution_count": 317,
   "metadata": {},
   "outputs": [
    {
     "data": {
      "text/plain": [
       "DatetimeIndex(['2000-01-01', '2000-01-02', '2000-01-03', '2000-01-04',\n",
       "               '2000-01-05', '2000-01-06', '2000-01-07', '2000-01-08'],\n",
       "              dtype='datetime64[ns]', freq='D')"
      ]
     },
     "execution_count": 317,
     "metadata": {},
     "output_type": "execute_result"
    }
   ],
   "source": [
    "index"
   ]
  },
  {
   "cell_type": "code",
   "execution_count": 369,
   "metadata": {},
   "outputs": [],
   "source": [
    "# dataframe의 구성요소 (values=data, index, columns)\n",
    "df = pd.DataFrame(data=np.random.rand(8,3), index=index, columns=list('abc'))\n",
    "#df = pd.DataFrame(data=np.random.rand(8,3), index=index, columns=['A','B','C'])\n",
    "#df = pd.DataFrame(data=np.random.rand(8,3))"
   ]
  },
  {
   "cell_type": "code",
   "execution_count": 370,
   "metadata": {
    "scrolled": true
   },
   "outputs": [
    {
     "data": {
      "text/html": [
       "<div>\n",
       "<style scoped>\n",
       "    .dataframe tbody tr th:only-of-type {\n",
       "        vertical-align: middle;\n",
       "    }\n",
       "\n",
       "    .dataframe tbody tr th {\n",
       "        vertical-align: top;\n",
       "    }\n",
       "\n",
       "    .dataframe thead th {\n",
       "        text-align: right;\n",
       "    }\n",
       "</style>\n",
       "<table border=\"1\" class=\"dataframe\">\n",
       "  <thead>\n",
       "    <tr style=\"text-align: right;\">\n",
       "      <th></th>\n",
       "      <th>a</th>\n",
       "      <th>b</th>\n",
       "      <th>c</th>\n",
       "    </tr>\n",
       "  </thead>\n",
       "  <tbody>\n",
       "    <tr>\n",
       "      <th>2000-01-01</th>\n",
       "      <td>0.727793</td>\n",
       "      <td>0.314252</td>\n",
       "      <td>0.024387</td>\n",
       "    </tr>\n",
       "    <tr>\n",
       "      <th>2000-01-02</th>\n",
       "      <td>0.798414</td>\n",
       "      <td>0.801685</td>\n",
       "      <td>0.056420</td>\n",
       "    </tr>\n",
       "  </tbody>\n",
       "</table>\n",
       "</div>"
      ],
      "text/plain": [
       "                   a         b         c\n",
       "2000-01-01  0.727793  0.314252  0.024387\n",
       "2000-01-02  0.798414  0.801685  0.056420"
      ]
     },
     "execution_count": 370,
     "metadata": {},
     "output_type": "execute_result"
    }
   ],
   "source": [
    "df.head(2)"
   ]
  },
  {
   "cell_type": "code",
   "execution_count": 376,
   "metadata": {},
   "outputs": [
    {
     "data": {
      "text/html": [
       "<div>\n",
       "<style scoped>\n",
       "    .dataframe tbody tr th:only-of-type {\n",
       "        vertical-align: middle;\n",
       "    }\n",
       "\n",
       "    .dataframe tbody tr th {\n",
       "        vertical-align: top;\n",
       "    }\n",
       "\n",
       "    .dataframe thead th {\n",
       "        text-align: right;\n",
       "    }\n",
       "</style>\n",
       "<table border=\"1\" class=\"dataframe\">\n",
       "  <thead>\n",
       "    <tr style=\"text-align: right;\">\n",
       "      <th></th>\n",
       "      <th>a</th>\n",
       "      <th>b</th>\n",
       "      <th>c</th>\n",
       "      <th>D</th>\n",
       "      <th>E</th>\n",
       "    </tr>\n",
       "  </thead>\n",
       "  <tbody>\n",
       "    <tr>\n",
       "      <th>2000-01-01</th>\n",
       "      <td>0.727793</td>\n",
       "      <td>0.314252</td>\n",
       "      <td>0.024387</td>\n",
       "      <td>2.315954</td>\n",
       "      <td>3.382386</td>\n",
       "    </tr>\n",
       "    <tr>\n",
       "      <th>2000-01-02</th>\n",
       "      <td>0.798414</td>\n",
       "      <td>0.801685</td>\n",
       "      <td>0.056420</td>\n",
       "      <td>0.995920</td>\n",
       "      <td>2.652439</td>\n",
       "    </tr>\n",
       "    <tr>\n",
       "      <th>2000-01-03</th>\n",
       "      <td>0.435560</td>\n",
       "      <td>0.410962</td>\n",
       "      <td>0.695733</td>\n",
       "      <td>1.059854</td>\n",
       "      <td>2.602109</td>\n",
       "    </tr>\n",
       "    <tr>\n",
       "      <th>2000-01-04</th>\n",
       "      <td>0.168911</td>\n",
       "      <td>0.492421</td>\n",
       "      <td>0.617867</td>\n",
       "      <td>0.343022</td>\n",
       "      <td>1.622221</td>\n",
       "    </tr>\n",
       "    <tr>\n",
       "      <th>2000-01-05</th>\n",
       "      <td>0.252302</td>\n",
       "      <td>0.354403</td>\n",
       "      <td>0.178964</td>\n",
       "      <td>0.711907</td>\n",
       "      <td>1.497576</td>\n",
       "    </tr>\n",
       "  </tbody>\n",
       "</table>\n",
       "</div>"
      ],
      "text/plain": [
       "                   a         b         c         D         E\n",
       "2000-01-01  0.727793  0.314252  0.024387  2.315954  3.382386\n",
       "2000-01-02  0.798414  0.801685  0.056420  0.995920  2.652439\n",
       "2000-01-03  0.435560  0.410962  0.695733  1.059854  2.602109\n",
       "2000-01-04  0.168911  0.492421  0.617867  0.343022  1.622221\n",
       "2000-01-05  0.252302  0.354403  0.178964  0.711907  1.497576"
      ]
     },
     "execution_count": 376,
     "metadata": {},
     "output_type": "execute_result"
    }
   ],
   "source": [
    "#265\n",
    "df['D'] = df['a'] / df['b']\n",
    "df['E'] = np.sum(df, axis=1)\n",
    "df.head()"
   ]
  },
  {
   "cell_type": "code",
   "execution_count": 379,
   "metadata": {},
   "outputs": [],
   "source": [
    "#267 \n",
    "df.to_csv('test.csv',sep=',',float_format='%.2f')"
   ]
  },
  {
   "cell_type": "code",
   "execution_count": null,
   "metadata": {},
   "outputs": [],
   "source": [
    "2시 시작"
   ]
  },
  {
   "cell_type": "code",
   "execution_count": 336,
   "metadata": {},
   "outputs": [
    {
     "data": {
      "text/plain": [
       "2000-01-02    0.763543\n",
       "2000-01-03    0.928329\n",
       "2000-01-04    0.872149\n",
       "2000-01-06    0.606886\n",
       "2000-01-08    0.530544\n",
       "Name: a, dtype: float64"
      ]
     },
     "execution_count": 336,
     "metadata": {},
     "output_type": "execute_result"
    }
   ],
   "source": [
    "# Boolean Mask a컬럼에서 0.5 보다 큰 값만 뽑기   x[x>0.5]\n",
    "a = df['a']\n",
    "a[a > 0.5]"
   ]
  },
  {
   "cell_type": "code",
   "execution_count": 340,
   "metadata": {},
   "outputs": [
    {
     "data": {
      "text/html": [
       "<div>\n",
       "<style scoped>\n",
       "    .dataframe tbody tr th:only-of-type {\n",
       "        vertical-align: middle;\n",
       "    }\n",
       "\n",
       "    .dataframe tbody tr th {\n",
       "        vertical-align: top;\n",
       "    }\n",
       "\n",
       "    .dataframe thead th {\n",
       "        text-align: right;\n",
       "    }\n",
       "</style>\n",
       "<table border=\"1\" class=\"dataframe\">\n",
       "  <thead>\n",
       "    <tr style=\"text-align: right;\">\n",
       "      <th></th>\n",
       "      <th>2000-01-01 00:00:00</th>\n",
       "      <th>2000-01-02 00:00:00</th>\n",
       "      <th>2000-01-03 00:00:00</th>\n",
       "      <th>2000-01-04 00:00:00</th>\n",
       "      <th>2000-01-05 00:00:00</th>\n",
       "      <th>2000-01-06 00:00:00</th>\n",
       "      <th>2000-01-07 00:00:00</th>\n",
       "      <th>2000-01-08 00:00:00</th>\n",
       "    </tr>\n",
       "  </thead>\n",
       "  <tbody>\n",
       "    <tr>\n",
       "      <th>a</th>\n",
       "      <td>0.117763</td>\n",
       "      <td>0.763543</td>\n",
       "      <td>0.928329</td>\n",
       "      <td>0.872149</td>\n",
       "      <td>0.104920</td>\n",
       "      <td>0.606886</td>\n",
       "      <td>0.074163</td>\n",
       "      <td>0.530544</td>\n",
       "    </tr>\n",
       "    <tr>\n",
       "      <th>b</th>\n",
       "      <td>0.655890</td>\n",
       "      <td>0.789196</td>\n",
       "      <td>0.472106</td>\n",
       "      <td>0.503166</td>\n",
       "      <td>0.691953</td>\n",
       "      <td>0.291303</td>\n",
       "      <td>0.073034</td>\n",
       "      <td>0.247736</td>\n",
       "    </tr>\n",
       "    <tr>\n",
       "      <th>c</th>\n",
       "      <td>0.920861</td>\n",
       "      <td>0.100214</td>\n",
       "      <td>0.125275</td>\n",
       "      <td>0.071709</td>\n",
       "      <td>0.243444</td>\n",
       "      <td>0.643230</td>\n",
       "      <td>0.780472</td>\n",
       "      <td>0.826521</td>\n",
       "    </tr>\n",
       "  </tbody>\n",
       "</table>\n",
       "</div>"
      ],
      "text/plain": [
       "   2000-01-01  2000-01-02  2000-01-03  2000-01-04  2000-01-05  2000-01-06  \\\n",
       "a    0.117763    0.763543    0.928329    0.872149    0.104920    0.606886   \n",
       "b    0.655890    0.789196    0.472106    0.503166    0.691953    0.291303   \n",
       "c    0.920861    0.100214    0.125275    0.071709    0.243444    0.643230   \n",
       "\n",
       "   2000-01-07  2000-01-08  \n",
       "a    0.074163    0.530544  \n",
       "b    0.073034    0.247736  \n",
       "c    0.780472    0.826521  "
      ]
     },
     "execution_count": 340,
     "metadata": {},
     "output_type": "execute_result"
    }
   ],
   "source": [
    "df.T #transpose"
   ]
  },
  {
   "cell_type": "code",
   "execution_count": 348,
   "metadata": {},
   "outputs": [],
   "source": [
    "a = df['a']\n",
    "b = df['b']"
   ]
  },
  {
   "cell_type": "code",
   "execution_count": 352,
   "metadata": {},
   "outputs": [],
   "source": [
    "a_b_mean = (a + b) / 2"
   ]
  },
  {
   "cell_type": "code",
   "execution_count": 361,
   "metadata": {},
   "outputs": [
    {
     "data": {
      "text/plain": [
       "{'b': 5, 'c': 10}"
      ]
     },
     "execution_count": 361,
     "metadata": {},
     "output_type": "execute_result"
    }
   ],
   "source": [
    "# dictionary 에 새로운 키 추가하기, 키 제거하기\n",
    "d = {'a':4, 'b':5}  #'c': 10\n",
    "d['c'] = 10\n",
    "d\n",
    "del d['a']\n",
    "d"
   ]
  },
  {
   "cell_type": "code",
   "execution_count": 358,
   "metadata": {},
   "outputs": [],
   "source": [
    "df['ab_mean'] = a_b_mean # 새로운 컬럼 추가하기 "
   ]
  },
  {
   "cell_type": "code",
   "execution_count": null,
   "metadata": {},
   "outputs": [],
   "source": [
    "del['a']"
   ]
  },
  {
   "cell_type": "code",
   "execution_count": 366,
   "metadata": {},
   "outputs": [
    {
     "data": {
      "text/html": [
       "<div>\n",
       "<style scoped>\n",
       "    .dataframe tbody tr th:only-of-type {\n",
       "        vertical-align: middle;\n",
       "    }\n",
       "\n",
       "    .dataframe tbody tr th {\n",
       "        vertical-align: top;\n",
       "    }\n",
       "\n",
       "    .dataframe thead th {\n",
       "        text-align: right;\n",
       "    }\n",
       "</style>\n",
       "<table border=\"1\" class=\"dataframe\">\n",
       "  <thead>\n",
       "    <tr style=\"text-align: right;\">\n",
       "      <th></th>\n",
       "      <th>b</th>\n",
       "      <th>c</th>\n",
       "      <th>ab_mean</th>\n",
       "    </tr>\n",
       "  </thead>\n",
       "  <tbody>\n",
       "    <tr>\n",
       "      <th>2000-01-01</th>\n",
       "      <td>0.655890</td>\n",
       "      <td>0.920861</td>\n",
       "      <td>0.386827</td>\n",
       "    </tr>\n",
       "    <tr>\n",
       "      <th>2000-01-02</th>\n",
       "      <td>0.789196</td>\n",
       "      <td>0.100214</td>\n",
       "      <td>0.776370</td>\n",
       "    </tr>\n",
       "    <tr>\n",
       "      <th>2000-01-03</th>\n",
       "      <td>0.472106</td>\n",
       "      <td>0.125275</td>\n",
       "      <td>0.700217</td>\n",
       "    </tr>\n",
       "    <tr>\n",
       "      <th>2000-01-04</th>\n",
       "      <td>0.503166</td>\n",
       "      <td>0.071709</td>\n",
       "      <td>0.687657</td>\n",
       "    </tr>\n",
       "    <tr>\n",
       "      <th>2000-01-05</th>\n",
       "      <td>0.691953</td>\n",
       "      <td>0.243444</td>\n",
       "      <td>0.398436</td>\n",
       "    </tr>\n",
       "    <tr>\n",
       "      <th>2000-01-06</th>\n",
       "      <td>0.291303</td>\n",
       "      <td>0.643230</td>\n",
       "      <td>0.449094</td>\n",
       "    </tr>\n",
       "    <tr>\n",
       "      <th>2000-01-07</th>\n",
       "      <td>0.073034</td>\n",
       "      <td>0.780472</td>\n",
       "      <td>0.073598</td>\n",
       "    </tr>\n",
       "    <tr>\n",
       "      <th>2000-01-08</th>\n",
       "      <td>0.247736</td>\n",
       "      <td>0.826521</td>\n",
       "      <td>0.389140</td>\n",
       "    </tr>\n",
       "  </tbody>\n",
       "</table>\n",
       "</div>"
      ],
      "text/plain": [
       "                   b         c   ab_mean\n",
       "2000-01-01  0.655890  0.920861  0.386827\n",
       "2000-01-02  0.789196  0.100214  0.776370\n",
       "2000-01-03  0.472106  0.125275  0.700217\n",
       "2000-01-04  0.503166  0.071709  0.687657\n",
       "2000-01-05  0.691953  0.243444  0.398436\n",
       "2000-01-06  0.291303  0.643230  0.449094\n",
       "2000-01-07  0.073034  0.780472  0.073598\n",
       "2000-01-08  0.247736  0.826521  0.389140"
      ]
     },
     "execution_count": 366,
     "metadata": {},
     "output_type": "execute_result"
    }
   ],
   "source": [
    "df"
   ]
  },
  {
   "cell_type": "markdown",
   "metadata": {},
   "source": [
    "#268 pandas 로 인구 구조 분석하기"
   ]
  },
  {
   "cell_type": "code",
   "execution_count": 467,
   "metadata": {
    "scrolled": true
   },
   "outputs": [
    {
     "data": {
      "text/plain": [
       "(3841, 9)"
      ]
     },
     "execution_count": 467,
     "metadata": {},
     "output_type": "execute_result"
    }
   ],
   "source": [
    "df = pd.read_csv('age.csv', index_col=0)\n",
    "df.shape #103"
   ]
  },
  {
   "cell_type": "code",
   "execution_count": 475,
   "metadata": {},
   "outputs": [],
   "source": [
    "df = df.dropna()# 누락 행 제거"
   ]
  },
  {
   "cell_type": "code",
   "execution_count": 476,
   "metadata": {},
   "outputs": [],
   "source": [
    "df = df.replace(',','', regex=True)"
   ]
  },
  {
   "cell_type": "code",
   "execution_count": 479,
   "metadata": {},
   "outputs": [],
   "source": [
    "a = df.astype('int')"
   ]
  },
  {
   "cell_type": "code",
   "execution_count": 494,
   "metadata": {
    "scrolled": false
   },
   "outputs": [
    {
     "data": {
      "text/html": [
       "<div>\n",
       "<style scoped>\n",
       "    .dataframe tbody tr th:only-of-type {\n",
       "        vertical-align: middle;\n",
       "    }\n",
       "\n",
       "    .dataframe tbody tr th {\n",
       "        vertical-align: top;\n",
       "    }\n",
       "\n",
       "    .dataframe thead th {\n",
       "        text-align: right;\n",
       "    }\n",
       "</style>\n",
       "<table border=\"1\" class=\"dataframe\">\n",
       "  <thead>\n",
       "    <tr style=\"text-align: right;\">\n",
       "      <th></th>\n",
       "      <th>2019년02월_계_0세</th>\n",
       "      <th>2019년02월_남_총인구수</th>\n",
       "      <th>2019년02월_남_연령구간인구수</th>\n",
       "      <th>2019년02월_남_0세</th>\n",
       "      <th>2019년02월_여_총인구수</th>\n",
       "      <th>2019년02월_여_연령구간인구수</th>\n",
       "      <th>2019년02월_여_0세</th>\n",
       "    </tr>\n",
       "    <tr>\n",
       "      <th>행정구역</th>\n",
       "      <th></th>\n",
       "      <th></th>\n",
       "      <th></th>\n",
       "      <th></th>\n",
       "      <th></th>\n",
       "      <th></th>\n",
       "      <th></th>\n",
       "    </tr>\n",
       "  </thead>\n",
       "  <tbody>\n",
       "    <tr>\n",
       "      <th>서울특별시  (1100000000)</th>\n",
       "      <td>0.0055</td>\n",
       "      <td>0.488566</td>\n",
       "      <td>0.002863</td>\n",
       "      <td>0.002863</td>\n",
       "      <td>0.511434</td>\n",
       "      <td>0.002637</td>\n",
       "      <td>0.002637</td>\n",
       "    </tr>\n",
       "  </tbody>\n",
       "</table>\n",
       "</div>"
      ],
      "text/plain": [
       "                     2019년02월_계_0세  2019년02월_남_총인구수  2019년02월_남_연령구간인구수  \\\n",
       "행정구역                                                                      \n",
       "서울특별시  (1100000000)         0.0055         0.488566            0.002863   \n",
       "\n",
       "                     2019년02월_남_0세  2019년02월_여_총인구수  2019년02월_여_연령구간인구수  \\\n",
       "행정구역                                                                      \n",
       "서울특별시  (1100000000)       0.002863         0.511434            0.002637   \n",
       "\n",
       "                     2019년02월_여_0세  \n",
       "행정구역                                \n",
       "서울특별시  (1100000000)       0.002637  "
      ]
     },
     "execution_count": 494,
     "metadata": {},
     "output_type": "execute_result"
    }
   ],
   "source": [
    "#1. 인구를 총 인구수로 나눈다.  인구수 > 비율 \n",
    "b = a.div(a.iloc[:, 0], axis=0)#비율 데이터\n",
    "c = b.iloc[:, 2:] #컬럼 2개 빼고 선택\n",
    "c.head(1)"
   ]
  },
  {
   "cell_type": "code",
   "execution_count": 535,
   "metadata": {},
   "outputs": [
    {
     "name": "stdout",
     "output_type": "stream",
     "text": [
      "궁금한 지역이 어디에요?인천\n"
     ]
    },
    {
     "data": {
      "text/plain": [
       "'인천'"
      ]
     },
     "execution_count": 535,
     "metadata": {},
     "output_type": "execute_result"
    }
   ],
   "source": [
    "#2. 궁금한 지역의 이름을 입력받는다\n",
    "name = input('궁금한 지역이 어디에요?')\n",
    "name"
   ]
  },
  {
   "cell_type": "code",
   "execution_count": 540,
   "metadata": {
    "scrolled": true
   },
   "outputs": [
    {
     "data": {
      "text/html": [
       "<div>\n",
       "<style scoped>\n",
       "    .dataframe tbody tr th:only-of-type {\n",
       "        vertical-align: middle;\n",
       "    }\n",
       "\n",
       "    .dataframe tbody tr th {\n",
       "        vertical-align: top;\n",
       "    }\n",
       "\n",
       "    .dataframe thead th {\n",
       "        text-align: right;\n",
       "    }\n",
       "</style>\n",
       "<table border=\"1\" class=\"dataframe\">\n",
       "  <thead>\n",
       "    <tr style=\"text-align: right;\">\n",
       "      <th></th>\n",
       "      <th>2019년02월_계_0세</th>\n",
       "      <th>2019년02월_남_총인구수</th>\n",
       "      <th>2019년02월_남_연령구간인구수</th>\n",
       "      <th>2019년02월_남_0세</th>\n",
       "      <th>2019년02월_여_총인구수</th>\n",
       "      <th>2019년02월_여_연령구간인구수</th>\n",
       "      <th>2019년02월_여_0세</th>\n",
       "    </tr>\n",
       "    <tr>\n",
       "      <th>행정구역</th>\n",
       "      <th></th>\n",
       "      <th></th>\n",
       "      <th></th>\n",
       "      <th></th>\n",
       "      <th></th>\n",
       "      <th></th>\n",
       "      <th></th>\n",
       "    </tr>\n",
       "  </thead>\n",
       "  <tbody>\n",
       "    <tr>\n",
       "      <th>인천광역시  (2800000000)</th>\n",
       "      <td>0.006341</td>\n",
       "      <td>0.501491</td>\n",
       "      <td>0.003233</td>\n",
       "      <td>0.003233</td>\n",
       "      <td>0.498509</td>\n",
       "      <td>0.003108</td>\n",
       "      <td>0.003108</td>\n",
       "    </tr>\n",
       "    <tr>\n",
       "      <th>인천광역시 중구 (2811000000)</th>\n",
       "      <td>0.006343</td>\n",
       "      <td>0.519460</td>\n",
       "      <td>0.003407</td>\n",
       "      <td>0.003407</td>\n",
       "      <td>0.480540</td>\n",
       "      <td>0.002936</td>\n",
       "      <td>0.002936</td>\n",
       "    </tr>\n",
       "    <tr>\n",
       "      <th>인천광역시 중구 연안동(2811052000)</th>\n",
       "      <td>0.003386</td>\n",
       "      <td>0.538348</td>\n",
       "      <td>0.001914</td>\n",
       "      <td>0.001914</td>\n",
       "      <td>0.461652</td>\n",
       "      <td>0.001472</td>\n",
       "      <td>0.001472</td>\n",
       "    </tr>\n",
       "    <tr>\n",
       "      <th>인천광역시 중구 신포동(2811053000)</th>\n",
       "      <td>0.002221</td>\n",
       "      <td>0.504073</td>\n",
       "      <td>0.001481</td>\n",
       "      <td>0.001481</td>\n",
       "      <td>0.495927</td>\n",
       "      <td>0.000740</td>\n",
       "      <td>0.000740</td>\n",
       "    </tr>\n",
       "    <tr>\n",
       "      <th>인천광역시 중구 신흥동(2811054000)</th>\n",
       "      <td>0.005651</td>\n",
       "      <td>0.509128</td>\n",
       "      <td>0.002825</td>\n",
       "      <td>0.002825</td>\n",
       "      <td>0.490872</td>\n",
       "      <td>0.002825</td>\n",
       "      <td>0.002825</td>\n",
       "    </tr>\n",
       "  </tbody>\n",
       "</table>\n",
       "</div>"
      ],
      "text/plain": [
       "                          2019년02월_계_0세  2019년02월_남_총인구수  2019년02월_남_연령구간인구수  \\\n",
       "행정구역                                                                           \n",
       "인천광역시  (2800000000)            0.006341         0.501491            0.003233   \n",
       "인천광역시 중구 (2811000000)          0.006343         0.519460            0.003407   \n",
       "인천광역시 중구 연안동(2811052000)       0.003386         0.538348            0.001914   \n",
       "인천광역시 중구 신포동(2811053000)       0.002221         0.504073            0.001481   \n",
       "인천광역시 중구 신흥동(2811054000)       0.005651         0.509128            0.002825   \n",
       "\n",
       "                          2019년02월_남_0세  2019년02월_여_총인구수  2019년02월_여_연령구간인구수  \\\n",
       "행정구역                                                                           \n",
       "인천광역시  (2800000000)            0.003233         0.498509            0.003108   \n",
       "인천광역시 중구 (2811000000)          0.003407         0.480540            0.002936   \n",
       "인천광역시 중구 연안동(2811052000)       0.001914         0.461652            0.001472   \n",
       "인천광역시 중구 신포동(2811053000)       0.001481         0.495927            0.000740   \n",
       "인천광역시 중구 신흥동(2811054000)       0.002825         0.490872            0.002825   \n",
       "\n",
       "                          2019년02월_여_0세  \n",
       "행정구역                                     \n",
       "인천광역시  (2800000000)            0.003108  \n",
       "인천광역시 중구 (2811000000)          0.002936  \n",
       "인천광역시 중구 연안동(2811052000)       0.001472  \n",
       "인천광역시 중구 신포동(2811053000)       0.000740  \n",
       "인천광역시 중구 신흥동(2811054000)       0.002825  "
      ]
     },
     "execution_count": 540,
     "metadata": {},
     "output_type": "execute_result"
    }
   ],
   "source": [
    "c.index.str.contains(name).sum()\n",
    "mask = c.index.str.contains(name)\n",
    "df2 = c[mask]\n",
    "df2.head(5)"
   ]
  },
  {
   "cell_type": "code",
   "execution_count": 537,
   "metadata": {},
   "outputs": [],
   "source": [
    "import matplotlib.pyplot as plt"
   ]
  },
  {
   "cell_type": "code",
   "execution_count": 538,
   "metadata": {
    "scrolled": true
   },
   "outputs": [
    {
     "data": {
      "text/plain": [
       "<matplotlib.axes._subplots.AxesSubplot at 0x20c8f0eab38>"
      ]
     },
     "execution_count": 538,
     "metadata": {},
     "output_type": "execute_result"
    },
    {
     "data": {
      "image/png": "[encoded data removed]",
      "text/plain": [
       "<Figure size 432x288 with 1 Axes>"
      ]
     },
     "metadata": {
      "needs_background": "light"
     },
     "output_type": "display_data"
    }
   ],
   "source": [
    "plt.rc('font', family='Malgun Gothic')\n",
    "df2.T.plot()"
   ]
  },
  {
   "cell_type": "code",
   "execution_count": 546,
   "metadata": {},
   "outputs": [],
   "source": [
    "df = c \n",
    "#x = df.sub(df2.iloc[0], axis=1) # 원본에서 내가 관심있는 지역의 0번째 행을 뺀다\n",
    "x = df - df2.iloc[0]\n",
    "y = np.abs(x) #절대값\n",
    "#y = np.power(x, 2) #제곱\n",
    "z = y.sum(axis=1) #나이별 차이를 다 누적시킨다"
   ]
  },
  {
   "cell_type": "code",
   "execution_count": 547,
   "metadata": {
    "scrolled": true
   },
   "outputs": [
    {
     "data": {
      "text/plain": [
       "Index(['인천광역시  (2800000000)', '경상남도 김해시 북부동(4825055000)',\n",
       "       '울산광역시 남구 수암동(3114063500)', '충청북도 청주시 상당구 용암1동(4311172000)',\n",
       "       '경기도 안양시 만안구 (4117100000)'],\n",
       "      dtype='object', name='행정구역')"
      ]
     },
     "execution_count": 547,
     "metadata": {},
     "output_type": "execute_result"
    }
   ],
   "source": [
    "i = z.sort_values().index[:5]\n",
    "i"
   ]
  },
  {
   "cell_type": "code",
   "execution_count": 545,
   "metadata": {},
   "outputs": [
    {
     "data": {
      "text/plain": [
       "<matplotlib.axes._subplots.AxesSubplot at 0x20c8f50afd0>"
      ]
     },
     "execution_count": 545,
     "metadata": {},
     "output_type": "execute_result"
    },
    {
     "data": {
      "image/png": "[encoded data removed]",
      "text/plain": [
       "<Figure size 432x288 with 1 Axes>"
      ]
     },
     "metadata": {
      "needs_background": "light"
     },
     "output_type": "display_data"
    }
   ],
   "source": [
    "df.loc[i].T.plot() #3시 5분 시작 "
   ]
  },
  {
   "cell_type": "code",
   "execution_count": 506,
   "metadata": {},
   "outputs": [
    {
     "data": {
      "text/plain": [
       "2019년02월_계_총인구수       int32\n",
       "2019년02월_계_연령구간인구수    int32\n",
       "2019년02월_계_0세         int32\n",
       "2019년02월_남_총인구수       int32\n",
       "2019년02월_남_연령구간인구수    int32\n",
       "2019년02월_남_0세         int32\n",
       "2019년02월_여_총인구수       int32\n",
       "2019년02월_여_연령구간인구수    int32\n",
       "2019년02월_여_0세         int32\n",
       "dtype: object"
      ]
     },
     "execution_count": 506,
     "metadata": {},
     "output_type": "execute_result"
    }
   ],
   "source": [
    "a.dtypes # a.info()"
   ]
  },
  {
   "cell_type": "code",
   "execution_count": null,
   "metadata": {},
   "outputs": [],
   "source": []
  }
 ],
 "metadata": {
  "kernelspec": {
   "display_name": "Python 3",
   "language": "python",
   "name": "python3"
  },
  "language_info": {
   "codemirror_mode": {
    "name": "ipython",
    "version": 3
   },
   "file_extension": ".py",
   "mimetype": "text/x-python",
   "name": "python",
   "nbconvert_exporter": "python",
   "pygments_lexer": "ipython3",
   "version": "3.7.3"
  }
 },
 "nbformat": 4,
 "nbformat_minor": 2
}
