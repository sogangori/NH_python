{
 "cells": [
  {
   "cell_type": "markdown",
   "metadata": {},
   "source": [
    "##### unit8  인구 구조를 다양한 형태로 시각화하기"
   ]
  },
  {
   "cell_type": "code",
   "execution_count": 1,
   "metadata": {},
   "outputs": [],
   "source": [
    "import numpy as np\n",
    "import pandas as pd\n",
    "import matplotlib.pyplot as plt"
   ]
  },
  {
   "cell_type": "code",
   "execution_count": 8,
   "metadata": {},
   "outputs": [
    {
     "data": {
      "text/plain": [
       "<BarContainer object of 10 artists>"
      ]
     },
     "execution_count": 8,
     "metadata": {},
     "output_type": "execute_result"
    },
    {
     "data": {
      "image/png": "[encoded data removed]",
      "text/plain": [
       "<Figure size 360x72 with 1 Axes>"
      ]
     },
     "metadata": {
      "needs_background": "light"
     },
     "output_type": "display_data"
    }
   ],
   "source": [
    "#막대그래프 (X, Y)\n",
    "plt.figure(figsize=(5,1))\n",
    "plt.bar(np.arange(10), np.random.randint(1,10,size=10))"
   ]
  },
  {
   "cell_type": "code",
   "execution_count": 12,
   "metadata": {},
   "outputs": [
    {
     "data": {
      "text/plain": [
       "<matplotlib.legend.Legend at 0x209109f84e0>"
      ]
     },
     "execution_count": 12,
     "metadata": {},
     "output_type": "execute_result"
    },
    {
     "data": {
      "image/png": "[encoded data removed]",
      "text/plain": [
       "<Figure size 360x72 with 1 Axes>"
      ]
     },
     "metadata": {
      "needs_background": "light"
     },
     "output_type": "display_data"
    }
   ],
   "source": [
    "plt.figure(figsize=(5,1))\n",
    "plt.barh(np.arange(10), np.random.randint(1,10,size=10),label='1')#bar horizontal\n",
    "plt.barh(np.arange(10), - np.random.randint(1,10,size=10),label='2')#bar horizontal\n",
    "plt.legend()"
   ]
  },
  {
   "cell_type": "code",
   "execution_count": 144,
   "metadata": {},
   "outputs": [
    {
     "data": {
      "text/plain": [
       "(3842, 207)"
      ]
     },
     "execution_count": 144,
     "metadata": {},
     "output_type": "execute_result"
    }
   ],
   "source": [
    "#p115\n",
    "df = pd.read_csv('Chuncheon.csv', encoding='cp949')\n",
    "df = df.replace(',', '', regex=True) \n",
    "df.shape"
   ]
  },
  {
   "cell_type": "markdown",
   "metadata": {},
   "source": [
    "- 특정 도시(춘천)의 여성과 남성의 나이별 인구수 대조\n",
    "- 컬럼 위치 찾기 : 남 0세~ 남90세, 여 0세 ~ 여90세\n",
    "- 0세:10명 1세:20명.... 도시에서 모두 누적 > 막대 그래프로 표현"
   ]
  },
  {
   "cell_type": "code",
   "execution_count": 145,
   "metadata": {},
   "outputs": [
    {
     "data": {
      "text/plain": [
       "(True, False)"
      ]
     },
     "execution_count": 145,
     "metadata": {},
     "output_type": "execute_result"
    }
   ],
   "source": [
    "'a' in 'abc', 'x' in 'abc'"
   ]
  },
  {
   "cell_type": "code",
   "execution_count": 146,
   "metadata": {},
   "outputs": [
    {
     "data": {
      "text/plain": [
       "('2019년05월_여_0세', '2019년05월_여_99세')"
      ]
     },
     "execution_count": 146,
     "metadata": {},
     "output_type": "execute_result"
    }
   ],
   "source": [
    "max_age = 99\n",
    "city = '울산광역시 중구 학성동'\n",
    "man_0 = '2019년05월_남_0세'\n",
    "woman_0 = '2019년05월_여_0세'\n",
    "columns = list(df.columns)\n",
    "man_0_index = columns.index(man_0)\n",
    "woman_0_index = columns.index(woman_0)\n",
    "columns[man_0_index], columns[man_0_index + max_age]\n",
    "columns[woman_0_index],columns[woman_0_index + max_age]"
   ]
  },
  {
   "cell_type": "code",
   "execution_count": 147,
   "metadata": {},
   "outputs": [
    {
     "name": "stdout",
     "output_type": "stream",
     "text": [
      "1179 울산광역시 중구 학성동(3111051000)\n"
     ]
    }
   ],
   "source": [
    "data = np.array(df)\n",
    "area = data[:, 0]\n",
    "city_row_index = -1\n",
    "for i in range(len(area)):\n",
    "    if city in area[i]:\n",
    "        print(i, area[i])\n",
    "        city_row_index = i"
   ]
  },
  {
   "cell_type": "code",
   "execution_count": 148,
   "metadata": {},
   "outputs": [
    {
     "data": {
      "text/plain": [
       "((99,), (99,))"
      ]
     },
     "execution_count": 148,
     "metadata": {},
     "output_type": "execute_result"
    }
   ],
   "source": [
    "city_data = data[city_row_index] # 특정 도시 데이터\n",
    "city_man = city_data[man_0_index:man_0_index + max_age].astype(np.int)\n",
    "city_woman = city_data[woman_0_index:woman_0_index + max_age].astype(np.int)\n",
    "city_man.shape, city_woman.shape"
   ]
  },
  {
   "cell_type": "code",
   "execution_count": 149,
   "metadata": {
    "scrolled": true
   },
   "outputs": [
    {
     "data": {
      "image/png": "[encoded data removed]",
      "text/plain": [
       "<Figure size 576x216 with 1 Axes>"
      ]
     },
     "metadata": {
      "needs_background": "light"
     },
     "output_type": "display_data"
    }
   ],
   "source": [
    "plt.figure(figsize=(8,3))\n",
    "m = plt.barh(np.arange(len(city_man)), city_man, label='man')\n",
    "m = plt.barh(np.arange(len(city_woman)), -city_woman, label='woman')\n",
    "m = plt.legend()"
   ]
  },
  {
   "cell_type": "code",
   "execution_count": 164,
   "metadata": {},
   "outputs": [
    {
     "data": {
      "text/plain": [
       "(168, 207)"
      ]
     },
     "execution_count": 164,
     "metadata": {},
     "output_type": "execute_result"
    }
   ],
   "source": [
    "city = '인천' # 이 글자가 들어간 행은 전부 찾자, 조건부 검색, 마스크(True만 뽑기)\n",
    "is_contain = []\n",
    "for i in range(len(area)):\n",
    "    is_contain.append(city in area[i])\n",
    "\n",
    "np.mean(is_contain)\n",
    "city_data = data[is_contain]\n",
    "city_data.shape"
   ]
  },
  {
   "cell_type": "code",
   "execution_count": 165,
   "metadata": {},
   "outputs": [],
   "source": [
    "city_man = city_data[:, man_0_index:man_0_index+max_age].astype(np.int)\n",
    "city_woman = city_data[:, woman_0_index:woman_0_index+max_age].astype(np.int)\n",
    "city_man.shape, city_woman.shape\n",
    "city_man = np.sum(city_man, axis=0)\n",
    "city_woman = np.sum(city_woman, axis=0)"
   ]
  },
  {
   "cell_type": "code",
   "execution_count": 166,
   "metadata": {},
   "outputs": [
    {
     "data": {
      "image/png": "[encoded data removed]",
      "text/plain": [
       "<Figure size 576x216 with 1 Axes>"
      ]
     },
     "metadata": {
      "needs_background": "light"
     },
     "output_type": "display_data"
    }
   ],
   "source": [
    "plt.figure(figsize=(8,3))\n",
    "m = plt.barh(np.arange(len(city_man)), city_man, label='man')\n",
    "m = plt.barh(np.arange(len(city_woman)), -city_woman, label='woman')\n",
    "m = plt.legend()"
   ]
  },
  {
   "cell_type": "code",
   "execution_count": 153,
   "metadata": {},
   "outputs": [],
   "source": [
    "city_man = np.sum(city_man, axis=0)\n",
    "city_woman = np.sum(city_woman, axis=0)"
   ]
  },
  {
   "cell_type": "code",
   "execution_count": 26,
   "metadata": {},
   "outputs": [
    {
     "data": {
      "text/plain": [
       "Index(['행정구역', '2019년05월_남_총인구수', '2019년05월_남_연령구간인구수', '2019년05월_남_0세',\n",
       "       '2019년05월_남_1세', '2019년05월_남_2세', '2019년05월_남_3세', '2019년05월_남_4세',\n",
       "       '2019년05월_남_5세', '2019년05월_남_6세',\n",
       "       ...\n",
       "       '2019년05월_여_91세', '2019년05월_여_92세', '2019년05월_여_93세', '2019년05월_여_94세',\n",
       "       '2019년05월_여_95세', '2019년05월_여_96세', '2019년05월_여_97세', '2019년05월_여_98세',\n",
       "       '2019년05월_여_99세', '2019년05월_여_100세 이상'],\n",
       "      dtype='object', length=207)"
      ]
     },
     "execution_count": 26,
     "metadata": {},
     "output_type": "execute_result"
    }
   ],
   "source": [
    "df.columns"
   ]
  },
  {
   "cell_type": "code",
   "execution_count": 25,
   "metadata": {},
   "outputs": [
    {
     "data": {
      "text/html": [
       "<div>\n",
       "<style scoped>\n",
       "    .dataframe tbody tr th:only-of-type {\n",
       "        vertical-align: middle;\n",
       "    }\n",
       "\n",
       "    .dataframe tbody tr th {\n",
       "        vertical-align: top;\n",
       "    }\n",
       "\n",
       "    .dataframe thead th {\n",
       "        text-align: right;\n",
       "    }\n",
       "</style>\n",
       "<table border=\"1\" class=\"dataframe\">\n",
       "  <thead>\n",
       "    <tr style=\"text-align: right;\">\n",
       "      <th></th>\n",
       "      <th>행정구역</th>\n",
       "      <th>2019년05월_남_총인구수</th>\n",
       "      <th>2019년05월_남_연령구간인구수</th>\n",
       "      <th>2019년05월_남_0세</th>\n",
       "      <th>2019년05월_남_1세</th>\n",
       "      <th>2019년05월_남_2세</th>\n",
       "      <th>2019년05월_남_3세</th>\n",
       "      <th>2019년05월_남_4세</th>\n",
       "      <th>2019년05월_남_5세</th>\n",
       "      <th>2019년05월_남_6세</th>\n",
       "      <th>...</th>\n",
       "      <th>2019년05월_여_91세</th>\n",
       "      <th>2019년05월_여_92세</th>\n",
       "      <th>2019년05월_여_93세</th>\n",
       "      <th>2019년05월_여_94세</th>\n",
       "      <th>2019년05월_여_95세</th>\n",
       "      <th>2019년05월_여_96세</th>\n",
       "      <th>2019년05월_여_97세</th>\n",
       "      <th>2019년05월_여_98세</th>\n",
       "      <th>2019년05월_여_99세</th>\n",
       "      <th>2019년05월_여_100세 이상</th>\n",
       "    </tr>\n",
       "  </thead>\n",
       "  <tbody>\n",
       "    <tr>\n",
       "      <th>0</th>\n",
       "      <td>서울특별시  (1100000000)</td>\n",
       "      <td>4,766,085</td>\n",
       "      <td>4,766,085</td>\n",
       "      <td>27,555</td>\n",
       "      <td>29,820</td>\n",
       "      <td>32,375</td>\n",
       "      <td>35,374</td>\n",
       "      <td>36,243</td>\n",
       "      <td>35,430</td>\n",
       "      <td>37,918</td>\n",
       "      <td>...</td>\n",
       "      <td>5,447</td>\n",
       "      <td>4,224</td>\n",
       "      <td>3,122</td>\n",
       "      <td>2,294</td>\n",
       "      <td>1,937</td>\n",
       "      <td>1,752</td>\n",
       "      <td>1,254</td>\n",
       "      <td>811</td>\n",
       "      <td>632</td>\n",
       "      <td>4,526</td>\n",
       "    </tr>\n",
       "  </tbody>\n",
       "</table>\n",
       "<p>1 rows × 207 columns</p>\n",
       "</div>"
      ],
      "text/plain": [
       "                  행정구역 2019년05월_남_총인구수 2019년05월_남_연령구간인구수 2019년05월_남_0세  \\\n",
       "0  서울특별시  (1100000000)       4,766,085          4,766,085        27,555   \n",
       "\n",
       "  2019년05월_남_1세 2019년05월_남_2세 2019년05월_남_3세 2019년05월_남_4세 2019년05월_남_5세  \\\n",
       "0        29,820        32,375        35,374        36,243        35,430   \n",
       "\n",
       "  2019년05월_남_6세  ... 2019년05월_여_91세 2019년05월_여_92세 2019년05월_여_93세  \\\n",
       "0        37,918  ...          5,447          4,224          3,122   \n",
       "\n",
       "  2019년05월_여_94세 2019년05월_여_95세 2019년05월_여_96세 2019년05월_여_97세 2019년05월_여_98세  \\\n",
       "0          2,294          1,937          1,752          1,254            811   \n",
       "\n",
       "  2019년05월_여_99세 2019년05월_여_100세 이상  \n",
       "0            632              4,526  \n",
       "\n",
       "[1 rows x 207 columns]"
      ]
     },
     "execution_count": 25,
     "metadata": {},
     "output_type": "execute_result"
    }
   ],
   "source": [
    "df.head(1)"
   ]
  },
  {
   "cell_type": "code",
   "execution_count": 17,
   "metadata": {},
   "outputs": [
    {
     "data": {
      "text/plain": [
       "Index(['행정구역', '2019년05월_남_총인구수', '2019년05월_남_연령구간인구수', '2019년05월_남_0세',\n",
       "       '2019년05월_남_1세', '2019년05월_남_2세', '2019년05월_남_3세', '2019년05월_남_4세',\n",
       "       '2019년05월_남_5세', '2019년05월_남_6세',\n",
       "       ...\n",
       "       '2019년05월_여_91세', '2019년05월_여_92세', '2019년05월_여_93세', '2019년05월_여_94세',\n",
       "       '2019년05월_여_95세', '2019년05월_여_96세', '2019년05월_여_97세', '2019년05월_여_98세',\n",
       "       '2019년05월_여_99세', '2019년05월_여_100세 이상'],\n",
       "      dtype='object', length=207)"
      ]
     },
     "execution_count": 17,
     "metadata": {},
     "output_type": "execute_result"
    }
   ],
   "source": [
    "df.columns"
   ]
  },
  {
   "cell_type": "code",
   "execution_count": null,
   "metadata": {},
   "outputs": [],
   "source": []
  }
 ],
 "metadata": {
  "kernelspec": {
   "display_name": "Python 3",
   "language": "python",
   "name": "python3"
  },
  "language_info": {
   "codemirror_mode": {
    "name": "ipython",
    "version": 3
   },
   "file_extension": ".py",
   "mimetype": "text/x-python",
   "name": "python",
   "nbconvert_exporter": "python",
   "pygments_lexer": "ipython3",
   "version": "3.7.3"
  }
 },
 "nbformat": 4,
 "nbformat_minor": 2
}
